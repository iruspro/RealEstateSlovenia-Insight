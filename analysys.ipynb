{
 "cells": [
  {
   "cell_type": "markdown",
   "id": "c54b67c9-d8d1-4322-9274-88a1cd0e83ae",
   "metadata": {},
   "source": [
    "# Vpogled v nepremičnine: Analiza slovenskega nepremičninskega trga"
   ]
  },
  {
   "cell_type": "markdown",
   "id": "2108cf63-47a1-43e5-a942-f5b9002fc899",
   "metadata": {},
   "source": [
    "Ta projekt si prizadeva zagotoviti poglobljeno analizo slovenskega nepremičninskega trga, s poudarkom na prodaji in dolgoročnem najemu. Podatki za to analizo so bili pridobljeni s spletnega mesta https://www.nepremicnine.net/, ki zajema širok spekter nepremičninskih oglasov.\n",
    "\n",
    "Z uporabo knjižnice Pandas v programskem jeziku Python znotraj okolja Jupyter Notebook bo projekt raziskal ključne tržne trende, cenovne vzorce in geografsko razporeditev nepremičnin. S pomočjo vizualizacije teh podatkov in izvedbe statističnih analiz bo projekt poskušal ponuditi dragocene vpoglede v dinamiko slovenskega nepremičninskega trga, kar bi lahko pomagalo kupcem, najemnikom in vlagateljem pri sprejemanju premišljenih odločitev."
   ]
  },
  {
   "cell_type": "markdown",
   "id": "15cf0dc5-c206-4211-a87c-bdfec7f73bd9",
   "metadata": {},
   "source": [
    "# Vsebina\n",
    "1. [Pregled trga](#Pregled-trga)\n",
    "   - [Razporeditev oglasov po tipih (prodaja/oddaja)](#Razporeditev-oglasov-po-tipih-(prodaja/oddaja))\n",
    "   - [Razporeditev oglasov po tipu nepremičnine (hiša/stanovanje)](#Razporeditev-oglasov-po-tipu-nepremičnine-(hiša/stanovanje))\n",
    "   - [Geografska razporeditev](#Geografska-razporeditev)\n",
    "2. [Analiza cen](#Analiza-cen)\n",
    "   - [Razporeditev cen](#Razporeditev-cen)\n",
    "     - [Razporeditev cen (prodaja)](#Razporeditev-cen-(prodaja))\n",
    "     - [Razporeditev cen (oddaja)](#Razporeditev-cen-(oddaja))\n",
    "   - [Povprečne in mediane cene](#Povprečne-in-mediane-cene)\n",
    "     - [Povprečne in mediane cene (prodaja)](#Povprečne-in-mediane-cene-(prodaja))\n",
    "     - [Povprečne in mediane cene (oddaja)](#Povprečne-in-mediane-cene-(oddaja))\n",
    "   - [Regionalne razlike v cenah](#Regionalne-razlike-v-cenah)\n",
    "     - [Regionalne razlike v cenah (prodaja)](#Regionalne-razlike-v-cenah-(prodaja))\n",
    "     - [Regionalne razlike v cenah (oddaja)](#Regionalne-razlike-v-cenah-(oddaja))\n",
    "3. [Analiza značilnosti nepremičnin](#Poglavje-3)\n",
    "   - [Leto gradnje](#Leto-gradnje)\n",
    "     "
   ]
  },
  {
   "cell_type": "markdown",
   "id": "6fb40a4b-1d78-4a50-9442-7adcf92ae6a4",
   "metadata": {},
   "source": [
    "### Uvoz podatkov in prilagoditev"
   ]
  },
  {
   "cell_type": "code",
   "execution_count": 406,
   "id": "010a3842-c8e2-4855-9375-cdc42dad049c",
   "metadata": {},
   "outputs": [],
   "source": [
    "import pandas as pd\n",
    "import numpy as np\n",
    "import seaborn as sbn\n",
    "import matplotlib.pyplot as plt\n",
    "\n",
    "df = pd.read_csv('data/ads.csv', index_col='ad_id')\n",
    "sell_df = df[df['ad_type'] == 'prodaja']\n",
    "rent_df = df[df['ad_type'] == 'oddaja']\n",
    "pd.options.display.max_rows = 20"
   ]
  },
  {
   "cell_type": "code",
   "execution_count": 277,
   "id": "21a177b7-6005-4ebe-9524-41f48f0e55c1",
   "metadata": {},
   "outputs": [
    {
     "name": "stdout",
     "output_type": "stream",
     "text": [
      "<class 'pandas.core.frame.DataFrame'>\n",
      "Index: 7535 entries, 6832201 to 6732170\n",
      "Data columns (total 11 columns):\n",
      " #   Column            Non-Null Count  Dtype  \n",
      "---  ------            --------------  -----  \n",
      " 0   ad_type           7535 non-null   object \n",
      " 1   real_estate_type  7535 non-null   object \n",
      " 2   region            7535 non-null   object \n",
      " 3   city              7535 non-null   object \n",
      " 4   type              7535 non-null   object \n",
      " 5   living_area       7535 non-null   float64\n",
      " 6   land_area         3613 non-null   float64\n",
      " 7   floor             5726 non-null   object \n",
      " 8   building_year     7535 non-null   int64  \n",
      " 9   price             7535 non-null   float64\n",
      " 10  seller            7535 non-null   object \n",
      "dtypes: float64(3), int64(1), object(7)\n",
      "memory usage: 706.4+ KB\n"
     ]
    },
    {
     "data": {
      "text/html": [
       "<div>\n",
       "<style scoped>\n",
       "    .dataframe tbody tr th:only-of-type {\n",
       "        vertical-align: middle;\n",
       "    }\n",
       "\n",
       "    .dataframe tbody tr th {\n",
       "        vertical-align: top;\n",
       "    }\n",
       "\n",
       "    .dataframe thead th {\n",
       "        text-align: right;\n",
       "    }\n",
       "</style>\n",
       "<table border=\"1\" class=\"dataframe\">\n",
       "  <thead>\n",
       "    <tr style=\"text-align: right;\">\n",
       "      <th></th>\n",
       "      <th>ad_type</th>\n",
       "      <th>real_estate_type</th>\n",
       "      <th>region</th>\n",
       "      <th>city</th>\n",
       "      <th>type</th>\n",
       "      <th>living_area</th>\n",
       "      <th>land_area</th>\n",
       "      <th>floor</th>\n",
       "      <th>building_year</th>\n",
       "      <th>price</th>\n",
       "      <th>seller</th>\n",
       "    </tr>\n",
       "    <tr>\n",
       "      <th>ad_id</th>\n",
       "      <th></th>\n",
       "      <th></th>\n",
       "      <th></th>\n",
       "      <th></th>\n",
       "      <th></th>\n",
       "      <th></th>\n",
       "      <th></th>\n",
       "      <th></th>\n",
       "      <th></th>\n",
       "      <th></th>\n",
       "      <th></th>\n",
       "    </tr>\n",
       "  </thead>\n",
       "  <tbody>\n",
       "    <tr>\n",
       "      <th>6832201</th>\n",
       "      <td>prodaja</td>\n",
       "      <td>stanovanje</td>\n",
       "      <td>ljubljana mesto</td>\n",
       "      <td>ljubljana</td>\n",
       "      <td>2-sobno</td>\n",
       "      <td>53.0</td>\n",
       "      <td>NaN</td>\n",
       "      <td>1/2</td>\n",
       "      <td>1981</td>\n",
       "      <td>185000.0</td>\n",
       "      <td>baza agencija d.o.o.</td>\n",
       "    </tr>\n",
       "    <tr>\n",
       "      <th>6842595</th>\n",
       "      <td>prodaja</td>\n",
       "      <td>stanovanje</td>\n",
       "      <td>ljubljana mesto</td>\n",
       "      <td>ljubljana</td>\n",
       "      <td>3-sobno</td>\n",
       "      <td>54.3</td>\n",
       "      <td>NaN</td>\n",
       "      <td>1/2</td>\n",
       "      <td>1880</td>\n",
       "      <td>185000.0</td>\n",
       "      <td>mesto nepremičnin d.o.o.</td>\n",
       "    </tr>\n",
       "    <tr>\n",
       "      <th>6832191</th>\n",
       "      <td>prodaja</td>\n",
       "      <td>stanovanje</td>\n",
       "      <td>ljubljana mesto</td>\n",
       "      <td>ljubljana</td>\n",
       "      <td>2-sobno</td>\n",
       "      <td>56.2</td>\n",
       "      <td>NaN</td>\n",
       "      <td>1/2</td>\n",
       "      <td>1981</td>\n",
       "      <td>213500.0</td>\n",
       "      <td>baza agencija d.o.o.</td>\n",
       "    </tr>\n",
       "    <tr>\n",
       "      <th>6735065</th>\n",
       "      <td>prodaja</td>\n",
       "      <td>stanovanje</td>\n",
       "      <td>ljubljana mesto</td>\n",
       "      <td>ljubljana</td>\n",
       "      <td>2-sobno</td>\n",
       "      <td>57.3</td>\n",
       "      <td>NaN</td>\n",
       "      <td>9</td>\n",
       "      <td>1965</td>\n",
       "      <td>279000.0</td>\n",
       "      <td>aeon nepremičnine, d.o.o.</td>\n",
       "    </tr>\n",
       "    <tr>\n",
       "      <th>6758505</th>\n",
       "      <td>prodaja</td>\n",
       "      <td>stanovanje</td>\n",
       "      <td>ljubljana mesto</td>\n",
       "      <td>ljubljana</td>\n",
       "      <td>2,5-sobno</td>\n",
       "      <td>59.4</td>\n",
       "      <td>NaN</td>\n",
       "      <td>3/3</td>\n",
       "      <td>1926</td>\n",
       "      <td>279000.0</td>\n",
       "      <td>print trade d.o.o.</td>\n",
       "    </tr>\n",
       "  </tbody>\n",
       "</table>\n",
       "</div>"
      ],
      "text/plain": [
       "         ad_type real_estate_type           region       city       type  \\\n",
       "ad_id                                                                      \n",
       "6832201  prodaja       stanovanje  ljubljana mesto  ljubljana    2-sobno   \n",
       "6842595  prodaja       stanovanje  ljubljana mesto  ljubljana    3-sobno   \n",
       "6832191  prodaja       stanovanje  ljubljana mesto  ljubljana    2-sobno   \n",
       "6735065  prodaja       stanovanje  ljubljana mesto  ljubljana    2-sobno   \n",
       "6758505  prodaja       stanovanje  ljubljana mesto  ljubljana  2,5-sobno   \n",
       "\n",
       "         living_area  land_area floor  building_year     price  \\\n",
       "ad_id                                                            \n",
       "6832201         53.0        NaN   1/2           1981  185000.0   \n",
       "6842595         54.3        NaN   1/2           1880  185000.0   \n",
       "6832191         56.2        NaN   1/2           1981  213500.0   \n",
       "6735065         57.3        NaN     9           1965  279000.0   \n",
       "6758505         59.4        NaN   3/3           1926  279000.0   \n",
       "\n",
       "                            seller  \n",
       "ad_id                               \n",
       "6832201       baza agencija d.o.o.  \n",
       "6842595   mesto nepremičnin d.o.o.  \n",
       "6832191       baza agencija d.o.o.  \n",
       "6735065  aeon nepremičnine, d.o.o.  \n",
       "6758505         print trade d.o.o.  "
      ]
     },
     "execution_count": 277,
     "metadata": {},
     "output_type": "execute_result"
    }
   ],
   "source": [
    "df.info()\n",
    "df.head()"
   ]
  },
  {
   "cell_type": "markdown",
   "id": "e03dfe35-bf3d-44e7-b486-8a5fc1ce41d4",
   "metadata": {},
   "source": [
    "***\n",
    "# Pregled trga"
   ]
  },
  {
   "cell_type": "markdown",
   "id": "d8a9e5db-2a47-4bc9-9b2e-4b79c903ce8d",
   "metadata": {},
   "source": [
    "Ta razdelek zagotavlja pregled trga nepremičnin z analizo razporeditve oglasov po tipu (prodaja ali oddaja), tipu nepremičnine (hiša ali stanovanje) in geografski lokaciji. Razumevanje teh razporeditev pomaga pri prepoznavanju ključnih tržnih trendov in relativne razpoložljivosti različnih vrst nepremičnin v različnih regijah."
   ]
  },
  {
   "cell_type": "markdown",
   "id": "02eb0636-3927-4ebc-b32f-97ab55aacd2c",
   "metadata": {},
   "source": [
    "## Razporeditev oglasov po tipih (prodaja/oddaja)"
   ]
  },
  {
   "cell_type": "markdown",
   "id": "abaabe9b-fe6d-44cc-a2ee-045ac4b3cf13",
   "metadata": {},
   "source": [
    "Najprej si oglejmo razmerje med oglasi za prodajo in oddajo. Podatke bomo vizualizirali, da bomo videli, kako je trg razdeljen med tema dvema kategorijama."
   ]
  },
  {
   "cell_type": "code",
   "execution_count": 278,
   "id": "7cb8544a-4867-4fc6-9590-b286be1f4174",
   "metadata": {},
   "outputs": [
    {
     "data": {
      "text/plain": [
       "<Axes: title={'center': 'Razporeditev oglasov po tipih (prodaja/oddaja)'}>"
      ]
     },
     "execution_count": 278,
     "metadata": {},
     "output_type": "execute_result"
    },
    {
     "data": {
      "image/png": "[encoded data removed]",
      "text/plain": [
       "<Figure size 640x480 with 1 Axes>"
      ]
     },
     "metadata": {},
     "output_type": "display_data"
    }
   ],
   "source": [
    "df['ad_type'].value_counts().plot.pie(\n",
    "    title='Razporeditev oglasov po tipih (prodaja/oddaja)',\n",
    "    labels=['Prodaja', 'Oddaja'],\n",
    "    autopct='%.2f%%',\n",
    "    shadow=True,        \n",
    "    ylabel='',    \n",
    ")"
   ]
  },
  {
   "cell_type": "code",
   "execution_count": 279,
   "id": "321ab833-2b01-49fb-994f-9069bf3dda79",
   "metadata": {},
   "outputs": [
    {
     "data": {
      "text/plain": [
       "ad_type\n",
       "prodaja    6239\n",
       "oddaja     1296\n",
       "Name: count, dtype: int64"
      ]
     },
     "execution_count": 279,
     "metadata": {},
     "output_type": "execute_result"
    }
   ],
   "source": [
    "df['ad_type'].value_counts()"
   ]
  },
  {
   "cell_type": "markdown",
   "id": "26d3eb61-e020-4272-8ec5-e9e7e4a017d6",
   "metadata": {},
   "source": [
    "## Razporeditev oglasov po tipu nepremičnine (hiša/stanovanje)"
   ]
  },
  {
   "cell_type": "markdown",
   "id": "271535ad-058d-4996-8f65-11ffda6c51a7",
   "metadata": {},
   "source": [
    "Zdaj si oglejmo razporeditev oglasov med hišami in stanovanji. Ta analiza nam bo pomagala razumeti relativno razpoložljivost različnih vrst nepremičnin na trgu in ali obstaja prednost enega tipa pred drugim."
   ]
  },
  {
   "cell_type": "code",
   "execution_count": 280,
   "id": "3103429e-3c0e-4a37-9d71-b1ea9d706e0f",
   "metadata": {},
   "outputs": [
    {
     "data": {
      "text/plain": [
       "<Axes: title={'center': 'Razporeditev oglasov po tipu nepremičnine (hiša/stanovanje)'}>"
      ]
     },
     "execution_count": 280,
     "metadata": {},
     "output_type": "execute_result"
    },
    {
     "data": {
      "image/png": "[encoded data removed]",
      "text/plain": [
       "<Figure size 640x480 with 1 Axes>"
      ]
     },
     "metadata": {},
     "output_type": "display_data"
    }
   ],
   "source": [
    "df.groupby('real_estate_type').size().plot.pie(\n",
    "    title='Razporeditev oglasov po tipu nepremičnine (hiša/stanovanje)',\n",
    "    autopct='%.2f%%',\n",
    "    shadow=True,        \n",
    "    ylabel='',    \n",
    ")"
   ]
  },
  {
   "cell_type": "code",
   "execution_count": 281,
   "id": "89a1d346-6b4c-4daf-aec2-5e46e61e57d8",
   "metadata": {},
   "outputs": [
    {
     "data": {
      "text/plain": [
       "real_estate_type\n",
       "stanovanje    4153\n",
       "hiša          3382\n",
       "Name: count, dtype: int64"
      ]
     },
     "execution_count": 281,
     "metadata": {},
     "output_type": "execute_result"
    }
   ],
   "source": [
    "df['real_estate_type'].value_counts()"
   ]
  },
  {
   "cell_type": "markdown",
   "id": "265a8414-c645-49df-8335-097285187159",
   "metadata": {},
   "source": [
    "Oglejmo si tudi razporeditev oglasov po tipu oglasa (prodaja/oddaja) in tipu nepremičnine (hiša/stanovanje) hkrati."
   ]
  },
  {
   "cell_type": "code",
   "execution_count": 282,
   "id": "8e86db43-3e90-40a6-b839-3679f1ea21c7",
   "metadata": {},
   "outputs": [
    {
     "data": {
      "text/plain": [
       "<Axes: title={'center': 'Razporeditev oglasov po tipu oglasa (prodaja/oddaja) in tipu nepremičnine (hiša/stanovanje)'}>"
      ]
     },
     "execution_count": 282,
     "metadata": {},
     "output_type": "execute_result"
    },
    {
     "data": {
      "image/png": "[encoded data removed]",
      "text/plain": [
       "<Figure size 640x480 with 1 Axes>"
      ]
     },
     "metadata": {},
     "output_type": "display_data"
    }
   ],
   "source": [
    "df[['ad_type', 'real_estate_type']].value_counts().plot.pie(\n",
    "    title='Razporeditev oglasov po tipu oglasa (prodaja/oddaja) in tipu nepremičnine (hiša/stanovanje)',\n",
    "    autopct='%.2f%%',\n",
    "    shadow=True,        \n",
    "    ylabel='',    \n",
    ")"
   ]
  },
  {
   "cell_type": "code",
   "execution_count": 283,
   "id": "35f4440d-c6ea-4e19-9dfe-9cce9e659937",
   "metadata": {},
   "outputs": [
    {
     "data": {
      "text/plain": [
       "ad_type  real_estate_type\n",
       "prodaja  hiša                3244\n",
       "         stanovanje          2995\n",
       "oddaja   stanovanje          1158\n",
       "         hiša                 138\n",
       "Name: count, dtype: int64"
      ]
     },
     "execution_count": 283,
     "metadata": {},
     "output_type": "execute_result"
    }
   ],
   "source": [
    "df[['ad_type', 'real_estate_type']].value_counts()"
   ]
  },
  {
   "cell_type": "markdown",
   "id": "7f420b6e-cf20-46f0-93b2-77de4d3d9c10",
   "metadata": {},
   "source": [
    "## Geografska razporeditev"
   ]
  },
  {
   "cell_type": "markdown",
   "id": "e66a2d41-fd30-4850-b297-6a0ed470e364",
   "metadata": {},
   "source": [
    "Zdaj bomo prikazali razporeditev nepremičninskih oglasov po različnih regijah. Ta geografska analiza bo razkrila območja z visoko koncentracijo oglasov, kar lahko kaže na vroče točke trga ali razlike v razpoložljivosti nepremičnin."
   ]
  },
  {
   "cell_type": "code",
   "execution_count": 284,
   "id": "027fed30-438e-4b84-a3c7-a4f3ee744c34",
   "metadata": {},
   "outputs": [
    {
     "data": {
      "text/plain": [
       "<Axes: title={'center': 'Geografska razporeditev'}, ylabel='region'>"
      ]
     },
     "execution_count": 284,
     "metadata": {},
     "output_type": "execute_result"
    },
    {
     "data": {
      "image/png": "[encoded data removed]",
      "text/plain": [
       "<Figure size 640x480 with 1 Axes>"
      ]
     },
     "metadata": {},
     "output_type": "display_data"
    }
   ],
   "source": [
    "df['region'].value_counts().plot.barh(\n",
    "    title=\"Geografska razporeditev\"\n",
    ")"
   ]
  },
  {
   "cell_type": "code",
   "execution_count": 285,
   "id": "cdf8ccb2-07be-4894-8c0d-5f183a0d9d68",
   "metadata": {},
   "outputs": [
    {
     "data": {
      "text/plain": [
       "region\n",
       "ljubljana mesto      1710\n",
       "podravska            1116\n",
       "juzna primorska       876\n",
       "ljubljana okolica     866\n",
       "savinjska             840\n",
       "gorenjska             623\n",
       "dolenjska             371\n",
       "pomurska              316\n",
       "severna primorska     264\n",
       "posavska              205\n",
       "koroska               158\n",
       "notranjska            122\n",
       "zasavska               68\n",
       "Name: count, dtype: int64"
      ]
     },
     "execution_count": 285,
     "metadata": {},
     "output_type": "execute_result"
    }
   ],
   "source": [
    "df['region'].value_counts()"
   ]
  },
  {
   "cell_type": "markdown",
   "id": "b64ed232-6259-49e9-89bd-011340feef63",
   "metadata": {},
   "source": [
    "## Sklep"
   ]
  },
  {
   "cell_type": "markdown",
   "id": "efabd4d4-0ef4-4ef7-8be5-fa7e54cbc4f4",
   "metadata": {},
   "source": [
    "Po kratkem pregledu trga lahko zaključimo, da na njem prevladujejo oglasi za prodajo nepremičnin. Pri tem je razdelitev med prodajo stanovanj in hiš enaka, medtem ko se veliko več stanovanj oddaja v najem.\n",
    "\n",
    "Če pogledamo razporeditev po regijah, je vidno, da je največ ponudb v Ljubljani."
   ]
  },
  {
   "cell_type": "markdown",
   "id": "8024ba43-57c7-4a57-b6f6-75bb37e95b8a",
   "metadata": {},
   "source": [
    "***\n",
    "# Analiza cen"
   ]
  },
  {
   "cell_type": "markdown",
   "id": "f0e0a461-07e8-4d8a-ae19-1d8b79a0f7c9",
   "metadata": {},
   "source": [
    "V tem razdelku bomo analizirali razporeditev in trende cen nepremičnin. To vključuje preučevanje splošne razporeditve cen, izračun povprečnih in medianih cen za različne tipe nepremičnin ter raziskovanje, kako se cene razlikujejo glede na regijo. Prav tako bomo raziskali razmerje med ceno in značilnostmi nepremičnin, kot so površina in število sob.\n",
    "\n",
    "Posebej si bomo ogledali tudi specifične nepremičnine: samostojne hiše in 2-3 sobna stanovanja za prodajo, saj so po skromnem mnenju avtorja to najboljše nepremičnine za nakup, ter sobe, garsonjere in enosobna stanovanja za najem, saj so najbolj primerna za najem študentom."
   ]
  },
  {
   "cell_type": "markdown",
   "id": "620ff9ca-598c-442b-94a0-e4b9ae7aca84",
   "metadata": {},
   "source": [
    "## Razporeditev cen"
   ]
  },
  {
   "cell_type": "markdown",
   "id": "463099b6-f15e-4dde-bf5e-ffaeafeb8b01",
   "metadata": {},
   "source": [
    "Najprej bomo preučili splošno razporeditev cen nepremičnin. To vključuje vizualizacijo razporeditve cen na trgu in razumevanje splošnega cenovnega razpona za prodajo in oddajo. Ta analiza zagotavlja osnovo za globlje vpoglede v cenovne trende."
   ]
  },
  {
   "cell_type": "markdown",
   "id": "ea1f07d4-3b59-446e-92c0-84134505def8",
   "metadata": {},
   "source": [
    "### Razporeditev cen (prodaja)"
   ]
  },
  {
   "cell_type": "markdown",
   "id": "fbfc287e-125f-4e93-8845-b27bff477b03",
   "metadata": {},
   "source": [
    "Za začetek si oglejmo 5 najdražjih in 5 najcenejših ponudb:"
   ]
  },
  {
   "cell_type": "code",
   "execution_count": 286,
   "id": "cc1af08f-e132-457e-8c7c-97ccb21c32b7",
   "metadata": {},
   "outputs": [
    {
     "data": {
      "text/html": [
       "<div>\n",
       "<style scoped>\n",
       "    .dataframe tbody tr th:only-of-type {\n",
       "        vertical-align: middle;\n",
       "    }\n",
       "\n",
       "    .dataframe tbody tr th {\n",
       "        vertical-align: top;\n",
       "    }\n",
       "\n",
       "    .dataframe thead th {\n",
       "        text-align: right;\n",
       "    }\n",
       "</style>\n",
       "<table border=\"1\" class=\"dataframe\">\n",
       "  <thead>\n",
       "    <tr style=\"text-align: right;\">\n",
       "      <th></th>\n",
       "      <th>ad_type</th>\n",
       "      <th>real_estate_type</th>\n",
       "      <th>region</th>\n",
       "      <th>city</th>\n",
       "      <th>type</th>\n",
       "      <th>living_area</th>\n",
       "      <th>land_area</th>\n",
       "      <th>floor</th>\n",
       "      <th>building_year</th>\n",
       "      <th>price</th>\n",
       "      <th>seller</th>\n",
       "    </tr>\n",
       "    <tr>\n",
       "      <th>ad_id</th>\n",
       "      <th></th>\n",
       "      <th></th>\n",
       "      <th></th>\n",
       "      <th></th>\n",
       "      <th></th>\n",
       "      <th></th>\n",
       "      <th></th>\n",
       "      <th></th>\n",
       "      <th></th>\n",
       "      <th></th>\n",
       "      <th></th>\n",
       "    </tr>\n",
       "  </thead>\n",
       "  <tbody>\n",
       "    <tr>\n",
       "      <th>6826989</th>\n",
       "      <td>prodaja</td>\n",
       "      <td>hiša</td>\n",
       "      <td>ljubljana mesto</td>\n",
       "      <td>ljubljana</td>\n",
       "      <td>samostojna</td>\n",
       "      <td>474.88</td>\n",
       "      <td>870.0</td>\n",
       "      <td>p+1+2</td>\n",
       "      <td>2024</td>\n",
       "      <td>4161000.0</td>\n",
       "      <td>baza agencija d.o.o.</td>\n",
       "    </tr>\n",
       "    <tr>\n",
       "      <th>6827424</th>\n",
       "      <td>prodaja</td>\n",
       "      <td>hiša</td>\n",
       "      <td>gorenjska</td>\n",
       "      <td>kranjska gora</td>\n",
       "      <td>drugo</td>\n",
       "      <td>670.00</td>\n",
       "      <td>470.0</td>\n",
       "      <td>NaN</td>\n",
       "      <td>2020</td>\n",
       "      <td>3950000.0</td>\n",
       "      <td>dom real d.o.o.</td>\n",
       "    </tr>\n",
       "    <tr>\n",
       "      <th>6589216</th>\n",
       "      <td>prodaja</td>\n",
       "      <td>stanovanje</td>\n",
       "      <td>ljubljana mesto</td>\n",
       "      <td>ljubljana</td>\n",
       "      <td>5 in večsobno</td>\n",
       "      <td>390.30</td>\n",
       "      <td>NaN</td>\n",
       "      <td>6/7</td>\n",
       "      <td>2022</td>\n",
       "      <td>3932029.0</td>\n",
       "      <td>ab nepremičnine, agencija za posredovanje v pr...</td>\n",
       "    </tr>\n",
       "    <tr>\n",
       "      <th>6570641</th>\n",
       "      <td>prodaja</td>\n",
       "      <td>hiša</td>\n",
       "      <td>juzna primorska</td>\n",
       "      <td>malija</td>\n",
       "      <td>samostojna</td>\n",
       "      <td>1744.00</td>\n",
       "      <td>33103.0</td>\n",
       "      <td>k+p+1</td>\n",
       "      <td>2007</td>\n",
       "      <td>3900000.0</td>\n",
       "      <td>aeon nepremičnine, d.o.o.</td>\n",
       "    </tr>\n",
       "    <tr>\n",
       "      <th>6824859</th>\n",
       "      <td>prodaja</td>\n",
       "      <td>hiša</td>\n",
       "      <td>severna primorska</td>\n",
       "      <td>kneža</td>\n",
       "      <td>drugo</td>\n",
       "      <td>760.00</td>\n",
       "      <td>28600.0</td>\n",
       "      <td>k+p+1+2/k+p+1+2</td>\n",
       "      <td>1988</td>\n",
       "      <td>3800000.0</td>\n",
       "      <td>zasebna ponudba</td>\n",
       "    </tr>\n",
       "  </tbody>\n",
       "</table>\n",
       "</div>"
      ],
      "text/plain": [
       "         ad_type real_estate_type             region           city  \\\n",
       "ad_id                                                                 \n",
       "6826989  prodaja             hiša    ljubljana mesto      ljubljana   \n",
       "6827424  prodaja             hiša          gorenjska  kranjska gora   \n",
       "6589216  prodaja       stanovanje    ljubljana mesto      ljubljana   \n",
       "6570641  prodaja             hiša    juzna primorska         malija   \n",
       "6824859  prodaja             hiša  severna primorska          kneža   \n",
       "\n",
       "                  type  living_area  land_area            floor  \\\n",
       "ad_id                                                             \n",
       "6826989     samostojna       474.88      870.0            p+1+2   \n",
       "6827424          drugo       670.00      470.0              NaN   \n",
       "6589216  5 in večsobno       390.30        NaN              6/7   \n",
       "6570641     samostojna      1744.00    33103.0            k+p+1   \n",
       "6824859          drugo       760.00    28600.0  k+p+1+2/k+p+1+2   \n",
       "\n",
       "         building_year      price  \\\n",
       "ad_id                               \n",
       "6826989           2024  4161000.0   \n",
       "6827424           2020  3950000.0   \n",
       "6589216           2022  3932029.0   \n",
       "6570641           2007  3900000.0   \n",
       "6824859           1988  3800000.0   \n",
       "\n",
       "                                                    seller  \n",
       "ad_id                                                       \n",
       "6826989                               baza agencija d.o.o.  \n",
       "6827424                                    dom real d.o.o.  \n",
       "6589216  ab nepremičnine, agencija za posredovanje v pr...  \n",
       "6570641                          aeon nepremičnine, d.o.o.  \n",
       "6824859                                    zasebna ponudba  "
      ]
     },
     "execution_count": 286,
     "metadata": {},
     "output_type": "execute_result"
    }
   ],
   "source": [
    "sell_df.sort_values('price', ascending=False).head(5)"
   ]
  },
  {
   "cell_type": "code",
   "execution_count": 287,
   "id": "004634fc-be9a-4add-8b72-9b33a8a0c007",
   "metadata": {},
   "outputs": [
    {
     "data": {
      "text/html": [
       "<div>\n",
       "<style scoped>\n",
       "    .dataframe tbody tr th:only-of-type {\n",
       "        vertical-align: middle;\n",
       "    }\n",
       "\n",
       "    .dataframe tbody tr th {\n",
       "        vertical-align: top;\n",
       "    }\n",
       "\n",
       "    .dataframe thead th {\n",
       "        text-align: right;\n",
       "    }\n",
       "</style>\n",
       "<table border=\"1\" class=\"dataframe\">\n",
       "  <thead>\n",
       "    <tr style=\"text-align: right;\">\n",
       "      <th></th>\n",
       "      <th>ad_type</th>\n",
       "      <th>real_estate_type</th>\n",
       "      <th>region</th>\n",
       "      <th>city</th>\n",
       "      <th>type</th>\n",
       "      <th>living_area</th>\n",
       "      <th>land_area</th>\n",
       "      <th>floor</th>\n",
       "      <th>building_year</th>\n",
       "      <th>price</th>\n",
       "      <th>seller</th>\n",
       "    </tr>\n",
       "    <tr>\n",
       "      <th>ad_id</th>\n",
       "      <th></th>\n",
       "      <th></th>\n",
       "      <th></th>\n",
       "      <th></th>\n",
       "      <th></th>\n",
       "      <th></th>\n",
       "      <th></th>\n",
       "      <th></th>\n",
       "      <th></th>\n",
       "      <th></th>\n",
       "      <th></th>\n",
       "    </tr>\n",
       "  </thead>\n",
       "  <tbody>\n",
       "    <tr>\n",
       "      <th>6550925</th>\n",
       "      <td>prodaja</td>\n",
       "      <td>hiša</td>\n",
       "      <td>gorenjska</td>\n",
       "      <td>bohinjska bistrica</td>\n",
       "      <td>samostojna</td>\n",
       "      <td>13.66</td>\n",
       "      <td>44.05</td>\n",
       "      <td>NaN</td>\n",
       "      <td>1945</td>\n",
       "      <td>14500.0</td>\n",
       "      <td>sdh, d.d.</td>\n",
       "    </tr>\n",
       "    <tr>\n",
       "      <th>6835049</th>\n",
       "      <td>prodaja</td>\n",
       "      <td>hiša</td>\n",
       "      <td>dolenjska</td>\n",
       "      <td>rajhenav</td>\n",
       "      <td>drugo</td>\n",
       "      <td>55.20</td>\n",
       "      <td>320.00</td>\n",
       "      <td>NaN</td>\n",
       "      <td>1958</td>\n",
       "      <td>15000.0</td>\n",
       "      <td>zavod za gozdove slovenije</td>\n",
       "    </tr>\n",
       "    <tr>\n",
       "      <th>6748385</th>\n",
       "      <td>prodaja</td>\n",
       "      <td>hiša</td>\n",
       "      <td>pomurska</td>\n",
       "      <td>lončarovci</td>\n",
       "      <td>samostojna</td>\n",
       "      <td>55.60</td>\n",
       "      <td>1663.00</td>\n",
       "      <td>NaN</td>\n",
       "      <td>1923</td>\n",
       "      <td>19000.0</td>\n",
       "      <td>nepremičnine djm, posredništvo, mirjana kouter...</td>\n",
       "    </tr>\n",
       "    <tr>\n",
       "      <th>6821318</th>\n",
       "      <td>prodaja</td>\n",
       "      <td>hiša</td>\n",
       "      <td>pomurska</td>\n",
       "      <td>čentiba</td>\n",
       "      <td>samostojna</td>\n",
       "      <td>76.00</td>\n",
       "      <td>2772.00</td>\n",
       "      <td>k+p+m</td>\n",
       "      <td>1990</td>\n",
       "      <td>19000.0</td>\n",
       "      <td>zasebna ponudba</td>\n",
       "    </tr>\n",
       "    <tr>\n",
       "      <th>6840678</th>\n",
       "      <td>prodaja</td>\n",
       "      <td>hiša</td>\n",
       "      <td>podravska</td>\n",
       "      <td>podgorci</td>\n",
       "      <td>samostojna</td>\n",
       "      <td>100.00</td>\n",
       "      <td>185.00</td>\n",
       "      <td>NaN</td>\n",
       "      <td>1980</td>\n",
       "      <td>19999.0</td>\n",
       "      <td>zasebna ponudba</td>\n",
       "    </tr>\n",
       "  </tbody>\n",
       "</table>\n",
       "</div>"
      ],
      "text/plain": [
       "         ad_type real_estate_type     region                city        type  \\\n",
       "ad_id                                                                          \n",
       "6550925  prodaja             hiša  gorenjska  bohinjska bistrica  samostojna   \n",
       "6835049  prodaja             hiša  dolenjska            rajhenav       drugo   \n",
       "6748385  prodaja             hiša   pomurska          lončarovci  samostojna   \n",
       "6821318  prodaja             hiša   pomurska             čentiba  samostojna   \n",
       "6840678  prodaja             hiša  podravska            podgorci  samostojna   \n",
       "\n",
       "         living_area  land_area  floor  building_year    price  \\\n",
       "ad_id                                                            \n",
       "6550925        13.66      44.05    NaN           1945  14500.0   \n",
       "6835049        55.20     320.00    NaN           1958  15000.0   \n",
       "6748385        55.60    1663.00    NaN           1923  19000.0   \n",
       "6821318        76.00    2772.00  k+p+m           1990  19000.0   \n",
       "6840678       100.00     185.00    NaN           1980  19999.0   \n",
       "\n",
       "                                                    seller  \n",
       "ad_id                                                       \n",
       "6550925                                          sdh, d.d.  \n",
       "6835049                        zavod za gozdove slovenije   \n",
       "6748385  nepremičnine djm, posredništvo, mirjana kouter...  \n",
       "6821318                                    zasebna ponudba  \n",
       "6840678                                    zasebna ponudba  "
      ]
     },
     "execution_count": 287,
     "metadata": {},
     "output_type": "execute_result"
    }
   ],
   "source": [
    "sell_df.sort_values('price', ascending=True).head(5)"
   ]
  },
  {
   "cell_type": "markdown",
   "id": "046577af-4245-47b3-bf13-013cc9781fa8",
   "metadata": {},
   "source": [
    "Izračunajmo razliko med najdražjim in najcenejšim oglasom:"
   ]
  },
  {
   "cell_type": "code",
   "execution_count": 288,
   "id": "5a2945aa-d76c-4b0e-a1a6-0dae50667036",
   "metadata": {},
   "outputs": [
    {
     "name": "stdout",
     "output_type": "stream",
     "text": [
      "Razlika je 4146500.0 evrov.\n"
     ]
    }
   ],
   "source": [
    "print(f'Razlika je {float(sell_df['price'].max() - sell_df['price'].min())} evrov.')"
   ]
  },
  {
   "cell_type": "markdown",
   "id": "153de0c2-e52f-4f11-aa47-2d23e416178d",
   "metadata": {},
   "source": [
    "Oglejmo si najdražje in najcenejše samostojne hiše ter 2-3 sobna stanovanja."
   ]
  },
  {
   "cell_type": "markdown",
   "id": "6febe755-b7fe-4c57-bf13-54f407ab7bd3",
   "metadata": {},
   "source": [
    "**Samostojne hiše:**"
   ]
  },
  {
   "cell_type": "code",
   "execution_count": 289,
   "id": "55b2fa32-0cb9-4c0e-876c-65ded998ec5e",
   "metadata": {},
   "outputs": [
    {
     "data": {
      "text/html": [
       "<div>\n",
       "<style scoped>\n",
       "    .dataframe tbody tr th:only-of-type {\n",
       "        vertical-align: middle;\n",
       "    }\n",
       "\n",
       "    .dataframe tbody tr th {\n",
       "        vertical-align: top;\n",
       "    }\n",
       "\n",
       "    .dataframe thead th {\n",
       "        text-align: right;\n",
       "    }\n",
       "</style>\n",
       "<table border=\"1\" class=\"dataframe\">\n",
       "  <thead>\n",
       "    <tr style=\"text-align: right;\">\n",
       "      <th></th>\n",
       "      <th>ad_type</th>\n",
       "      <th>real_estate_type</th>\n",
       "      <th>region</th>\n",
       "      <th>city</th>\n",
       "      <th>type</th>\n",
       "      <th>living_area</th>\n",
       "      <th>land_area</th>\n",
       "      <th>floor</th>\n",
       "      <th>building_year</th>\n",
       "      <th>price</th>\n",
       "      <th>seller</th>\n",
       "    </tr>\n",
       "    <tr>\n",
       "      <th>ad_id</th>\n",
       "      <th></th>\n",
       "      <th></th>\n",
       "      <th></th>\n",
       "      <th></th>\n",
       "      <th></th>\n",
       "      <th></th>\n",
       "      <th></th>\n",
       "      <th></th>\n",
       "      <th></th>\n",
       "      <th></th>\n",
       "      <th></th>\n",
       "    </tr>\n",
       "  </thead>\n",
       "  <tbody>\n",
       "    <tr>\n",
       "      <th>6826989</th>\n",
       "      <td>prodaja</td>\n",
       "      <td>hiša</td>\n",
       "      <td>ljubljana mesto</td>\n",
       "      <td>ljubljana</td>\n",
       "      <td>samostojna</td>\n",
       "      <td>474.88</td>\n",
       "      <td>870.0</td>\n",
       "      <td>p+1+2</td>\n",
       "      <td>2024</td>\n",
       "      <td>4161000.0</td>\n",
       "      <td>baza agencija d.o.o.</td>\n",
       "    </tr>\n",
       "    <tr>\n",
       "      <th>6570641</th>\n",
       "      <td>prodaja</td>\n",
       "      <td>hiša</td>\n",
       "      <td>juzna primorska</td>\n",
       "      <td>malija</td>\n",
       "      <td>samostojna</td>\n",
       "      <td>1744.00</td>\n",
       "      <td>33103.0</td>\n",
       "      <td>k+p+1</td>\n",
       "      <td>2007</td>\n",
       "      <td>3900000.0</td>\n",
       "      <td>aeon nepremičnine, d.o.o.</td>\n",
       "    </tr>\n",
       "    <tr>\n",
       "      <th>5610784</th>\n",
       "      <td>prodaja</td>\n",
       "      <td>hiša</td>\n",
       "      <td>juzna primorska</td>\n",
       "      <td>portorož</td>\n",
       "      <td>samostojna</td>\n",
       "      <td>642.00</td>\n",
       "      <td>1606.0</td>\n",
       "      <td>NaN</td>\n",
       "      <td>1969</td>\n",
       "      <td>3600000.0</td>\n",
       "      <td>ruj nepremičnine d.o.o.</td>\n",
       "    </tr>\n",
       "    <tr>\n",
       "      <th>6822160</th>\n",
       "      <td>prodaja</td>\n",
       "      <td>hiša</td>\n",
       "      <td>ljubljana mesto</td>\n",
       "      <td>ljubljana</td>\n",
       "      <td>samostojna</td>\n",
       "      <td>433.50</td>\n",
       "      <td>NaN</td>\n",
       "      <td>p+1+2</td>\n",
       "      <td>2023</td>\n",
       "      <td>3390000.0</td>\n",
       "      <td>baza agencija d.o.o.</td>\n",
       "    </tr>\n",
       "    <tr>\n",
       "      <th>6732534</th>\n",
       "      <td>prodaja</td>\n",
       "      <td>hiša</td>\n",
       "      <td>juzna primorska</td>\n",
       "      <td>koper</td>\n",
       "      <td>samostojna</td>\n",
       "      <td>438.00</td>\n",
       "      <td>6088.0</td>\n",
       "      <td>NaN</td>\n",
       "      <td>1987</td>\n",
       "      <td>3350000.0</td>\n",
       "      <td>urbanistika, družba za projektiranje, inženiri...</td>\n",
       "    </tr>\n",
       "  </tbody>\n",
       "</table>\n",
       "</div>"
      ],
      "text/plain": [
       "         ad_type real_estate_type           region       city        type  \\\n",
       "ad_id                                                                       \n",
       "6826989  prodaja             hiša  ljubljana mesto  ljubljana  samostojna   \n",
       "6570641  prodaja             hiša  juzna primorska     malija  samostojna   \n",
       "5610784  prodaja             hiša  juzna primorska   portorož  samostojna   \n",
       "6822160  prodaja             hiša  ljubljana mesto  ljubljana  samostojna   \n",
       "6732534  prodaja             hiša  juzna primorska      koper  samostojna   \n",
       "\n",
       "         living_area  land_area  floor  building_year      price  \\\n",
       "ad_id                                                              \n",
       "6826989       474.88      870.0  p+1+2           2024  4161000.0   \n",
       "6570641      1744.00    33103.0  k+p+1           2007  3900000.0   \n",
       "5610784       642.00     1606.0    NaN           1969  3600000.0   \n",
       "6822160       433.50        NaN  p+1+2           2023  3390000.0   \n",
       "6732534       438.00     6088.0    NaN           1987  3350000.0   \n",
       "\n",
       "                                                    seller  \n",
       "ad_id                                                       \n",
       "6826989                               baza agencija d.o.o.  \n",
       "6570641                          aeon nepremičnine, d.o.o.  \n",
       "5610784                            ruj nepremičnine d.o.o.  \n",
       "6822160                               baza agencija d.o.o.  \n",
       "6732534  urbanistika, družba za projektiranje, inženiri...  "
      ]
     },
     "execution_count": 289,
     "metadata": {},
     "output_type": "execute_result"
    }
   ],
   "source": [
    "single_homes = sell_df[(sell_df['real_estate_type'] == 'hiša') & (sell_df['type'] == 'samostojna')]\n",
    "single_homes.sort_values('price', ascending=False).head(5)"
   ]
  },
  {
   "cell_type": "code",
   "execution_count": 290,
   "id": "05c10dd6-250e-45d2-a332-bf7d57a8d711",
   "metadata": {},
   "outputs": [
    {
     "data": {
      "text/html": [
       "<div>\n",
       "<style scoped>\n",
       "    .dataframe tbody tr th:only-of-type {\n",
       "        vertical-align: middle;\n",
       "    }\n",
       "\n",
       "    .dataframe tbody tr th {\n",
       "        vertical-align: top;\n",
       "    }\n",
       "\n",
       "    .dataframe thead th {\n",
       "        text-align: right;\n",
       "    }\n",
       "</style>\n",
       "<table border=\"1\" class=\"dataframe\">\n",
       "  <thead>\n",
       "    <tr style=\"text-align: right;\">\n",
       "      <th></th>\n",
       "      <th>ad_type</th>\n",
       "      <th>real_estate_type</th>\n",
       "      <th>region</th>\n",
       "      <th>city</th>\n",
       "      <th>type</th>\n",
       "      <th>living_area</th>\n",
       "      <th>land_area</th>\n",
       "      <th>floor</th>\n",
       "      <th>building_year</th>\n",
       "      <th>price</th>\n",
       "      <th>seller</th>\n",
       "    </tr>\n",
       "    <tr>\n",
       "      <th>ad_id</th>\n",
       "      <th></th>\n",
       "      <th></th>\n",
       "      <th></th>\n",
       "      <th></th>\n",
       "      <th></th>\n",
       "      <th></th>\n",
       "      <th></th>\n",
       "      <th></th>\n",
       "      <th></th>\n",
       "      <th></th>\n",
       "      <th></th>\n",
       "    </tr>\n",
       "  </thead>\n",
       "  <tbody>\n",
       "    <tr>\n",
       "      <th>6550925</th>\n",
       "      <td>prodaja</td>\n",
       "      <td>hiša</td>\n",
       "      <td>gorenjska</td>\n",
       "      <td>bohinjska bistrica</td>\n",
       "      <td>samostojna</td>\n",
       "      <td>13.66</td>\n",
       "      <td>44.05</td>\n",
       "      <td>NaN</td>\n",
       "      <td>1945</td>\n",
       "      <td>14500.0</td>\n",
       "      <td>sdh, d.d.</td>\n",
       "    </tr>\n",
       "    <tr>\n",
       "      <th>6748385</th>\n",
       "      <td>prodaja</td>\n",
       "      <td>hiša</td>\n",
       "      <td>pomurska</td>\n",
       "      <td>lončarovci</td>\n",
       "      <td>samostojna</td>\n",
       "      <td>55.60</td>\n",
       "      <td>1663.00</td>\n",
       "      <td>NaN</td>\n",
       "      <td>1923</td>\n",
       "      <td>19000.0</td>\n",
       "      <td>nepremičnine djm, posredništvo, mirjana kouter...</td>\n",
       "    </tr>\n",
       "    <tr>\n",
       "      <th>6821318</th>\n",
       "      <td>prodaja</td>\n",
       "      <td>hiša</td>\n",
       "      <td>pomurska</td>\n",
       "      <td>čentiba</td>\n",
       "      <td>samostojna</td>\n",
       "      <td>76.00</td>\n",
       "      <td>2772.00</td>\n",
       "      <td>k+p+m</td>\n",
       "      <td>1990</td>\n",
       "      <td>19000.0</td>\n",
       "      <td>zasebna ponudba</td>\n",
       "    </tr>\n",
       "    <tr>\n",
       "      <th>6840678</th>\n",
       "      <td>prodaja</td>\n",
       "      <td>hiša</td>\n",
       "      <td>podravska</td>\n",
       "      <td>podgorci</td>\n",
       "      <td>samostojna</td>\n",
       "      <td>100.00</td>\n",
       "      <td>185.00</td>\n",
       "      <td>NaN</td>\n",
       "      <td>1980</td>\n",
       "      <td>19999.0</td>\n",
       "      <td>zasebna ponudba</td>\n",
       "    </tr>\n",
       "    <tr>\n",
       "      <th>6536083</th>\n",
       "      <td>prodaja</td>\n",
       "      <td>hiša</td>\n",
       "      <td>dolenjska</td>\n",
       "      <td>stranska vas</td>\n",
       "      <td>samostojna</td>\n",
       "      <td>64.00</td>\n",
       "      <td>117.00</td>\n",
       "      <td>NaN</td>\n",
       "      <td>1930</td>\n",
       "      <td>20000.0</td>\n",
       "      <td>nnrn nepremičnine d.o.o. novo mesto</td>\n",
       "    </tr>\n",
       "  </tbody>\n",
       "</table>\n",
       "</div>"
      ],
      "text/plain": [
       "         ad_type real_estate_type     region                city        type  \\\n",
       "ad_id                                                                          \n",
       "6550925  prodaja             hiša  gorenjska  bohinjska bistrica  samostojna   \n",
       "6748385  prodaja             hiša   pomurska          lončarovci  samostojna   \n",
       "6821318  prodaja             hiša   pomurska             čentiba  samostojna   \n",
       "6840678  prodaja             hiša  podravska            podgorci  samostojna   \n",
       "6536083  prodaja             hiša  dolenjska        stranska vas  samostojna   \n",
       "\n",
       "         living_area  land_area  floor  building_year    price  \\\n",
       "ad_id                                                            \n",
       "6550925        13.66      44.05    NaN           1945  14500.0   \n",
       "6748385        55.60    1663.00    NaN           1923  19000.0   \n",
       "6821318        76.00    2772.00  k+p+m           1990  19000.0   \n",
       "6840678       100.00     185.00    NaN           1980  19999.0   \n",
       "6536083        64.00     117.00    NaN           1930  20000.0   \n",
       "\n",
       "                                                    seller  \n",
       "ad_id                                                       \n",
       "6550925                                          sdh, d.d.  \n",
       "6748385  nepremičnine djm, posredništvo, mirjana kouter...  \n",
       "6821318                                    zasebna ponudba  \n",
       "6840678                                    zasebna ponudba  \n",
       "6536083                nnrn nepremičnine d.o.o. novo mesto  "
      ]
     },
     "execution_count": 290,
     "metadata": {},
     "output_type": "execute_result"
    }
   ],
   "source": [
    "single_homes.sort_values('price', ascending=True).head(5)"
   ]
  },
  {
   "cell_type": "markdown",
   "id": "d4180802-aaaf-426b-8f68-52c8eba94bd3",
   "metadata": {},
   "source": [
    "**2-sobna stanovanja:**"
   ]
  },
  {
   "cell_type": "code",
   "execution_count": 291,
   "id": "e90d10ec-1a4b-4b27-b8d5-9f609e81273a",
   "metadata": {},
   "outputs": [
    {
     "data": {
      "text/html": [
       "<div>\n",
       "<style scoped>\n",
       "    .dataframe tbody tr th:only-of-type {\n",
       "        vertical-align: middle;\n",
       "    }\n",
       "\n",
       "    .dataframe tbody tr th {\n",
       "        vertical-align: top;\n",
       "    }\n",
       "\n",
       "    .dataframe thead th {\n",
       "        text-align: right;\n",
       "    }\n",
       "</style>\n",
       "<table border=\"1\" class=\"dataframe\">\n",
       "  <thead>\n",
       "    <tr style=\"text-align: right;\">\n",
       "      <th></th>\n",
       "      <th>ad_type</th>\n",
       "      <th>real_estate_type</th>\n",
       "      <th>region</th>\n",
       "      <th>city</th>\n",
       "      <th>type</th>\n",
       "      <th>living_area</th>\n",
       "      <th>land_area</th>\n",
       "      <th>floor</th>\n",
       "      <th>building_year</th>\n",
       "      <th>price</th>\n",
       "      <th>seller</th>\n",
       "    </tr>\n",
       "    <tr>\n",
       "      <th>ad_id</th>\n",
       "      <th></th>\n",
       "      <th></th>\n",
       "      <th></th>\n",
       "      <th></th>\n",
       "      <th></th>\n",
       "      <th></th>\n",
       "      <th></th>\n",
       "      <th></th>\n",
       "      <th></th>\n",
       "      <th></th>\n",
       "      <th></th>\n",
       "    </tr>\n",
       "  </thead>\n",
       "  <tbody>\n",
       "    <tr>\n",
       "      <th>6743760</th>\n",
       "      <td>prodaja</td>\n",
       "      <td>stanovanje</td>\n",
       "      <td>ljubljana mesto</td>\n",
       "      <td>ljubljana</td>\n",
       "      <td>2-sobno</td>\n",
       "      <td>90.00</td>\n",
       "      <td>NaN</td>\n",
       "      <td>6/7</td>\n",
       "      <td>2023</td>\n",
       "      <td>977600.0</td>\n",
       "      <td>tivoli d.o.o.</td>\n",
       "    </tr>\n",
       "    <tr>\n",
       "      <th>6719365</th>\n",
       "      <td>prodaja</td>\n",
       "      <td>stanovanje</td>\n",
       "      <td>ljubljana mesto</td>\n",
       "      <td>ljubljana</td>\n",
       "      <td>2-sobno</td>\n",
       "      <td>134.20</td>\n",
       "      <td>NaN</td>\n",
       "      <td>5/5</td>\n",
       "      <td>2025</td>\n",
       "      <td>652000.0</td>\n",
       "      <td>brn nepremičnine, bojan radusinović s.p.</td>\n",
       "    </tr>\n",
       "    <tr>\n",
       "      <th>6759055</th>\n",
       "      <td>prodaja</td>\n",
       "      <td>stanovanje</td>\n",
       "      <td>ljubljana mesto</td>\n",
       "      <td>ljubljana</td>\n",
       "      <td>2-sobno</td>\n",
       "      <td>88.50</td>\n",
       "      <td>NaN</td>\n",
       "      <td>NaN</td>\n",
       "      <td>2009</td>\n",
       "      <td>635000.0</td>\n",
       "      <td>dom real d.o.o.</td>\n",
       "    </tr>\n",
       "    <tr>\n",
       "      <th>6761576</th>\n",
       "      <td>prodaja</td>\n",
       "      <td>stanovanje</td>\n",
       "      <td>ljubljana mesto</td>\n",
       "      <td>ljubljana</td>\n",
       "      <td>2-sobno</td>\n",
       "      <td>88.50</td>\n",
       "      <td>NaN</td>\n",
       "      <td>me</td>\n",
       "      <td>2009</td>\n",
       "      <td>635000.0</td>\n",
       "      <td>rocco nepremičnine d.o.o.</td>\n",
       "    </tr>\n",
       "    <tr>\n",
       "      <th>6788744</th>\n",
       "      <td>prodaja</td>\n",
       "      <td>stanovanje</td>\n",
       "      <td>ljubljana mesto</td>\n",
       "      <td>ljubljana</td>\n",
       "      <td>2-sobno</td>\n",
       "      <td>136.74</td>\n",
       "      <td>NaN</td>\n",
       "      <td>4/4</td>\n",
       "      <td>1997</td>\n",
       "      <td>619095.0</td>\n",
       "      <td>stoja trade, d.o.o., ljubljana</td>\n",
       "    </tr>\n",
       "  </tbody>\n",
       "</table>\n",
       "</div>"
      ],
      "text/plain": [
       "         ad_type real_estate_type           region       city     type  \\\n",
       "ad_id                                                                    \n",
       "6743760  prodaja       stanovanje  ljubljana mesto  ljubljana  2-sobno   \n",
       "6719365  prodaja       stanovanje  ljubljana mesto  ljubljana  2-sobno   \n",
       "6759055  prodaja       stanovanje  ljubljana mesto  ljubljana  2-sobno   \n",
       "6761576  prodaja       stanovanje  ljubljana mesto  ljubljana  2-sobno   \n",
       "6788744  prodaja       stanovanje  ljubljana mesto  ljubljana  2-sobno   \n",
       "\n",
       "         living_area  land_area floor  building_year     price  \\\n",
       "ad_id                                                            \n",
       "6743760        90.00        NaN   6/7           2023  977600.0   \n",
       "6719365       134.20        NaN   5/5           2025  652000.0   \n",
       "6759055        88.50        NaN   NaN           2009  635000.0   \n",
       "6761576        88.50        NaN    me           2009  635000.0   \n",
       "6788744       136.74        NaN   4/4           1997  619095.0   \n",
       "\n",
       "                                           seller  \n",
       "ad_id                                              \n",
       "6743760                             tivoli d.o.o.  \n",
       "6719365  brn nepremičnine, bojan radusinović s.p.  \n",
       "6759055                           dom real d.o.o.  \n",
       "6761576                 rocco nepremičnine d.o.o.  \n",
       "6788744            stoja trade, d.o.o., ljubljana  "
      ]
     },
     "execution_count": 291,
     "metadata": {},
     "output_type": "execute_result"
    }
   ],
   "source": [
    "two_room_apartments = sell_df[(sell_df['real_estate_type'] == 'stanovanje') & ((sell_df['type'] == '2-sobno') | (sell_df['type'] == '2,5-sobno'))]\n",
    "two_room_apartments.sort_values('price', ascending=False).head(5)"
   ]
  },
  {
   "cell_type": "code",
   "execution_count": 292,
   "id": "8fdacff8-105d-40c4-9539-2c21ccea27ec",
   "metadata": {},
   "outputs": [
    {
     "data": {
      "text/html": [
       "<div>\n",
       "<style scoped>\n",
       "    .dataframe tbody tr th:only-of-type {\n",
       "        vertical-align: middle;\n",
       "    }\n",
       "\n",
       "    .dataframe tbody tr th {\n",
       "        vertical-align: top;\n",
       "    }\n",
       "\n",
       "    .dataframe thead th {\n",
       "        text-align: right;\n",
       "    }\n",
       "</style>\n",
       "<table border=\"1\" class=\"dataframe\">\n",
       "  <thead>\n",
       "    <tr style=\"text-align: right;\">\n",
       "      <th></th>\n",
       "      <th>ad_type</th>\n",
       "      <th>real_estate_type</th>\n",
       "      <th>region</th>\n",
       "      <th>city</th>\n",
       "      <th>type</th>\n",
       "      <th>living_area</th>\n",
       "      <th>land_area</th>\n",
       "      <th>floor</th>\n",
       "      <th>building_year</th>\n",
       "      <th>price</th>\n",
       "      <th>seller</th>\n",
       "    </tr>\n",
       "    <tr>\n",
       "      <th>ad_id</th>\n",
       "      <th></th>\n",
       "      <th></th>\n",
       "      <th></th>\n",
       "      <th></th>\n",
       "      <th></th>\n",
       "      <th></th>\n",
       "      <th></th>\n",
       "      <th></th>\n",
       "      <th></th>\n",
       "      <th></th>\n",
       "      <th></th>\n",
       "    </tr>\n",
       "  </thead>\n",
       "  <tbody>\n",
       "    <tr>\n",
       "      <th>6835710</th>\n",
       "      <td>prodaja</td>\n",
       "      <td>stanovanje</td>\n",
       "      <td>koroska</td>\n",
       "      <td>janževski vrh</td>\n",
       "      <td>2-sobno</td>\n",
       "      <td>81.5</td>\n",
       "      <td>NaN</td>\n",
       "      <td>1</td>\n",
       "      <td>1850</td>\n",
       "      <td>47000.0</td>\n",
       "      <td>stanovanjski sklad rs</td>\n",
       "    </tr>\n",
       "    <tr>\n",
       "      <th>6837721</th>\n",
       "      <td>prodaja</td>\n",
       "      <td>stanovanje</td>\n",
       "      <td>pomurska</td>\n",
       "      <td>podgradje</td>\n",
       "      <td>2,5-sobno</td>\n",
       "      <td>55.7</td>\n",
       "      <td>NaN</td>\n",
       "      <td>vp/4</td>\n",
       "      <td>1878</td>\n",
       "      <td>47345.0</td>\n",
       "      <td>puklavec family wines d.o.o.</td>\n",
       "    </tr>\n",
       "    <tr>\n",
       "      <th>6837730</th>\n",
       "      <td>prodaja</td>\n",
       "      <td>stanovanje</td>\n",
       "      <td>pomurska</td>\n",
       "      <td>podgradje</td>\n",
       "      <td>2,5-sobno</td>\n",
       "      <td>55.7</td>\n",
       "      <td>NaN</td>\n",
       "      <td>vp/4</td>\n",
       "      <td>1878</td>\n",
       "      <td>47345.0</td>\n",
       "      <td>puklavec family wines d.o.o.</td>\n",
       "    </tr>\n",
       "    <tr>\n",
       "      <th>6480694</th>\n",
       "      <td>prodaja</td>\n",
       "      <td>stanovanje</td>\n",
       "      <td>zasavska</td>\n",
       "      <td>trbovlje</td>\n",
       "      <td>2,5-sobno</td>\n",
       "      <td>56.7</td>\n",
       "      <td>NaN</td>\n",
       "      <td>2/2</td>\n",
       "      <td>1885</td>\n",
       "      <td>48000.0</td>\n",
       "      <td>cic d.o.o.</td>\n",
       "    </tr>\n",
       "    <tr>\n",
       "      <th>6550851</th>\n",
       "      <td>prodaja</td>\n",
       "      <td>stanovanje</td>\n",
       "      <td>podravska</td>\n",
       "      <td>hotinja vas</td>\n",
       "      <td>2-sobno</td>\n",
       "      <td>47.9</td>\n",
       "      <td>648.0</td>\n",
       "      <td>NaN</td>\n",
       "      <td>1970</td>\n",
       "      <td>49000.0</td>\n",
       "      <td>sdh, d.d.</td>\n",
       "    </tr>\n",
       "  </tbody>\n",
       "</table>\n",
       "</div>"
      ],
      "text/plain": [
       "         ad_type real_estate_type     region           city       type  \\\n",
       "ad_id                                                                    \n",
       "6835710  prodaja       stanovanje    koroska  janževski vrh    2-sobno   \n",
       "6837721  prodaja       stanovanje   pomurska      podgradje  2,5-sobno   \n",
       "6837730  prodaja       stanovanje   pomurska      podgradje  2,5-sobno   \n",
       "6480694  prodaja       stanovanje   zasavska       trbovlje  2,5-sobno   \n",
       "6550851  prodaja       stanovanje  podravska    hotinja vas    2-sobno   \n",
       "\n",
       "         living_area  land_area floor  building_year    price  \\\n",
       "ad_id                                                           \n",
       "6835710         81.5        NaN     1           1850  47000.0   \n",
       "6837721         55.7        NaN  vp/4           1878  47345.0   \n",
       "6837730         55.7        NaN  vp/4           1878  47345.0   \n",
       "6480694         56.7        NaN   2/2           1885  48000.0   \n",
       "6550851         47.9      648.0   NaN           1970  49000.0   \n",
       "\n",
       "                               seller  \n",
       "ad_id                                  \n",
       "6835710         stanovanjski sklad rs  \n",
       "6837721  puklavec family wines d.o.o.  \n",
       "6837730  puklavec family wines d.o.o.  \n",
       "6480694                    cic d.o.o.  \n",
       "6550851                     sdh, d.d.  "
      ]
     },
     "execution_count": 292,
     "metadata": {},
     "output_type": "execute_result"
    }
   ],
   "source": [
    "two_room_apartments.sort_values('price', ascending=True).head(5)"
   ]
  },
  {
   "cell_type": "markdown",
   "id": "d153b2c1-987c-4216-9da7-da223d86ae95",
   "metadata": {},
   "source": [
    "**3-sobna stanovanja:**"
   ]
  },
  {
   "cell_type": "code",
   "execution_count": 293,
   "id": "f7eabc6f-4934-4c83-837b-d62671721084",
   "metadata": {},
   "outputs": [
    {
     "data": {
      "text/html": [
       "<div>\n",
       "<style scoped>\n",
       "    .dataframe tbody tr th:only-of-type {\n",
       "        vertical-align: middle;\n",
       "    }\n",
       "\n",
       "    .dataframe tbody tr th {\n",
       "        vertical-align: top;\n",
       "    }\n",
       "\n",
       "    .dataframe thead th {\n",
       "        text-align: right;\n",
       "    }\n",
       "</style>\n",
       "<table border=\"1\" class=\"dataframe\">\n",
       "  <thead>\n",
       "    <tr style=\"text-align: right;\">\n",
       "      <th></th>\n",
       "      <th>ad_type</th>\n",
       "      <th>real_estate_type</th>\n",
       "      <th>region</th>\n",
       "      <th>city</th>\n",
       "      <th>type</th>\n",
       "      <th>living_area</th>\n",
       "      <th>land_area</th>\n",
       "      <th>floor</th>\n",
       "      <th>building_year</th>\n",
       "      <th>price</th>\n",
       "      <th>seller</th>\n",
       "    </tr>\n",
       "    <tr>\n",
       "      <th>ad_id</th>\n",
       "      <th></th>\n",
       "      <th></th>\n",
       "      <th></th>\n",
       "      <th></th>\n",
       "      <th></th>\n",
       "      <th></th>\n",
       "      <th></th>\n",
       "      <th></th>\n",
       "      <th></th>\n",
       "      <th></th>\n",
       "      <th></th>\n",
       "    </tr>\n",
       "  </thead>\n",
       "  <tbody>\n",
       "    <tr>\n",
       "      <th>6783879</th>\n",
       "      <td>prodaja</td>\n",
       "      <td>stanovanje</td>\n",
       "      <td>ljubljana mesto</td>\n",
       "      <td>ljubljana</td>\n",
       "      <td>3-sobno</td>\n",
       "      <td>147.0</td>\n",
       "      <td>NaN</td>\n",
       "      <td>3/7</td>\n",
       "      <td>2023</td>\n",
       "      <td>1538400.0</td>\n",
       "      <td>tivoli d.o.o.</td>\n",
       "    </tr>\n",
       "    <tr>\n",
       "      <th>6466171</th>\n",
       "      <td>prodaja</td>\n",
       "      <td>stanovanje</td>\n",
       "      <td>ljubljana okolica</td>\n",
       "      <td>medvode</td>\n",
       "      <td>3-sobno</td>\n",
       "      <td>366.7</td>\n",
       "      <td>NaN</td>\n",
       "      <td>2/2</td>\n",
       "      <td>2019</td>\n",
       "      <td>1337660.0</td>\n",
       "      <td>ljubljana nepremičnine d.o.o.</td>\n",
       "    </tr>\n",
       "    <tr>\n",
       "      <th>6744773</th>\n",
       "      <td>prodaja</td>\n",
       "      <td>stanovanje</td>\n",
       "      <td>ljubljana mesto</td>\n",
       "      <td>ljubljana</td>\n",
       "      <td>3-sobno</td>\n",
       "      <td>187.2</td>\n",
       "      <td>NaN</td>\n",
       "      <td>14/14</td>\n",
       "      <td>2020</td>\n",
       "      <td>1200000.0</td>\n",
       "      <td>rcn d.o.o.</td>\n",
       "    </tr>\n",
       "    <tr>\n",
       "      <th>6745383</th>\n",
       "      <td>prodaja</td>\n",
       "      <td>stanovanje</td>\n",
       "      <td>ljubljana mesto</td>\n",
       "      <td>ljubljana</td>\n",
       "      <td>3-sobno</td>\n",
       "      <td>125.0</td>\n",
       "      <td>NaN</td>\n",
       "      <td>5/7</td>\n",
       "      <td>2023</td>\n",
       "      <td>1181400.0</td>\n",
       "      <td>tivoli d.o.o.</td>\n",
       "    </tr>\n",
       "    <tr>\n",
       "      <th>6493869</th>\n",
       "      <td>prodaja</td>\n",
       "      <td>stanovanje</td>\n",
       "      <td>ljubljana mesto</td>\n",
       "      <td>ljubljana</td>\n",
       "      <td>3-sobno</td>\n",
       "      <td>297.6</td>\n",
       "      <td>NaN</td>\n",
       "      <td>1/4</td>\n",
       "      <td>2009</td>\n",
       "      <td>1150000.0</td>\n",
       "      <td>stoja trade, d.o.o., ljubljana</td>\n",
       "    </tr>\n",
       "  </tbody>\n",
       "</table>\n",
       "</div>"
      ],
      "text/plain": [
       "         ad_type real_estate_type             region       city     type  \\\n",
       "ad_id                                                                      \n",
       "6783879  prodaja       stanovanje    ljubljana mesto  ljubljana  3-sobno   \n",
       "6466171  prodaja       stanovanje  ljubljana okolica    medvode  3-sobno   \n",
       "6744773  prodaja       stanovanje    ljubljana mesto  ljubljana  3-sobno   \n",
       "6745383  prodaja       stanovanje    ljubljana mesto  ljubljana  3-sobno   \n",
       "6493869  prodaja       stanovanje    ljubljana mesto  ljubljana  3-sobno   \n",
       "\n",
       "         living_area  land_area  floor  building_year      price  \\\n",
       "ad_id                                                              \n",
       "6783879        147.0        NaN    3/7           2023  1538400.0   \n",
       "6466171        366.7        NaN    2/2           2019  1337660.0   \n",
       "6744773        187.2        NaN  14/14           2020  1200000.0   \n",
       "6745383        125.0        NaN    5/7           2023  1181400.0   \n",
       "6493869        297.6        NaN    1/4           2009  1150000.0   \n",
       "\n",
       "                                 seller  \n",
       "ad_id                                    \n",
       "6783879                   tivoli d.o.o.  \n",
       "6466171   ljubljana nepremičnine d.o.o.  \n",
       "6744773                      rcn d.o.o.  \n",
       "6745383                   tivoli d.o.o.  \n",
       "6493869  stoja trade, d.o.o., ljubljana  "
      ]
     },
     "execution_count": 293,
     "metadata": {},
     "output_type": "execute_result"
    }
   ],
   "source": [
    "three_room_apartments = sell_df[(sell_df['real_estate_type'] == 'stanovanje') & (sell_df['type'] == '3-sobno')]\n",
    "three_room_apartments.sort_values('price', ascending=False).head(5)"
   ]
  },
  {
   "cell_type": "code",
   "execution_count": 294,
   "id": "0f7ac704-87da-4cfd-a2b8-2900323c7bd0",
   "metadata": {},
   "outputs": [
    {
     "data": {
      "text/html": [
       "<div>\n",
       "<style scoped>\n",
       "    .dataframe tbody tr th:only-of-type {\n",
       "        vertical-align: middle;\n",
       "    }\n",
       "\n",
       "    .dataframe tbody tr th {\n",
       "        vertical-align: top;\n",
       "    }\n",
       "\n",
       "    .dataframe thead th {\n",
       "        text-align: right;\n",
       "    }\n",
       "</style>\n",
       "<table border=\"1\" class=\"dataframe\">\n",
       "  <thead>\n",
       "    <tr style=\"text-align: right;\">\n",
       "      <th></th>\n",
       "      <th>ad_type</th>\n",
       "      <th>real_estate_type</th>\n",
       "      <th>region</th>\n",
       "      <th>city</th>\n",
       "      <th>type</th>\n",
       "      <th>living_area</th>\n",
       "      <th>land_area</th>\n",
       "      <th>floor</th>\n",
       "      <th>building_year</th>\n",
       "      <th>price</th>\n",
       "      <th>seller</th>\n",
       "    </tr>\n",
       "    <tr>\n",
       "      <th>ad_id</th>\n",
       "      <th></th>\n",
       "      <th></th>\n",
       "      <th></th>\n",
       "      <th></th>\n",
       "      <th></th>\n",
       "      <th></th>\n",
       "      <th></th>\n",
       "      <th></th>\n",
       "      <th></th>\n",
       "      <th></th>\n",
       "      <th></th>\n",
       "    </tr>\n",
       "  </thead>\n",
       "  <tbody>\n",
       "    <tr>\n",
       "      <th>6502029</th>\n",
       "      <td>prodaja</td>\n",
       "      <td>stanovanje</td>\n",
       "      <td>podravska</td>\n",
       "      <td>rošpoh - del</td>\n",
       "      <td>3-sobno</td>\n",
       "      <td>138.1</td>\n",
       "      <td>NaN</td>\n",
       "      <td>1</td>\n",
       "      <td>1904</td>\n",
       "      <td>37000.0</td>\n",
       "      <td>agenti nepremičninsko posredovanje, d.o.o.</td>\n",
       "    </tr>\n",
       "    <tr>\n",
       "      <th>6727889</th>\n",
       "      <td>prodaja</td>\n",
       "      <td>stanovanje</td>\n",
       "      <td>pomurska</td>\n",
       "      <td>boračeva</td>\n",
       "      <td>3-sobno</td>\n",
       "      <td>52.3</td>\n",
       "      <td>NaN</td>\n",
       "      <td>1/1</td>\n",
       "      <td>1959</td>\n",
       "      <td>49900.0</td>\n",
       "      <td>market center omnis d.o.o.</td>\n",
       "    </tr>\n",
       "    <tr>\n",
       "      <th>6622663</th>\n",
       "      <td>prodaja</td>\n",
       "      <td>stanovanje</td>\n",
       "      <td>dolenjska</td>\n",
       "      <td>črnomelj</td>\n",
       "      <td>3-sobno</td>\n",
       "      <td>64.9</td>\n",
       "      <td>NaN</td>\n",
       "      <td>NaN</td>\n",
       "      <td>1995</td>\n",
       "      <td>64900.0</td>\n",
       "      <td>ecom volt media d.o.o.</td>\n",
       "    </tr>\n",
       "    <tr>\n",
       "      <th>6599481</th>\n",
       "      <td>prodaja</td>\n",
       "      <td>stanovanje</td>\n",
       "      <td>savinjska</td>\n",
       "      <td>ljubno ob savinji</td>\n",
       "      <td>3-sobno</td>\n",
       "      <td>67.3</td>\n",
       "      <td>NaN</td>\n",
       "      <td>NaN</td>\n",
       "      <td>1935</td>\n",
       "      <td>70000.0</td>\n",
       "      <td>janko nepremičnine, ema janko s.p.</td>\n",
       "    </tr>\n",
       "    <tr>\n",
       "      <th>6745309</th>\n",
       "      <td>prodaja</td>\n",
       "      <td>stanovanje</td>\n",
       "      <td>savinjska</td>\n",
       "      <td>štore</td>\n",
       "      <td>3-sobno</td>\n",
       "      <td>73.0</td>\n",
       "      <td>NaN</td>\n",
       "      <td>p/3</td>\n",
       "      <td>1880</td>\n",
       "      <td>70000.0</td>\n",
       "      <td>geopro nepremičnine, d.o.o.</td>\n",
       "    </tr>\n",
       "  </tbody>\n",
       "</table>\n",
       "</div>"
      ],
      "text/plain": [
       "         ad_type real_estate_type     region               city     type  \\\n",
       "ad_id                                                                      \n",
       "6502029  prodaja       stanovanje  podravska       rošpoh - del  3-sobno   \n",
       "6727889  prodaja       stanovanje   pomurska           boračeva  3-sobno   \n",
       "6622663  prodaja       stanovanje  dolenjska           črnomelj  3-sobno   \n",
       "6599481  prodaja       stanovanje  savinjska  ljubno ob savinji  3-sobno   \n",
       "6745309  prodaja       stanovanje  savinjska              štore  3-sobno   \n",
       "\n",
       "         living_area  land_area floor  building_year    price  \\\n",
       "ad_id                                                           \n",
       "6502029        138.1        NaN     1           1904  37000.0   \n",
       "6727889         52.3        NaN   1/1           1959  49900.0   \n",
       "6622663         64.9        NaN   NaN           1995  64900.0   \n",
       "6599481         67.3        NaN   NaN           1935  70000.0   \n",
       "6745309         73.0        NaN   p/3           1880  70000.0   \n",
       "\n",
       "                                             seller  \n",
       "ad_id                                                \n",
       "6502029  agenti nepremičninsko posredovanje, d.o.o.  \n",
       "6727889                  market center omnis d.o.o.  \n",
       "6622663                      ecom volt media d.o.o.  \n",
       "6599481          janko nepremičnine, ema janko s.p.  \n",
       "6745309                geopro nepremičnine, d.o.o.   "
      ]
     },
     "execution_count": 294,
     "metadata": {},
     "output_type": "execute_result"
    }
   ],
   "source": [
    "three_room_apartments.sort_values('price', ascending=True).head(5)"
   ]
  },
  {
   "cell_type": "markdown",
   "id": "76a7ca83-9920-4ca3-a8ce-2ee01bdfed13",
   "metadata": {},
   "source": [
    "Oglejmo si splošno razporeditev cen."
   ]
  },
  {
   "cell_type": "code",
   "execution_count": 295,
   "id": "37ba38dd-4705-4132-8764-b50834352a28",
   "metadata": {},
   "outputs": [
    {
     "data": {
      "text/plain": [
       "<Axes: title={'center': 'Razporeditev cen'}, ylabel='Frequency'>"
      ]
     },
     "execution_count": 295,
     "metadata": {},
     "output_type": "execute_result"
    },
    {
     "data": {
      "image/png": "[encoded data removed]",
      "text/plain": [
       "<Figure size 640x480 with 1 Axes>"
      ]
     },
     "metadata": {},
     "output_type": "display_data"
    }
   ],
   "source": [
    "sell_df['price'].plot.hist(\n",
    "    title='Razporeditev cen',\n",
    "    bins=25, \n",
    "    xlim=[sell_df['price'].min(), sell_df['price'].max()]\n",
    ")"
   ]
  },
  {
   "cell_type": "markdown",
   "id": "b76dca92-f678-4193-9e0d-df71e32fa1ae",
   "metadata": {},
   "source": [
    "Opazimo, da večina nepremičnin, ki so naprodaj, stane do 500.000 evrov. Za boljše razumevanje razporeditve cen bomo oglase razdelili v tri cenovne kategorije: od 0 do 500.000 evrov, od 500.000 do 1.000.000 evrov in od 1.000.000 evrov naprej."
   ]
  },
  {
   "cell_type": "code",
   "execution_count": 296,
   "id": "e7ace28a-2688-4da2-8b7f-2a127d499369",
   "metadata": {},
   "outputs": [
    {
     "data": {
      "text/plain": [
       "<Axes: title={'center': 'Razporeditev cen. Oglasi od 0 do 500.000 evrov'}, ylabel='Frequency'>"
      ]
     },
     "execution_count": 296,
     "metadata": {},
     "output_type": "execute_result"
    },
    {
     "data": {
      "image/png": "[encoded data removed]",
      "text/plain": [
       "<Figure size 640x480 with 1 Axes>"
      ]
     },
     "metadata": {},
     "output_type": "display_data"
    }
   ],
   "source": [
    "first_group = sell_df[sell_df['price'] < 500000]\n",
    "first_group['price'].plot.hist(\n",
    "    title='Razporeditev cen. Oglasi od 0 do 500.000 evrov',\n",
    "    bins=20, \n",
    "    xlim=[first_group['price'].min(), first_group['price'].max()]\n",
    ")"
   ]
  },
  {
   "cell_type": "code",
   "execution_count": 297,
   "id": "b00839f8-85fc-4f45-ac96-dafc74290973",
   "metadata": {},
   "outputs": [
    {
     "data": {
      "text/plain": [
       "<Axes: title={'center': 'Razporeditev cen. Oglasi od 500.000 do 1.000.000 evrov'}, ylabel='Frequency'>"
      ]
     },
     "execution_count": 297,
     "metadata": {},
     "output_type": "execute_result"
    },
    {
     "data": {
      "image/png": "[encoded data removed]",
      "text/plain": [
       "<Figure size 640x480 with 1 Axes>"
      ]
     },
     "metadata": {},
     "output_type": "display_data"
    }
   ],
   "source": [
    "second_group = sell_df[(sell_df['price'] >= 500000) & (sell_df['price'] < 1000000)]\n",
    "second_group['price'].plot.hist(\n",
    "    title='Razporeditev cen. Oglasi od 500.000 do 1.000.000 evrov',\n",
    "    bins=20, \n",
    "    xlim=[second_group['price'].min(), second_group['price'].max()]\n",
    ")"
   ]
  },
  {
   "cell_type": "code",
   "execution_count": 298,
   "id": "a11b9837-847d-4449-883c-e6ce2b9c5e7b",
   "metadata": {},
   "outputs": [
    {
     "data": {
      "text/plain": [
       "<Axes: title={'center': 'Razporeditev cen. Oglasi od 1.000.000 evrov naprej'}, ylabel='Frequency'>"
      ]
     },
     "execution_count": 298,
     "metadata": {},
     "output_type": "execute_result"
    },
    {
     "data": {
      "image/png": "[encoded data removed]",
      "text/plain": [
       "<Figure size 640x480 with 1 Axes>"
      ]
     },
     "metadata": {},
     "output_type": "display_data"
    }
   ],
   "source": [
    "third_group = sell_df[sell_df['price'] > 1000000]\n",
    "third_group['price'].plot.hist(\n",
    "    title='Razporeditev cen. Oglasi od 1.000.000 evrov naprej',\n",
    "    bins=10, \n",
    "    xlim=[third_group['price'].min(), third_group['price'].max()]\n",
    ")"
   ]
  },
  {
   "cell_type": "markdown",
   "id": "aa4e1cd3-355e-4adc-8f56-63f53602c8a1",
   "metadata": {},
   "source": [
    "### Razporeditev cen (oddaja)"
   ]
  },
  {
   "cell_type": "markdown",
   "id": "13dbb871-38c2-4a51-a7de-490cd7e1cb25",
   "metadata": {},
   "source": [
    "Spet si oglejmo 5 najdražjih in 5 najcenejših ponudb."
   ]
  },
  {
   "cell_type": "code",
   "execution_count": 299,
   "id": "8720f718-53a6-4289-a864-d529393ae222",
   "metadata": {},
   "outputs": [
    {
     "data": {
      "text/html": [
       "<div>\n",
       "<style scoped>\n",
       "    .dataframe tbody tr th:only-of-type {\n",
       "        vertical-align: middle;\n",
       "    }\n",
       "\n",
       "    .dataframe tbody tr th {\n",
       "        vertical-align: top;\n",
       "    }\n",
       "\n",
       "    .dataframe thead th {\n",
       "        text-align: right;\n",
       "    }\n",
       "</style>\n",
       "<table border=\"1\" class=\"dataframe\">\n",
       "  <thead>\n",
       "    <tr style=\"text-align: right;\">\n",
       "      <th></th>\n",
       "      <th>ad_type</th>\n",
       "      <th>real_estate_type</th>\n",
       "      <th>region</th>\n",
       "      <th>city</th>\n",
       "      <th>type</th>\n",
       "      <th>living_area</th>\n",
       "      <th>land_area</th>\n",
       "      <th>floor</th>\n",
       "      <th>building_year</th>\n",
       "      <th>price</th>\n",
       "      <th>seller</th>\n",
       "    </tr>\n",
       "    <tr>\n",
       "      <th>ad_id</th>\n",
       "      <th></th>\n",
       "      <th></th>\n",
       "      <th></th>\n",
       "      <th></th>\n",
       "      <th></th>\n",
       "      <th></th>\n",
       "      <th></th>\n",
       "      <th></th>\n",
       "      <th></th>\n",
       "      <th></th>\n",
       "      <th></th>\n",
       "    </tr>\n",
       "  </thead>\n",
       "  <tbody>\n",
       "    <tr>\n",
       "      <th>6531465</th>\n",
       "      <td>oddaja</td>\n",
       "      <td>stanovanje</td>\n",
       "      <td>ljubljana mesto</td>\n",
       "      <td>ljubljana</td>\n",
       "      <td>4-sobno</td>\n",
       "      <td>150.00</td>\n",
       "      <td>NaN</td>\n",
       "      <td>NaN</td>\n",
       "      <td>2022</td>\n",
       "      <td>7700.0</td>\n",
       "      <td>stoja trade, d.o.o., ljubljana</td>\n",
       "    </tr>\n",
       "    <tr>\n",
       "      <th>6836618</th>\n",
       "      <td>oddaja</td>\n",
       "      <td>stanovanje</td>\n",
       "      <td>ljubljana mesto</td>\n",
       "      <td>ljubljana</td>\n",
       "      <td>4-sobno</td>\n",
       "      <td>200.00</td>\n",
       "      <td>NaN</td>\n",
       "      <td>NaN</td>\n",
       "      <td>2024</td>\n",
       "      <td>6000.0</td>\n",
       "      <td>zasebna ponudba</td>\n",
       "    </tr>\n",
       "    <tr>\n",
       "      <th>6790043</th>\n",
       "      <td>oddaja</td>\n",
       "      <td>hiša</td>\n",
       "      <td>ljubljana mesto</td>\n",
       "      <td>ljubljana</td>\n",
       "      <td>samostojna</td>\n",
       "      <td>473.00</td>\n",
       "      <td>770.0</td>\n",
       "      <td>NaN</td>\n",
       "      <td>2007</td>\n",
       "      <td>6000.0</td>\n",
       "      <td>stoja trade, d.o.o., ljubljana</td>\n",
       "    </tr>\n",
       "    <tr>\n",
       "      <th>6521290</th>\n",
       "      <td>oddaja</td>\n",
       "      <td>stanovanje</td>\n",
       "      <td>ljubljana mesto</td>\n",
       "      <td>ljubljana</td>\n",
       "      <td>3-sobno</td>\n",
       "      <td>150.00</td>\n",
       "      <td>NaN</td>\n",
       "      <td>NaN</td>\n",
       "      <td>2022</td>\n",
       "      <td>5500.0</td>\n",
       "      <td>stoja trade, d.o.o., ljubljana</td>\n",
       "    </tr>\n",
       "    <tr>\n",
       "      <th>6694221</th>\n",
       "      <td>oddaja</td>\n",
       "      <td>hiša</td>\n",
       "      <td>ljubljana mesto</td>\n",
       "      <td>ljubljana</td>\n",
       "      <td>samostojna</td>\n",
       "      <td>247.93</td>\n",
       "      <td>375.0</td>\n",
       "      <td>NaN</td>\n",
       "      <td>2023</td>\n",
       "      <td>4990.0</td>\n",
       "      <td>stoja trade, d.o.o., ljubljana</td>\n",
       "    </tr>\n",
       "  </tbody>\n",
       "</table>\n",
       "</div>"
      ],
      "text/plain": [
       "        ad_type real_estate_type           region       city        type  \\\n",
       "ad_id                                                                      \n",
       "6531465  oddaja       stanovanje  ljubljana mesto  ljubljana     4-sobno   \n",
       "6836618  oddaja       stanovanje  ljubljana mesto  ljubljana     4-sobno   \n",
       "6790043  oddaja             hiša  ljubljana mesto  ljubljana  samostojna   \n",
       "6521290  oddaja       stanovanje  ljubljana mesto  ljubljana     3-sobno   \n",
       "6694221  oddaja             hiša  ljubljana mesto  ljubljana  samostojna   \n",
       "\n",
       "         living_area  land_area floor  building_year   price  \\\n",
       "ad_id                                                          \n",
       "6531465       150.00        NaN   NaN           2022  7700.0   \n",
       "6836618       200.00        NaN   NaN           2024  6000.0   \n",
       "6790043       473.00      770.0   NaN           2007  6000.0   \n",
       "6521290       150.00        NaN   NaN           2022  5500.0   \n",
       "6694221       247.93      375.0   NaN           2023  4990.0   \n",
       "\n",
       "                                 seller  \n",
       "ad_id                                    \n",
       "6531465  stoja trade, d.o.o., ljubljana  \n",
       "6836618                 zasebna ponudba  \n",
       "6790043  stoja trade, d.o.o., ljubljana  \n",
       "6521290  stoja trade, d.o.o., ljubljana  \n",
       "6694221  stoja trade, d.o.o., ljubljana  "
      ]
     },
     "execution_count": 299,
     "metadata": {},
     "output_type": "execute_result"
    }
   ],
   "source": [
    "rent_df.sort_values('price', ascending=False).head(5)"
   ]
  },
  {
   "cell_type": "code",
   "execution_count": 300,
   "id": "347d90bf-7bd4-44cb-bff6-892a67c272e1",
   "metadata": {},
   "outputs": [
    {
     "data": {
      "text/html": [
       "<div>\n",
       "<style scoped>\n",
       "    .dataframe tbody tr th:only-of-type {\n",
       "        vertical-align: middle;\n",
       "    }\n",
       "\n",
       "    .dataframe tbody tr th {\n",
       "        vertical-align: top;\n",
       "    }\n",
       "\n",
       "    .dataframe thead th {\n",
       "        text-align: right;\n",
       "    }\n",
       "</style>\n",
       "<table border=\"1\" class=\"dataframe\">\n",
       "  <thead>\n",
       "    <tr style=\"text-align: right;\">\n",
       "      <th></th>\n",
       "      <th>ad_type</th>\n",
       "      <th>real_estate_type</th>\n",
       "      <th>region</th>\n",
       "      <th>city</th>\n",
       "      <th>type</th>\n",
       "      <th>living_area</th>\n",
       "      <th>land_area</th>\n",
       "      <th>floor</th>\n",
       "      <th>building_year</th>\n",
       "      <th>price</th>\n",
       "      <th>seller</th>\n",
       "    </tr>\n",
       "    <tr>\n",
       "      <th>ad_id</th>\n",
       "      <th></th>\n",
       "      <th></th>\n",
       "      <th></th>\n",
       "      <th></th>\n",
       "      <th></th>\n",
       "      <th></th>\n",
       "      <th></th>\n",
       "      <th></th>\n",
       "      <th></th>\n",
       "      <th></th>\n",
       "      <th></th>\n",
       "    </tr>\n",
       "  </thead>\n",
       "  <tbody>\n",
       "    <tr>\n",
       "      <th>6680231</th>\n",
       "      <td>oddaja</td>\n",
       "      <td>stanovanje</td>\n",
       "      <td>ljubljana mesto</td>\n",
       "      <td>ljubljana</td>\n",
       "      <td>soba</td>\n",
       "      <td>16.0</td>\n",
       "      <td>NaN</td>\n",
       "      <td>NaN</td>\n",
       "      <td>1980</td>\n",
       "      <td>80.0</td>\n",
       "      <td>zasebna ponudba</td>\n",
       "    </tr>\n",
       "    <tr>\n",
       "      <th>6754209</th>\n",
       "      <td>oddaja</td>\n",
       "      <td>hiša</td>\n",
       "      <td>ljubljana mesto</td>\n",
       "      <td>ljubljana</td>\n",
       "      <td>samostojna</td>\n",
       "      <td>450.0</td>\n",
       "      <td>800.0</td>\n",
       "      <td>p+1</td>\n",
       "      <td>2000</td>\n",
       "      <td>95.0</td>\n",
       "      <td>zasebna ponudba</td>\n",
       "    </tr>\n",
       "    <tr>\n",
       "      <th>6780970</th>\n",
       "      <td>oddaja</td>\n",
       "      <td>stanovanje</td>\n",
       "      <td>dolenjska</td>\n",
       "      <td>dolenja nemška vas</td>\n",
       "      <td>drugo</td>\n",
       "      <td>100.0</td>\n",
       "      <td>1500.0</td>\n",
       "      <td>p/p</td>\n",
       "      <td>2002</td>\n",
       "      <td>100.0</td>\n",
       "      <td>zasebna ponudba</td>\n",
       "    </tr>\n",
       "    <tr>\n",
       "      <th>6744326</th>\n",
       "      <td>oddaja</td>\n",
       "      <td>stanovanje</td>\n",
       "      <td>ljubljana mesto</td>\n",
       "      <td>ljubljana</td>\n",
       "      <td>soba</td>\n",
       "      <td>10.0</td>\n",
       "      <td>NaN</td>\n",
       "      <td>NaN</td>\n",
       "      <td>1977</td>\n",
       "      <td>120.0</td>\n",
       "      <td>zasebna ponudba</td>\n",
       "    </tr>\n",
       "    <tr>\n",
       "      <th>6689809</th>\n",
       "      <td>oddaja</td>\n",
       "      <td>stanovanje</td>\n",
       "      <td>posavska</td>\n",
       "      <td>sevnica</td>\n",
       "      <td>2-sobno</td>\n",
       "      <td>60.0</td>\n",
       "      <td>NaN</td>\n",
       "      <td>3/4</td>\n",
       "      <td>2005</td>\n",
       "      <td>120.0</td>\n",
       "      <td>zasebna ponudba</td>\n",
       "    </tr>\n",
       "  </tbody>\n",
       "</table>\n",
       "</div>"
      ],
      "text/plain": [
       "        ad_type real_estate_type           region                city  \\\n",
       "ad_id                                                                   \n",
       "6680231  oddaja       stanovanje  ljubljana mesto           ljubljana   \n",
       "6754209  oddaja             hiša  ljubljana mesto           ljubljana   \n",
       "6780970  oddaja       stanovanje        dolenjska  dolenja nemška vas   \n",
       "6744326  oddaja       stanovanje  ljubljana mesto           ljubljana   \n",
       "6689809  oddaja       stanovanje         posavska             sevnica   \n",
       "\n",
       "               type  living_area  land_area floor  building_year  price  \\\n",
       "ad_id                                                                     \n",
       "6680231        soba         16.0        NaN   NaN           1980   80.0   \n",
       "6754209  samostojna        450.0      800.0   p+1           2000   95.0   \n",
       "6780970       drugo        100.0     1500.0   p/p           2002  100.0   \n",
       "6744326        soba         10.0        NaN   NaN           1977  120.0   \n",
       "6689809     2-sobno         60.0        NaN   3/4           2005  120.0   \n",
       "\n",
       "                  seller  \n",
       "ad_id                     \n",
       "6680231  zasebna ponudba  \n",
       "6754209  zasebna ponudba  \n",
       "6780970  zasebna ponudba  \n",
       "6744326  zasebna ponudba  \n",
       "6689809  zasebna ponudba  "
      ]
     },
     "execution_count": 300,
     "metadata": {},
     "output_type": "execute_result"
    }
   ],
   "source": [
    "rent_df.sort_values('price', ascending=True).head(5)"
   ]
  },
  {
   "cell_type": "markdown",
   "id": "4e61a78f-e782-4734-ae6a-c90490f9d4d2",
   "metadata": {},
   "source": [
    "Izračunajmo razliko med najdražjim in najcenejšim oglasom."
   ]
  },
  {
   "cell_type": "code",
   "execution_count": 301,
   "id": "41dec2e4-a98a-426b-a9c5-1755669ea718",
   "metadata": {},
   "outputs": [
    {
     "name": "stdout",
     "output_type": "stream",
     "text": [
      "Razlika je 7620.0 evrov.\n"
     ]
    }
   ],
   "source": [
    "print(f'Razlika je {float(rent_df['price'].max() - rent_df['price'].min())} evrov.')"
   ]
  },
  {
   "cell_type": "markdown",
   "id": "c19998e5-8f99-480f-9568-0ea35fa53bdc",
   "metadata": {},
   "source": [
    "Oglejmo si najdražje in najcenejše sobe, garsonjere in enosobna stanovanja."
   ]
  },
  {
   "cell_type": "markdown",
   "id": "d3bd6803-9b5b-4a8b-9299-1f1479b5841c",
   "metadata": {},
   "source": [
    "**Sobe:**"
   ]
  },
  {
   "cell_type": "code",
   "execution_count": 302,
   "id": "2adb1881-8e0c-4d3c-8a43-7f76bfd0f3ac",
   "metadata": {},
   "outputs": [
    {
     "data": {
      "text/html": [
       "<div>\n",
       "<style scoped>\n",
       "    .dataframe tbody tr th:only-of-type {\n",
       "        vertical-align: middle;\n",
       "    }\n",
       "\n",
       "    .dataframe tbody tr th {\n",
       "        vertical-align: top;\n",
       "    }\n",
       "\n",
       "    .dataframe thead th {\n",
       "        text-align: right;\n",
       "    }\n",
       "</style>\n",
       "<table border=\"1\" class=\"dataframe\">\n",
       "  <thead>\n",
       "    <tr style=\"text-align: right;\">\n",
       "      <th></th>\n",
       "      <th>ad_type</th>\n",
       "      <th>real_estate_type</th>\n",
       "      <th>region</th>\n",
       "      <th>city</th>\n",
       "      <th>type</th>\n",
       "      <th>living_area</th>\n",
       "      <th>land_area</th>\n",
       "      <th>floor</th>\n",
       "      <th>building_year</th>\n",
       "      <th>price</th>\n",
       "      <th>seller</th>\n",
       "    </tr>\n",
       "    <tr>\n",
       "      <th>ad_id</th>\n",
       "      <th></th>\n",
       "      <th></th>\n",
       "      <th></th>\n",
       "      <th></th>\n",
       "      <th></th>\n",
       "      <th></th>\n",
       "      <th></th>\n",
       "      <th></th>\n",
       "      <th></th>\n",
       "      <th></th>\n",
       "      <th></th>\n",
       "    </tr>\n",
       "  </thead>\n",
       "  <tbody>\n",
       "    <tr>\n",
       "      <th>6835692</th>\n",
       "      <td>oddaja</td>\n",
       "      <td>stanovanje</td>\n",
       "      <td>ljubljana mesto</td>\n",
       "      <td>ljubljana</td>\n",
       "      <td>soba</td>\n",
       "      <td>18.0</td>\n",
       "      <td>NaN</td>\n",
       "      <td>8/8</td>\n",
       "      <td>1919</td>\n",
       "      <td>600.0</td>\n",
       "      <td>zasebna ponudba</td>\n",
       "    </tr>\n",
       "    <tr>\n",
       "      <th>6839075</th>\n",
       "      <td>oddaja</td>\n",
       "      <td>stanovanje</td>\n",
       "      <td>ljubljana mesto</td>\n",
       "      <td>ljubljana</td>\n",
       "      <td>soba</td>\n",
       "      <td>12.0</td>\n",
       "      <td>NaN</td>\n",
       "      <td>1/p+1+m</td>\n",
       "      <td>2022</td>\n",
       "      <td>550.0</td>\n",
       "      <td>zasebna ponudba</td>\n",
       "    </tr>\n",
       "    <tr>\n",
       "      <th>6245572</th>\n",
       "      <td>oddaja</td>\n",
       "      <td>stanovanje</td>\n",
       "      <td>ljubljana mesto</td>\n",
       "      <td>ljubljana</td>\n",
       "      <td>soba</td>\n",
       "      <td>18.0</td>\n",
       "      <td>NaN</td>\n",
       "      <td>vp/3</td>\n",
       "      <td>2017</td>\n",
       "      <td>500.0</td>\n",
       "      <td>agencija tomc, d.o.o.</td>\n",
       "    </tr>\n",
       "    <tr>\n",
       "      <th>6839377</th>\n",
       "      <td>oddaja</td>\n",
       "      <td>stanovanje</td>\n",
       "      <td>ljubljana mesto</td>\n",
       "      <td>ljubljana</td>\n",
       "      <td>soba</td>\n",
       "      <td>10.0</td>\n",
       "      <td>NaN</td>\n",
       "      <td>NaN</td>\n",
       "      <td>1964</td>\n",
       "      <td>420.0</td>\n",
       "      <td>zasebna ponudba</td>\n",
       "    </tr>\n",
       "    <tr>\n",
       "      <th>6743968</th>\n",
       "      <td>oddaja</td>\n",
       "      <td>stanovanje</td>\n",
       "      <td>ljubljana okolica</td>\n",
       "      <td>verd</td>\n",
       "      <td>soba</td>\n",
       "      <td>25.0</td>\n",
       "      <td>NaN</td>\n",
       "      <td>1/2</td>\n",
       "      <td>2018</td>\n",
       "      <td>420.0</td>\n",
       "      <td>zasebna ponudba</td>\n",
       "    </tr>\n",
       "  </tbody>\n",
       "</table>\n",
       "</div>"
      ],
      "text/plain": [
       "        ad_type real_estate_type             region       city  type  \\\n",
       "ad_id                                                                  \n",
       "6835692  oddaja       stanovanje    ljubljana mesto  ljubljana  soba   \n",
       "6839075  oddaja       stanovanje    ljubljana mesto  ljubljana  soba   \n",
       "6245572  oddaja       stanovanje    ljubljana mesto  ljubljana  soba   \n",
       "6839377  oddaja       stanovanje    ljubljana mesto  ljubljana  soba   \n",
       "6743968  oddaja       stanovanje  ljubljana okolica       verd  soba   \n",
       "\n",
       "         living_area  land_area    floor  building_year  price  \\\n",
       "ad_id                                                            \n",
       "6835692         18.0        NaN      8/8           1919  600.0   \n",
       "6839075         12.0        NaN  1/p+1+m           2022  550.0   \n",
       "6245572         18.0        NaN     vp/3           2017  500.0   \n",
       "6839377         10.0        NaN      NaN           1964  420.0   \n",
       "6743968         25.0        NaN      1/2           2018  420.0   \n",
       "\n",
       "                        seller  \n",
       "ad_id                           \n",
       "6835692        zasebna ponudba  \n",
       "6839075        zasebna ponudba  \n",
       "6245572  agencija tomc, d.o.o.  \n",
       "6839377        zasebna ponudba  \n",
       "6743968        zasebna ponudba  "
      ]
     },
     "execution_count": 302,
     "metadata": {},
     "output_type": "execute_result"
    }
   ],
   "source": [
    "rooms = rent_df[(rent_df['real_estate_type'] == 'stanovanje') & (rent_df['type'] == 'soba')]\n",
    "rooms.sort_values('price', ascending=False).head(5)"
   ]
  },
  {
   "cell_type": "code",
   "execution_count": 303,
   "id": "22fb8fb6-6b7b-4733-8ad8-f15b473741e0",
   "metadata": {},
   "outputs": [
    {
     "data": {
      "text/html": [
       "<div>\n",
       "<style scoped>\n",
       "    .dataframe tbody tr th:only-of-type {\n",
       "        vertical-align: middle;\n",
       "    }\n",
       "\n",
       "    .dataframe tbody tr th {\n",
       "        vertical-align: top;\n",
       "    }\n",
       "\n",
       "    .dataframe thead th {\n",
       "        text-align: right;\n",
       "    }\n",
       "</style>\n",
       "<table border=\"1\" class=\"dataframe\">\n",
       "  <thead>\n",
       "    <tr style=\"text-align: right;\">\n",
       "      <th></th>\n",
       "      <th>ad_type</th>\n",
       "      <th>real_estate_type</th>\n",
       "      <th>region</th>\n",
       "      <th>city</th>\n",
       "      <th>type</th>\n",
       "      <th>living_area</th>\n",
       "      <th>land_area</th>\n",
       "      <th>floor</th>\n",
       "      <th>building_year</th>\n",
       "      <th>price</th>\n",
       "      <th>seller</th>\n",
       "    </tr>\n",
       "    <tr>\n",
       "      <th>ad_id</th>\n",
       "      <th></th>\n",
       "      <th></th>\n",
       "      <th></th>\n",
       "      <th></th>\n",
       "      <th></th>\n",
       "      <th></th>\n",
       "      <th></th>\n",
       "      <th></th>\n",
       "      <th></th>\n",
       "      <th></th>\n",
       "      <th></th>\n",
       "    </tr>\n",
       "  </thead>\n",
       "  <tbody>\n",
       "    <tr>\n",
       "      <th>6680231</th>\n",
       "      <td>oddaja</td>\n",
       "      <td>stanovanje</td>\n",
       "      <td>ljubljana mesto</td>\n",
       "      <td>ljubljana</td>\n",
       "      <td>soba</td>\n",
       "      <td>16.0</td>\n",
       "      <td>NaN</td>\n",
       "      <td>NaN</td>\n",
       "      <td>1980</td>\n",
       "      <td>80.0</td>\n",
       "      <td>zasebna ponudba</td>\n",
       "    </tr>\n",
       "    <tr>\n",
       "      <th>6334505</th>\n",
       "      <td>oddaja</td>\n",
       "      <td>stanovanje</td>\n",
       "      <td>savinjska</td>\n",
       "      <td>velenje</td>\n",
       "      <td>soba</td>\n",
       "      <td>22.0</td>\n",
       "      <td>NaN</td>\n",
       "      <td>1/2</td>\n",
       "      <td>2012</td>\n",
       "      <td>120.0</td>\n",
       "      <td>zasebna ponudba</td>\n",
       "    </tr>\n",
       "    <tr>\n",
       "      <th>6744326</th>\n",
       "      <td>oddaja</td>\n",
       "      <td>stanovanje</td>\n",
       "      <td>ljubljana mesto</td>\n",
       "      <td>ljubljana</td>\n",
       "      <td>soba</td>\n",
       "      <td>10.0</td>\n",
       "      <td>NaN</td>\n",
       "      <td>NaN</td>\n",
       "      <td>1977</td>\n",
       "      <td>120.0</td>\n",
       "      <td>zasebna ponudba</td>\n",
       "    </tr>\n",
       "    <tr>\n",
       "      <th>6254288</th>\n",
       "      <td>oddaja</td>\n",
       "      <td>stanovanje</td>\n",
       "      <td>savinjska</td>\n",
       "      <td>žalec</td>\n",
       "      <td>soba</td>\n",
       "      <td>30.0</td>\n",
       "      <td>750.0</td>\n",
       "      <td>p+1/2</td>\n",
       "      <td>2018</td>\n",
       "      <td>130.0</td>\n",
       "      <td>zasebna ponudba</td>\n",
       "    </tr>\n",
       "    <tr>\n",
       "      <th>6334245</th>\n",
       "      <td>oddaja</td>\n",
       "      <td>stanovanje</td>\n",
       "      <td>ljubljana mesto</td>\n",
       "      <td>ljubljana</td>\n",
       "      <td>soba</td>\n",
       "      <td>20.0</td>\n",
       "      <td>NaN</td>\n",
       "      <td>p/3</td>\n",
       "      <td>2015</td>\n",
       "      <td>150.0</td>\n",
       "      <td>zasebna ponudba</td>\n",
       "    </tr>\n",
       "  </tbody>\n",
       "</table>\n",
       "</div>"
      ],
      "text/plain": [
       "        ad_type real_estate_type           region       city  type  \\\n",
       "ad_id                                                                \n",
       "6680231  oddaja       stanovanje  ljubljana mesto  ljubljana  soba   \n",
       "6334505  oddaja       stanovanje        savinjska    velenje  soba   \n",
       "6744326  oddaja       stanovanje  ljubljana mesto  ljubljana  soba   \n",
       "6254288  oddaja       stanovanje        savinjska      žalec  soba   \n",
       "6334245  oddaja       stanovanje  ljubljana mesto  ljubljana  soba   \n",
       "\n",
       "         living_area  land_area  floor  building_year  price           seller  \n",
       "ad_id                                                                          \n",
       "6680231         16.0        NaN    NaN           1980   80.0  zasebna ponudba  \n",
       "6334505         22.0        NaN    1/2           2012  120.0  zasebna ponudba  \n",
       "6744326         10.0        NaN    NaN           1977  120.0  zasebna ponudba  \n",
       "6254288         30.0      750.0  p+1/2           2018  130.0  zasebna ponudba  \n",
       "6334245         20.0        NaN    p/3           2015  150.0  zasebna ponudba  "
      ]
     },
     "execution_count": 303,
     "metadata": {},
     "output_type": "execute_result"
    }
   ],
   "source": [
    "rooms.sort_values('price', ascending=True).head(5)"
   ]
  },
  {
   "cell_type": "markdown",
   "id": "5711d222-021c-49eb-9dde-d5395829062a",
   "metadata": {},
   "source": [
    "**Garsonjere:**"
   ]
  },
  {
   "cell_type": "code",
   "execution_count": 304,
   "id": "af48599d-6063-4897-a4a8-712891017866",
   "metadata": {},
   "outputs": [
    {
     "data": {
      "text/html": [
       "<div>\n",
       "<style scoped>\n",
       "    .dataframe tbody tr th:only-of-type {\n",
       "        vertical-align: middle;\n",
       "    }\n",
       "\n",
       "    .dataframe tbody tr th {\n",
       "        vertical-align: top;\n",
       "    }\n",
       "\n",
       "    .dataframe thead th {\n",
       "        text-align: right;\n",
       "    }\n",
       "</style>\n",
       "<table border=\"1\" class=\"dataframe\">\n",
       "  <thead>\n",
       "    <tr style=\"text-align: right;\">\n",
       "      <th></th>\n",
       "      <th>ad_type</th>\n",
       "      <th>real_estate_type</th>\n",
       "      <th>region</th>\n",
       "      <th>city</th>\n",
       "      <th>type</th>\n",
       "      <th>living_area</th>\n",
       "      <th>land_area</th>\n",
       "      <th>floor</th>\n",
       "      <th>building_year</th>\n",
       "      <th>price</th>\n",
       "      <th>seller</th>\n",
       "    </tr>\n",
       "    <tr>\n",
       "      <th>ad_id</th>\n",
       "      <th></th>\n",
       "      <th></th>\n",
       "      <th></th>\n",
       "      <th></th>\n",
       "      <th></th>\n",
       "      <th></th>\n",
       "      <th></th>\n",
       "      <th></th>\n",
       "      <th></th>\n",
       "      <th></th>\n",
       "      <th></th>\n",
       "    </tr>\n",
       "  </thead>\n",
       "  <tbody>\n",
       "    <tr>\n",
       "      <th>6808892</th>\n",
       "      <td>oddaja</td>\n",
       "      <td>stanovanje</td>\n",
       "      <td>juzna primorska</td>\n",
       "      <td>portorož</td>\n",
       "      <td>garsonjera</td>\n",
       "      <td>30.0</td>\n",
       "      <td>NaN</td>\n",
       "      <td>1</td>\n",
       "      <td>1950</td>\n",
       "      <td>1500.0</td>\n",
       "      <td>zasebna ponudba</td>\n",
       "    </tr>\n",
       "    <tr>\n",
       "      <th>6395503</th>\n",
       "      <td>oddaja</td>\n",
       "      <td>stanovanje</td>\n",
       "      <td>ljubljana mesto</td>\n",
       "      <td>ljubljana</td>\n",
       "      <td>garsonjera</td>\n",
       "      <td>27.0</td>\n",
       "      <td>NaN</td>\n",
       "      <td>NaN</td>\n",
       "      <td>1890</td>\n",
       "      <td>1320.0</td>\n",
       "      <td>agencija elite d.o.o.</td>\n",
       "    </tr>\n",
       "    <tr>\n",
       "      <th>6837027</th>\n",
       "      <td>oddaja</td>\n",
       "      <td>stanovanje</td>\n",
       "      <td>ljubljana mesto</td>\n",
       "      <td>ljubljana</td>\n",
       "      <td>garsonjera</td>\n",
       "      <td>35.0</td>\n",
       "      <td>NaN</td>\n",
       "      <td>4/5</td>\n",
       "      <td>2006</td>\n",
       "      <td>1200.0</td>\n",
       "      <td>zasebna ponudba</td>\n",
       "    </tr>\n",
       "    <tr>\n",
       "      <th>6831124</th>\n",
       "      <td>oddaja</td>\n",
       "      <td>stanovanje</td>\n",
       "      <td>ljubljana mesto</td>\n",
       "      <td>ljubljana</td>\n",
       "      <td>garsonjera</td>\n",
       "      <td>55.0</td>\n",
       "      <td>NaN</td>\n",
       "      <td>pk/4</td>\n",
       "      <td>2024</td>\n",
       "      <td>1000.0</td>\n",
       "      <td>zasebna ponudba</td>\n",
       "    </tr>\n",
       "    <tr>\n",
       "      <th>6846330</th>\n",
       "      <td>oddaja</td>\n",
       "      <td>stanovanje</td>\n",
       "      <td>ljubljana okolica</td>\n",
       "      <td>brezje pri grosupljem</td>\n",
       "      <td>garsonjera</td>\n",
       "      <td>38.5</td>\n",
       "      <td>50.0</td>\n",
       "      <td>p/2</td>\n",
       "      <td>2004</td>\n",
       "      <td>850.0</td>\n",
       "      <td>zasebna ponudba</td>\n",
       "    </tr>\n",
       "  </tbody>\n",
       "</table>\n",
       "</div>"
      ],
      "text/plain": [
       "        ad_type real_estate_type             region                   city  \\\n",
       "ad_id                                                                        \n",
       "6808892  oddaja       stanovanje    juzna primorska               portorož   \n",
       "6395503  oddaja       stanovanje    ljubljana mesto              ljubljana   \n",
       "6837027  oddaja       stanovanje    ljubljana mesto              ljubljana   \n",
       "6831124  oddaja       stanovanje    ljubljana mesto              ljubljana   \n",
       "6846330  oddaja       stanovanje  ljubljana okolica  brezje pri grosupljem   \n",
       "\n",
       "               type  living_area  land_area floor  building_year   price  \\\n",
       "ad_id                                                                      \n",
       "6808892  garsonjera         30.0        NaN     1           1950  1500.0   \n",
       "6395503  garsonjera         27.0        NaN   NaN           1890  1320.0   \n",
       "6837027  garsonjera         35.0        NaN   4/5           2006  1200.0   \n",
       "6831124  garsonjera         55.0        NaN  pk/4           2024  1000.0   \n",
       "6846330  garsonjera         38.5       50.0   p/2           2004   850.0   \n",
       "\n",
       "                        seller  \n",
       "ad_id                           \n",
       "6808892        zasebna ponudba  \n",
       "6395503  agencija elite d.o.o.  \n",
       "6837027        zasebna ponudba  \n",
       "6831124        zasebna ponudba  \n",
       "6846330        zasebna ponudba  "
      ]
     },
     "execution_count": 304,
     "metadata": {},
     "output_type": "execute_result"
    }
   ],
   "source": [
    "studios = rent_df[(rent_df['real_estate_type'] == 'stanovanje') & (rent_df['type'] == 'garsonjera')]\n",
    "studios.sort_values('price', ascending=False).head(5)"
   ]
  },
  {
   "cell_type": "code",
   "execution_count": 305,
   "id": "a5e0e950-8a51-426f-a63f-f86aa7783a06",
   "metadata": {},
   "outputs": [
    {
     "data": {
      "text/html": [
       "<div>\n",
       "<style scoped>\n",
       "    .dataframe tbody tr th:only-of-type {\n",
       "        vertical-align: middle;\n",
       "    }\n",
       "\n",
       "    .dataframe tbody tr th {\n",
       "        vertical-align: top;\n",
       "    }\n",
       "\n",
       "    .dataframe thead th {\n",
       "        text-align: right;\n",
       "    }\n",
       "</style>\n",
       "<table border=\"1\" class=\"dataframe\">\n",
       "  <thead>\n",
       "    <tr style=\"text-align: right;\">\n",
       "      <th></th>\n",
       "      <th>ad_type</th>\n",
       "      <th>real_estate_type</th>\n",
       "      <th>region</th>\n",
       "      <th>city</th>\n",
       "      <th>type</th>\n",
       "      <th>living_area</th>\n",
       "      <th>land_area</th>\n",
       "      <th>floor</th>\n",
       "      <th>building_year</th>\n",
       "      <th>price</th>\n",
       "      <th>seller</th>\n",
       "    </tr>\n",
       "    <tr>\n",
       "      <th>ad_id</th>\n",
       "      <th></th>\n",
       "      <th></th>\n",
       "      <th></th>\n",
       "      <th></th>\n",
       "      <th></th>\n",
       "      <th></th>\n",
       "      <th></th>\n",
       "      <th></th>\n",
       "      <th></th>\n",
       "      <th></th>\n",
       "      <th></th>\n",
       "    </tr>\n",
       "  </thead>\n",
       "  <tbody>\n",
       "    <tr>\n",
       "      <th>6841300</th>\n",
       "      <td>oddaja</td>\n",
       "      <td>stanovanje</td>\n",
       "      <td>pomurska</td>\n",
       "      <td>gornja radgona</td>\n",
       "      <td>garsonjera</td>\n",
       "      <td>17.0</td>\n",
       "      <td>NaN</td>\n",
       "      <td>5/5</td>\n",
       "      <td>1967</td>\n",
       "      <td>240.0</td>\n",
       "      <td>zasebna ponudba</td>\n",
       "    </tr>\n",
       "    <tr>\n",
       "      <th>6774009</th>\n",
       "      <td>oddaja</td>\n",
       "      <td>stanovanje</td>\n",
       "      <td>savinjska</td>\n",
       "      <td>celje</td>\n",
       "      <td>garsonjera</td>\n",
       "      <td>30.0</td>\n",
       "      <td>NaN</td>\n",
       "      <td>vp</td>\n",
       "      <td>2010</td>\n",
       "      <td>250.0</td>\n",
       "      <td>zasebna ponudba</td>\n",
       "    </tr>\n",
       "    <tr>\n",
       "      <th>6839311</th>\n",
       "      <td>oddaja</td>\n",
       "      <td>stanovanje</td>\n",
       "      <td>zasavska</td>\n",
       "      <td>trbovlje</td>\n",
       "      <td>garsonjera</td>\n",
       "      <td>28.0</td>\n",
       "      <td>NaN</td>\n",
       "      <td>p</td>\n",
       "      <td>1965</td>\n",
       "      <td>250.0</td>\n",
       "      <td>zasebna ponudba</td>\n",
       "    </tr>\n",
       "    <tr>\n",
       "      <th>6778847</th>\n",
       "      <td>oddaja</td>\n",
       "      <td>stanovanje</td>\n",
       "      <td>koroska</td>\n",
       "      <td>šentjanž pri dravogradu</td>\n",
       "      <td>garsonjera</td>\n",
       "      <td>24.0</td>\n",
       "      <td>NaN</td>\n",
       "      <td>1/3</td>\n",
       "      <td>1900</td>\n",
       "      <td>250.0</td>\n",
       "      <td>nepremičninska družba, d.o.o., pe re/max premium</td>\n",
       "    </tr>\n",
       "    <tr>\n",
       "      <th>6733235</th>\n",
       "      <td>oddaja</td>\n",
       "      <td>stanovanje</td>\n",
       "      <td>podravska</td>\n",
       "      <td>maribor</td>\n",
       "      <td>garsonjera</td>\n",
       "      <td>19.0</td>\n",
       "      <td>NaN</td>\n",
       "      <td>NaN</td>\n",
       "      <td>1983</td>\n",
       "      <td>270.0</td>\n",
       "      <td>zasebna ponudba</td>\n",
       "    </tr>\n",
       "  </tbody>\n",
       "</table>\n",
       "</div>"
      ],
      "text/plain": [
       "        ad_type real_estate_type     region                     city  \\\n",
       "ad_id                                                                  \n",
       "6841300  oddaja       stanovanje   pomurska           gornja radgona   \n",
       "6774009  oddaja       stanovanje  savinjska                    celje   \n",
       "6839311  oddaja       stanovanje   zasavska                 trbovlje   \n",
       "6778847  oddaja       stanovanje    koroska  šentjanž pri dravogradu   \n",
       "6733235  oddaja       stanovanje  podravska                  maribor   \n",
       "\n",
       "               type  living_area  land_area floor  building_year  price  \\\n",
       "ad_id                                                                     \n",
       "6841300  garsonjera         17.0        NaN   5/5           1967  240.0   \n",
       "6774009  garsonjera         30.0        NaN    vp           2010  250.0   \n",
       "6839311  garsonjera         28.0        NaN     p           1965  250.0   \n",
       "6778847  garsonjera         24.0        NaN   1/3           1900  250.0   \n",
       "6733235  garsonjera         19.0        NaN   NaN           1983  270.0   \n",
       "\n",
       "                                                   seller  \n",
       "ad_id                                                      \n",
       "6841300                                   zasebna ponudba  \n",
       "6774009                                   zasebna ponudba  \n",
       "6839311                                   zasebna ponudba  \n",
       "6778847  nepremičninska družba, d.o.o., pe re/max premium  \n",
       "6733235                                   zasebna ponudba  "
      ]
     },
     "execution_count": 305,
     "metadata": {},
     "output_type": "execute_result"
    }
   ],
   "source": [
    "studios.sort_values('price', ascending=True).head(5)"
   ]
  },
  {
   "cell_type": "markdown",
   "id": "b75ef3b7-5a09-4970-865c-43000310f013",
   "metadata": {},
   "source": [
    "**1-sobna stanovanja:**"
   ]
  },
  {
   "cell_type": "code",
   "execution_count": 306,
   "id": "1ce2ebe0-071b-4bd1-ba88-abd561c49c26",
   "metadata": {},
   "outputs": [
    {
     "data": {
      "text/html": [
       "<div>\n",
       "<style scoped>\n",
       "    .dataframe tbody tr th:only-of-type {\n",
       "        vertical-align: middle;\n",
       "    }\n",
       "\n",
       "    .dataframe tbody tr th {\n",
       "        vertical-align: top;\n",
       "    }\n",
       "\n",
       "    .dataframe thead th {\n",
       "        text-align: right;\n",
       "    }\n",
       "</style>\n",
       "<table border=\"1\" class=\"dataframe\">\n",
       "  <thead>\n",
       "    <tr style=\"text-align: right;\">\n",
       "      <th></th>\n",
       "      <th>ad_type</th>\n",
       "      <th>real_estate_type</th>\n",
       "      <th>region</th>\n",
       "      <th>city</th>\n",
       "      <th>type</th>\n",
       "      <th>living_area</th>\n",
       "      <th>land_area</th>\n",
       "      <th>floor</th>\n",
       "      <th>building_year</th>\n",
       "      <th>price</th>\n",
       "      <th>seller</th>\n",
       "    </tr>\n",
       "    <tr>\n",
       "      <th>ad_id</th>\n",
       "      <th></th>\n",
       "      <th></th>\n",
       "      <th></th>\n",
       "      <th></th>\n",
       "      <th></th>\n",
       "      <th></th>\n",
       "      <th></th>\n",
       "      <th></th>\n",
       "      <th></th>\n",
       "      <th></th>\n",
       "      <th></th>\n",
       "    </tr>\n",
       "  </thead>\n",
       "  <tbody>\n",
       "    <tr>\n",
       "      <th>6821522</th>\n",
       "      <td>oddaja</td>\n",
       "      <td>stanovanje</td>\n",
       "      <td>ljubljana mesto</td>\n",
       "      <td>ljubljana</td>\n",
       "      <td>1-sobno</td>\n",
       "      <td>83.0</td>\n",
       "      <td>NaN</td>\n",
       "      <td>m/m</td>\n",
       "      <td>1520</td>\n",
       "      <td>1600.0</td>\n",
       "      <td>zasebna ponudba</td>\n",
       "    </tr>\n",
       "    <tr>\n",
       "      <th>6738270</th>\n",
       "      <td>oddaja</td>\n",
       "      <td>stanovanje</td>\n",
       "      <td>ljubljana mesto</td>\n",
       "      <td>ljubljana</td>\n",
       "      <td>1-sobno</td>\n",
       "      <td>45.0</td>\n",
       "      <td>NaN</td>\n",
       "      <td>NaN</td>\n",
       "      <td>2003</td>\n",
       "      <td>1200.0</td>\n",
       "      <td>zasebna ponudba</td>\n",
       "    </tr>\n",
       "    <tr>\n",
       "      <th>6508408</th>\n",
       "      <td>oddaja</td>\n",
       "      <td>stanovanje</td>\n",
       "      <td>juzna primorska</td>\n",
       "      <td>koper</td>\n",
       "      <td>1-sobno</td>\n",
       "      <td>55.0</td>\n",
       "      <td>NaN</td>\n",
       "      <td>1/1</td>\n",
       "      <td>2020</td>\n",
       "      <td>1100.0</td>\n",
       "      <td>zasebna ponudba</td>\n",
       "    </tr>\n",
       "    <tr>\n",
       "      <th>6835333</th>\n",
       "      <td>oddaja</td>\n",
       "      <td>stanovanje</td>\n",
       "      <td>ljubljana mesto</td>\n",
       "      <td>ljubljana</td>\n",
       "      <td>1-sobno</td>\n",
       "      <td>51.4</td>\n",
       "      <td>NaN</td>\n",
       "      <td>NaN</td>\n",
       "      <td>1600</td>\n",
       "      <td>1100.0</td>\n",
       "      <td>aeon nepremičnine, d.o.o.</td>\n",
       "    </tr>\n",
       "    <tr>\n",
       "      <th>6825032</th>\n",
       "      <td>oddaja</td>\n",
       "      <td>stanovanje</td>\n",
       "      <td>gorenjska</td>\n",
       "      <td>kranj</td>\n",
       "      <td>1-sobno</td>\n",
       "      <td>50.0</td>\n",
       "      <td>NaN</td>\n",
       "      <td>p/2</td>\n",
       "      <td>2023</td>\n",
       "      <td>1000.0</td>\n",
       "      <td>zasebna ponudba</td>\n",
       "    </tr>\n",
       "  </tbody>\n",
       "</table>\n",
       "</div>"
      ],
      "text/plain": [
       "        ad_type real_estate_type           region       city     type  \\\n",
       "ad_id                                                                   \n",
       "6821522  oddaja       stanovanje  ljubljana mesto  ljubljana  1-sobno   \n",
       "6738270  oddaja       stanovanje  ljubljana mesto  ljubljana  1-sobno   \n",
       "6508408  oddaja       stanovanje  juzna primorska      koper  1-sobno   \n",
       "6835333  oddaja       stanovanje  ljubljana mesto  ljubljana  1-sobno   \n",
       "6825032  oddaja       stanovanje        gorenjska      kranj  1-sobno   \n",
       "\n",
       "         living_area  land_area floor  building_year   price  \\\n",
       "ad_id                                                          \n",
       "6821522         83.0        NaN   m/m           1520  1600.0   \n",
       "6738270         45.0        NaN   NaN           2003  1200.0   \n",
       "6508408         55.0        NaN   1/1           2020  1100.0   \n",
       "6835333         51.4        NaN   NaN           1600  1100.0   \n",
       "6825032         50.0        NaN   p/2           2023  1000.0   \n",
       "\n",
       "                            seller  \n",
       "ad_id                               \n",
       "6821522            zasebna ponudba  \n",
       "6738270            zasebna ponudba  \n",
       "6508408            zasebna ponudba  \n",
       "6835333  aeon nepremičnine, d.o.o.  \n",
       "6825032            zasebna ponudba  "
      ]
     },
     "execution_count": 306,
     "metadata": {},
     "output_type": "execute_result"
    }
   ],
   "source": [
    "one_room_apartments = rent_df[(rent_df['real_estate_type'] == 'stanovanje') & (rent_df['type'] == '1-sobno')]\n",
    "one_room_apartments.sort_values('price', ascending=False).head(5)"
   ]
  },
  {
   "cell_type": "code",
   "execution_count": 307,
   "id": "5231a6d4-115c-4eda-8f90-ec32f6caf2d5",
   "metadata": {},
   "outputs": [
    {
     "data": {
      "text/html": [
       "<div>\n",
       "<style scoped>\n",
       "    .dataframe tbody tr th:only-of-type {\n",
       "        vertical-align: middle;\n",
       "    }\n",
       "\n",
       "    .dataframe tbody tr th {\n",
       "        vertical-align: top;\n",
       "    }\n",
       "\n",
       "    .dataframe thead th {\n",
       "        text-align: right;\n",
       "    }\n",
       "</style>\n",
       "<table border=\"1\" class=\"dataframe\">\n",
       "  <thead>\n",
       "    <tr style=\"text-align: right;\">\n",
       "      <th></th>\n",
       "      <th>ad_type</th>\n",
       "      <th>real_estate_type</th>\n",
       "      <th>region</th>\n",
       "      <th>city</th>\n",
       "      <th>type</th>\n",
       "      <th>living_area</th>\n",
       "      <th>land_area</th>\n",
       "      <th>floor</th>\n",
       "      <th>building_year</th>\n",
       "      <th>price</th>\n",
       "      <th>seller</th>\n",
       "    </tr>\n",
       "    <tr>\n",
       "      <th>ad_id</th>\n",
       "      <th></th>\n",
       "      <th></th>\n",
       "      <th></th>\n",
       "      <th></th>\n",
       "      <th></th>\n",
       "      <th></th>\n",
       "      <th></th>\n",
       "      <th></th>\n",
       "      <th></th>\n",
       "      <th></th>\n",
       "      <th></th>\n",
       "    </tr>\n",
       "  </thead>\n",
       "  <tbody>\n",
       "    <tr>\n",
       "      <th>6507944</th>\n",
       "      <td>oddaja</td>\n",
       "      <td>stanovanje</td>\n",
       "      <td>posavska</td>\n",
       "      <td>cerklje ob krki</td>\n",
       "      <td>1-sobno</td>\n",
       "      <td>50.0</td>\n",
       "      <td>NaN</td>\n",
       "      <td>1</td>\n",
       "      <td>1993</td>\n",
       "      <td>200.0</td>\n",
       "      <td>zasebna ponudba</td>\n",
       "    </tr>\n",
       "    <tr>\n",
       "      <th>6728409</th>\n",
       "      <td>oddaja</td>\n",
       "      <td>stanovanje</td>\n",
       "      <td>dolenjska</td>\n",
       "      <td>kočevska reka</td>\n",
       "      <td>1-sobno</td>\n",
       "      <td>23.0</td>\n",
       "      <td>NaN</td>\n",
       "      <td>p/1</td>\n",
       "      <td>1950</td>\n",
       "      <td>200.0</td>\n",
       "      <td>zasebna ponudba</td>\n",
       "    </tr>\n",
       "    <tr>\n",
       "      <th>6828267</th>\n",
       "      <td>oddaja</td>\n",
       "      <td>stanovanje</td>\n",
       "      <td>dolenjska</td>\n",
       "      <td>črnomelj</td>\n",
       "      <td>1-sobno</td>\n",
       "      <td>23.0</td>\n",
       "      <td>NaN</td>\n",
       "      <td>p/4</td>\n",
       "      <td>1984</td>\n",
       "      <td>220.0</td>\n",
       "      <td>zasebna ponudba</td>\n",
       "    </tr>\n",
       "    <tr>\n",
       "      <th>6840638</th>\n",
       "      <td>oddaja</td>\n",
       "      <td>stanovanje</td>\n",
       "      <td>savinjska</td>\n",
       "      <td>celje</td>\n",
       "      <td>1-sobno</td>\n",
       "      <td>30.0</td>\n",
       "      <td>NaN</td>\n",
       "      <td>11/11</td>\n",
       "      <td>1974</td>\n",
       "      <td>300.0</td>\n",
       "      <td>zasebna ponudba</td>\n",
       "    </tr>\n",
       "    <tr>\n",
       "      <th>6838784</th>\n",
       "      <td>oddaja</td>\n",
       "      <td>stanovanje</td>\n",
       "      <td>savinjska</td>\n",
       "      <td>žiče</td>\n",
       "      <td>1-sobno</td>\n",
       "      <td>35.0</td>\n",
       "      <td>NaN</td>\n",
       "      <td>p</td>\n",
       "      <td>2020</td>\n",
       "      <td>300.0</td>\n",
       "      <td>zasebna ponudba</td>\n",
       "    </tr>\n",
       "  </tbody>\n",
       "</table>\n",
       "</div>"
      ],
      "text/plain": [
       "        ad_type real_estate_type     region             city     type  \\\n",
       "ad_id                                                                   \n",
       "6507944  oddaja       stanovanje   posavska  cerklje ob krki  1-sobno   \n",
       "6728409  oddaja       stanovanje  dolenjska    kočevska reka  1-sobno   \n",
       "6828267  oddaja       stanovanje  dolenjska         črnomelj  1-sobno   \n",
       "6840638  oddaja       stanovanje  savinjska            celje  1-sobno   \n",
       "6838784  oddaja       stanovanje  savinjska             žiče  1-sobno   \n",
       "\n",
       "         living_area  land_area  floor  building_year  price           seller  \n",
       "ad_id                                                                          \n",
       "6507944         50.0        NaN      1           1993  200.0  zasebna ponudba  \n",
       "6728409         23.0        NaN    p/1           1950  200.0  zasebna ponudba  \n",
       "6828267         23.0        NaN    p/4           1984  220.0  zasebna ponudba  \n",
       "6840638         30.0        NaN  11/11           1974  300.0  zasebna ponudba  \n",
       "6838784         35.0        NaN      p           2020  300.0  zasebna ponudba  "
      ]
     },
     "execution_count": 307,
     "metadata": {},
     "output_type": "execute_result"
    }
   ],
   "source": [
    "one_room_apartments.sort_values('price', ascending=True).head(5)"
   ]
  },
  {
   "cell_type": "markdown",
   "id": "73bfbfe2-3db4-46f7-a0e0-b8c793100c62",
   "metadata": {},
   "source": [
    "Oglejmo si splošno razporeditev cen."
   ]
  },
  {
   "cell_type": "code",
   "execution_count": 308,
   "id": "07489144-1b7c-401e-823e-9b0f40433507",
   "metadata": {},
   "outputs": [
    {
     "data": {
      "text/plain": [
       "<Axes: title={'center': 'Razporeditev cen'}, ylabel='Frequency'>"
      ]
     },
     "execution_count": 308,
     "metadata": {},
     "output_type": "execute_result"
    },
    {
     "data": {
      "image/png": "[encoded data removed]",
      "text/plain": [
       "<Figure size 640x480 with 1 Axes>"
      ]
     },
     "metadata": {},
     "output_type": "display_data"
    }
   ],
   "source": [
    "rent_df['price'].plot.hist(\n",
    "    title='Razporeditev cen',\n",
    "    bins=20, \n",
    "    xlim=[rent_df['price'].min(), rent_df['price'].max()]\n",
    ")"
   ]
  },
  {
   "cell_type": "markdown",
   "id": "1377f745-ce99-4bf1-a749-20bca5c56b9d",
   "metadata": {},
   "source": [
    "Opazimo, da je večina oglasov za najem stanovanj v cenovnem razponu od 0 do 1000 evrov/mesec, zato bomo podrobneje pogledali razporeditev oglasov v tem cenovnem razponu."
   ]
  },
  {
   "cell_type": "code",
   "execution_count": 309,
   "id": "447e499c-10e6-4805-8114-5452fef6f54c",
   "metadata": {},
   "outputs": [
    {
     "data": {
      "text/plain": [
       "<Axes: title={'center': 'Razporeditev cen. Oglasi od 0 do 1000 evrov'}, ylabel='Frequency'>"
      ]
     },
     "execution_count": 309,
     "metadata": {},
     "output_type": "execute_result"
    },
    {
     "data": {
      "image/png": "[encoded data removed]",
      "text/plain": [
       "<Figure size 640x480 with 1 Axes>"
      ]
     },
     "metadata": {},
     "output_type": "display_data"
    }
   ],
   "source": [
    "first_group = rent_df[rent_df['price'] <= 1000]\n",
    "first_group['price'].plot.hist(\n",
    "    title='Razporeditev cen. Oglasi od 0 do 1000 evrov',\n",
    "    bins=20, \n",
    "    xlim=[first_group['price'].min(), first_group['price'].max()]\n",
    ")"
   ]
  },
  {
   "cell_type": "markdown",
   "id": "be301db8-220a-4f79-8d0f-423c9488d751",
   "metadata": {},
   "source": [
    "##  Povprečne in mediane cene"
   ]
  },
  {
   "cell_type": "markdown",
   "id": "6d8a22ff-f928-4682-8442-57252e09e8d4",
   "metadata": {},
   "source": [
    "V tem podrazdelku bomo izračunali in primerjali povprečne in mediane cene nepremičnin. Analiza bo segmentirana po tipu nepremičnine (hiše, stanovanja) in tipu oglasa (prodaja, najem), da bi izpostavili morebitne razlike. Razumevanje teh mer centralne tendence pomaga oceniti tipične tržne cene."
   ]
  },
  {
   "cell_type": "markdown",
   "id": "ddf91721-22ee-4561-93ce-bf6581881836",
   "metadata": {},
   "source": [
    "### Povprečne in mediane cene (prodaja)"
   ]
  },
  {
   "cell_type": "markdown",
   "id": "e43bd270-b32c-4be5-9cb6-1fbbdff3c51d",
   "metadata": {},
   "source": [
    "Izračunajmo povprečne in mediane vrednosti cene prodaje hiš in stanovanj."
   ]
  },
  {
   "cell_type": "code",
   "execution_count": 310,
   "id": "7a159703-d381-42f0-bb75-26e5eda33287",
   "metadata": {},
   "outputs": [
    {
     "data": {
      "text/html": [
       "<div>\n",
       "<style scoped>\n",
       "    .dataframe tbody tr th:only-of-type {\n",
       "        vertical-align: middle;\n",
       "    }\n",
       "\n",
       "    .dataframe tbody tr th {\n",
       "        vertical-align: top;\n",
       "    }\n",
       "\n",
       "    .dataframe thead th {\n",
       "        text-align: right;\n",
       "    }\n",
       "</style>\n",
       "<table border=\"1\" class=\"dataframe\">\n",
       "  <thead>\n",
       "    <tr style=\"text-align: right;\">\n",
       "      <th></th>\n",
       "      <th>mean</th>\n",
       "      <th>median</th>\n",
       "    </tr>\n",
       "    <tr>\n",
       "      <th>real_estate_type</th>\n",
       "      <th></th>\n",
       "      <th></th>\n",
       "    </tr>\n",
       "  </thead>\n",
       "  <tbody>\n",
       "    <tr>\n",
       "      <th>hiša</th>\n",
       "      <td>426533.337198</td>\n",
       "      <td>299000.0</td>\n",
       "    </tr>\n",
       "    <tr>\n",
       "      <th>stanovanje</th>\n",
       "      <td>299684.697553</td>\n",
       "      <td>245000.0</td>\n",
       "    </tr>\n",
       "  </tbody>\n",
       "</table>\n",
       "</div>"
      ],
      "text/plain": [
       "                           mean    median\n",
       "real_estate_type                         \n",
       "hiša              426533.337198  299000.0\n",
       "stanovanje        299684.697553  245000.0"
      ]
     },
     "execution_count": 310,
     "metadata": {},
     "output_type": "execute_result"
    }
   ],
   "source": [
    "sell_df.groupby('real_estate_type')['price'].agg(['mean', 'median'])"
   ]
  },
  {
   "cell_type": "markdown",
   "id": "065922b5-3bcb-4c5f-8956-ed9cfa3f10ed",
   "metadata": {},
   "source": [
    "Posebej bomo pregledali povprečne in mediane cene prodaje samostojnih hiš in 2-3 sobnih stanovanj."
   ]
  },
  {
   "cell_type": "markdown",
   "id": "89faefa7-1d51-4a2d-bea6-b92a83aab14c",
   "metadata": {},
   "source": [
    "**Samostojne hiše:**"
   ]
  },
  {
   "cell_type": "code",
   "execution_count": 311,
   "id": "243cbc79-c7d3-4de1-bb00-8bfadf113175",
   "metadata": {},
   "outputs": [
    {
     "data": {
      "text/plain": [
       "mean      427086.504063\n",
       "median    280417.500000\n",
       "Name: price, dtype: float64"
      ]
     },
     "execution_count": 311,
     "metadata": {},
     "output_type": "execute_result"
    }
   ],
   "source": [
    "single_homes['price'].agg(['mean', 'median'])"
   ]
  },
  {
   "cell_type": "markdown",
   "id": "cb39d466-c840-43ac-8403-10f09dfc3702",
   "metadata": {},
   "source": [
    "**2-sobni stanovanja:**"
   ]
  },
  {
   "cell_type": "code",
   "execution_count": 312,
   "id": "7e1312c1-0505-49ad-900c-9a506635a570",
   "metadata": {},
   "outputs": [
    {
     "data": {
      "text/plain": [
       "mean      203421.631709\n",
       "median    180000.000000\n",
       "Name: price, dtype: float64"
      ]
     },
     "execution_count": 312,
     "metadata": {},
     "output_type": "execute_result"
    }
   ],
   "source": [
    "two_room_apartments['price'].agg(['mean', 'median'])"
   ]
  },
  {
   "cell_type": "markdown",
   "id": "aac63402-6980-4dc8-9235-c1ac4e336f41",
   "metadata": {},
   "source": [
    "**3-sobni stanovanja:**"
   ]
  },
  {
   "cell_type": "code",
   "execution_count": 313,
   "id": "df4994ec-5dbc-4fa0-8e93-ebc76590b10d",
   "metadata": {},
   "outputs": [
    {
     "data": {
      "text/plain": [
       "mean      305474.056449\n",
       "median    264900.000000\n",
       "Name: price, dtype: float64"
      ]
     },
     "execution_count": 313,
     "metadata": {},
     "output_type": "execute_result"
    }
   ],
   "source": [
    "three_room_apartments['price'].agg(['mean', 'median'])"
   ]
  },
  {
   "cell_type": "markdown",
   "id": "91a74329-aa19-48b2-a6be-e4129ebd58d4",
   "metadata": {},
   "source": [
    "### Povprečne in mediane cene (oddaja)"
   ]
  },
  {
   "cell_type": "markdown",
   "id": "e58f793b-7cf9-4470-913e-46c64a255f42",
   "metadata": {},
   "source": [
    "Izračunajmo povprečne in mediane vrednosti cene najema hiš in stanovanj."
   ]
  },
  {
   "cell_type": "code",
   "execution_count": 314,
   "id": "35077f3c-d452-47b7-94ad-e24cfbcce04f",
   "metadata": {},
   "outputs": [
    {
     "data": {
      "text/html": [
       "<div>\n",
       "<style scoped>\n",
       "    .dataframe tbody tr th:only-of-type {\n",
       "        vertical-align: middle;\n",
       "    }\n",
       "\n",
       "    .dataframe tbody tr th {\n",
       "        vertical-align: top;\n",
       "    }\n",
       "\n",
       "    .dataframe thead th {\n",
       "        text-align: right;\n",
       "    }\n",
       "</style>\n",
       "<table border=\"1\" class=\"dataframe\">\n",
       "  <thead>\n",
       "    <tr style=\"text-align: right;\">\n",
       "      <th></th>\n",
       "      <th>mean</th>\n",
       "      <th>median</th>\n",
       "    </tr>\n",
       "    <tr>\n",
       "      <th>real_estate_type</th>\n",
       "      <th></th>\n",
       "      <th></th>\n",
       "    </tr>\n",
       "  </thead>\n",
       "  <tbody>\n",
       "    <tr>\n",
       "      <th>hiša</th>\n",
       "      <td>1909.442029</td>\n",
       "      <td>1800.0</td>\n",
       "    </tr>\n",
       "    <tr>\n",
       "      <th>stanovanje</th>\n",
       "      <td>961.945941</td>\n",
       "      <td>722.5</td>\n",
       "    </tr>\n",
       "  </tbody>\n",
       "</table>\n",
       "</div>"
      ],
      "text/plain": [
       "                         mean  median\n",
       "real_estate_type                     \n",
       "hiša              1909.442029  1800.0\n",
       "stanovanje         961.945941   722.5"
      ]
     },
     "execution_count": 314,
     "metadata": {},
     "output_type": "execute_result"
    }
   ],
   "source": [
    "rent_df.groupby('real_estate_type')['price'].agg(['mean', 'median'])"
   ]
  },
  {
   "cell_type": "markdown",
   "id": "6ab23dc0-785e-41cb-8d8f-c66b5c0e9c98",
   "metadata": {},
   "source": [
    "Posebej bomo pregledali povprečne in mediane cene najema sob, garsonjer in 1 sobnih stanovanj."
   ]
  },
  {
   "cell_type": "markdown",
   "id": "7fb4fb4b-0204-455f-a64e-e8aefb0a3b8f",
   "metadata": {},
   "source": [
    "**Sobe:**"
   ]
  },
  {
   "cell_type": "code",
   "execution_count": 315,
   "id": "3a1da2d2-e47e-4dc8-8df6-802441e84f30",
   "metadata": {},
   "outputs": [
    {
     "data": {
      "text/plain": [
       "mean      262.462121\n",
       "median    250.000000\n",
       "Name: price, dtype: float64"
      ]
     },
     "execution_count": 315,
     "metadata": {},
     "output_type": "execute_result"
    }
   ],
   "source": [
    "rooms['price'].agg(['mean', 'median'])"
   ]
  },
  {
   "cell_type": "markdown",
   "id": "ffce2e5f-28c5-4d1b-95f3-adb6bbfedbf4",
   "metadata": {},
   "source": [
    "**Garsonjere:**"
   ]
  },
  {
   "cell_type": "code",
   "execution_count": 316,
   "id": "526152bb-a61d-404e-9f97-1e6597e8e6d4",
   "metadata": {},
   "outputs": [
    {
     "data": {
      "text/plain": [
       "mean      551.572368\n",
       "median    550.000000\n",
       "Name: price, dtype: float64"
      ]
     },
     "execution_count": 316,
     "metadata": {},
     "output_type": "execute_result"
    }
   ],
   "source": [
    "studios['price'].agg(['mean', 'median'])"
   ]
  },
  {
   "cell_type": "markdown",
   "id": "170181b2-9a92-440b-99a9-e99f28e43f3c",
   "metadata": {},
   "source": [
    "**1-sobni stanovanja:**"
   ]
  },
  {
   "cell_type": "code",
   "execution_count": 317,
   "id": "8faa9532-a2b2-46dd-95a0-e364633abef7",
   "metadata": {},
   "outputs": [
    {
     "data": {
      "text/plain": [
       "mean      595.585938\n",
       "median    600.000000\n",
       "Name: price, dtype: float64"
      ]
     },
     "execution_count": 317,
     "metadata": {},
     "output_type": "execute_result"
    }
   ],
   "source": [
    "one_room_apartments['price'].agg(['mean', 'median'])"
   ]
  },
  {
   "cell_type": "markdown",
   "id": "d0493e13-de12-4de2-b25d-40584583c7f6",
   "metadata": {},
   "source": [
    "## Regionalne razlike v cenah"
   ]
  },
  {
   "cell_type": "markdown",
   "id": "e6a903dd-f9b4-40c3-9565-613eb5e75cdb",
   "metadata": {},
   "source": [
    "Tukaj bomo raziskali, kako se cene nepremičnin razlikujejo po različnih regijah in mestih. S primerjavo povprečnih cen na različnih lokacijah lahko prepoznamo dražja in cenejša območja, kar nam omogoča vpogled v regionalno dinamiko cen."
   ]
  },
  {
   "cell_type": "markdown",
   "id": "3a48eeb9-3349-4a77-b8a1-06420151f755",
   "metadata": {},
   "source": [
    "### Regionalne razlike v cenah (prodaja)"
   ]
  },
  {
   "cell_type": "markdown",
   "id": "24cbbf79-29e2-40c1-a9ba-25c58e8bfd6d",
   "metadata": {},
   "source": [
    "Oglejmo si, kako se povprečne in mediane cene spreminjajo glede na regijo:"
   ]
  },
  {
   "cell_type": "code",
   "execution_count": 318,
   "id": "456151c2-66f9-48b0-b57e-24d3eee5fe8e",
   "metadata": {},
   "outputs": [
    {
     "data": {
      "text/html": [
       "<div>\n",
       "<style scoped>\n",
       "    .dataframe tbody tr th:only-of-type {\n",
       "        vertical-align: middle;\n",
       "    }\n",
       "\n",
       "    .dataframe tbody tr th {\n",
       "        vertical-align: top;\n",
       "    }\n",
       "\n",
       "    .dataframe thead th {\n",
       "        text-align: right;\n",
       "    }\n",
       "</style>\n",
       "<table border=\"1\" class=\"dataframe\">\n",
       "  <thead>\n",
       "    <tr style=\"text-align: right;\">\n",
       "      <th></th>\n",
       "      <th>mean</th>\n",
       "      <th>median</th>\n",
       "    </tr>\n",
       "    <tr>\n",
       "      <th>region</th>\n",
       "      <th></th>\n",
       "      <th></th>\n",
       "    </tr>\n",
       "  </thead>\n",
       "  <tbody>\n",
       "    <tr>\n",
       "      <th>ljubljana mesto</th>\n",
       "      <td>566099.432977</td>\n",
       "      <td>449000.000</td>\n",
       "    </tr>\n",
       "    <tr>\n",
       "      <th>juzna primorska</th>\n",
       "      <td>514363.675343</td>\n",
       "      <td>365000.000</td>\n",
       "    </tr>\n",
       "    <tr>\n",
       "      <th>ljubljana okolica</th>\n",
       "      <td>441679.400000</td>\n",
       "      <td>350000.000</td>\n",
       "    </tr>\n",
       "    <tr>\n",
       "      <th>gorenjska</th>\n",
       "      <td>384061.235701</td>\n",
       "      <td>279881.875</td>\n",
       "    </tr>\n",
       "    <tr>\n",
       "      <th>severna primorska</th>\n",
       "      <td>273339.558207</td>\n",
       "      <td>195000.000</td>\n",
       "    </tr>\n",
       "    <tr>\n",
       "      <th>savinjska</th>\n",
       "      <td>261190.956689</td>\n",
       "      <td>198000.000</td>\n",
       "    </tr>\n",
       "    <tr>\n",
       "      <th>podravska</th>\n",
       "      <td>246256.906653</td>\n",
       "      <td>199809.315</td>\n",
       "    </tr>\n",
       "    <tr>\n",
       "      <th>posavska</th>\n",
       "      <td>227775.313882</td>\n",
       "      <td>193500.000</td>\n",
       "    </tr>\n",
       "    <tr>\n",
       "      <th>dolenjska</th>\n",
       "      <td>217642.723623</td>\n",
       "      <td>198498.325</td>\n",
       "    </tr>\n",
       "    <tr>\n",
       "      <th>notranjska</th>\n",
       "      <td>201453.982456</td>\n",
       "      <td>160750.000</td>\n",
       "    </tr>\n",
       "    <tr>\n",
       "      <th>koroska</th>\n",
       "      <td>193899.632353</td>\n",
       "      <td>158750.000</td>\n",
       "    </tr>\n",
       "    <tr>\n",
       "      <th>zasavska</th>\n",
       "      <td>175642.389259</td>\n",
       "      <td>127450.000</td>\n",
       "    </tr>\n",
       "    <tr>\n",
       "      <th>pomurska</th>\n",
       "      <td>155388.500484</td>\n",
       "      <td>149604.500</td>\n",
       "    </tr>\n",
       "  </tbody>\n",
       "</table>\n",
       "</div>"
      ],
      "text/plain": [
       "                            mean      median\n",
       "region                                      \n",
       "ljubljana mesto    566099.432977  449000.000\n",
       "juzna primorska    514363.675343  365000.000\n",
       "ljubljana okolica  441679.400000  350000.000\n",
       "gorenjska          384061.235701  279881.875\n",
       "severna primorska  273339.558207  195000.000\n",
       "savinjska          261190.956689  198000.000\n",
       "podravska          246256.906653  199809.315\n",
       "posavska           227775.313882  193500.000\n",
       "dolenjska          217642.723623  198498.325\n",
       "notranjska         201453.982456  160750.000\n",
       "koroska            193899.632353  158750.000\n",
       "zasavska           175642.389259  127450.000\n",
       "pomurska           155388.500484  149604.500"
      ]
     },
     "execution_count": 318,
     "metadata": {},
     "output_type": "execute_result"
    }
   ],
   "source": [
    "sell_df.groupby('region')['price'].agg(['mean', 'median']).sort_values(['mean', 'median'], ascending=[False, False])"
   ]
  },
  {
   "cell_type": "code",
   "execution_count": 319,
   "id": "2742cf91-c55d-4a6c-b291-eb78a883456b",
   "metadata": {},
   "outputs": [
    {
     "data": {
      "text/plain": [
       "<Axes: title={'center': 'Regionalne razlike v cenah'}, ylabel='region'>"
      ]
     },
     "execution_count": 319,
     "metadata": {},
     "output_type": "execute_result"
    },
    {
     "data": {
      "image/png": "[encoded data removed]",
      "text/plain": [
       "<Figure size 640x480 with 1 Axes>"
      ]
     },
     "metadata": {},
     "output_type": "display_data"
    }
   ],
   "source": [
    "sell_df.groupby('region')['price'].agg(['mean', 'median']).sort_values(['mean', 'median'], ascending=[False, False]).plot.barh(\n",
    "    title='Regionalne razlike v cenah'\n",
    ")"
   ]
  },
  {
   "cell_type": "markdown",
   "id": "366fd6a1-fefb-4832-b31f-314f4be26caa",
   "metadata": {},
   "source": [
    "Vidimo, da so najdražje nepremičnine v Ljubljani, njene okolice in na morju."
   ]
  },
  {
   "cell_type": "markdown",
   "id": "834f2006-89c9-4c30-87aa-fd2052585238",
   "metadata": {},
   "source": [
    "Zdaj si bomo ogledali 10 najdražjih mest za nakup nepremičnin, v katerih je objavljenih vsaj 25 oglasov."
   ]
  },
  {
   "cell_type": "code",
   "execution_count": 320,
   "id": "8a0a85a3-fcf8-46dc-8255-fe8a17ec7931",
   "metadata": {},
   "outputs": [],
   "source": [
    "cities_25 = []\n",
    "for city in set(sell_df['city']):\n",
    "    if int(sell_df['city'].value_counts()[city]) >= 25:\n",
    "        cities_25.append(city)"
   ]
  },
  {
   "cell_type": "code",
   "execution_count": 321,
   "id": "fc2f90f5-41b9-4584-ae3f-fdff547b3b74",
   "metadata": {},
   "outputs": [
    {
     "data": {
      "text/html": [
       "<div>\n",
       "<style scoped>\n",
       "    .dataframe tbody tr th:only-of-type {\n",
       "        vertical-align: middle;\n",
       "    }\n",
       "\n",
       "    .dataframe tbody tr th {\n",
       "        vertical-align: top;\n",
       "    }\n",
       "\n",
       "    .dataframe thead th {\n",
       "        text-align: right;\n",
       "    }\n",
       "</style>\n",
       "<table border=\"1\" class=\"dataframe\">\n",
       "  <thead>\n",
       "    <tr style=\"text-align: right;\">\n",
       "      <th></th>\n",
       "      <th>mean</th>\n",
       "      <th>median</th>\n",
       "    </tr>\n",
       "    <tr>\n",
       "      <th>city</th>\n",
       "      <th></th>\n",
       "      <th></th>\n",
       "    </tr>\n",
       "  </thead>\n",
       "  <tbody>\n",
       "    <tr>\n",
       "      <th>portorož</th>\n",
       "      <td>912840.000000</td>\n",
       "      <td>690000.0</td>\n",
       "    </tr>\n",
       "    <tr>\n",
       "      <th>kranjska gora</th>\n",
       "      <td>731101.085714</td>\n",
       "      <td>517350.0</td>\n",
       "    </tr>\n",
       "    <tr>\n",
       "      <th>bled</th>\n",
       "      <td>637666.666667</td>\n",
       "      <td>595000.0</td>\n",
       "    </tr>\n",
       "    <tr>\n",
       "      <th>ljubljana</th>\n",
       "      <td>566099.432977</td>\n",
       "      <td>449000.0</td>\n",
       "    </tr>\n",
       "    <tr>\n",
       "      <th>koper</th>\n",
       "      <td>521389.648810</td>\n",
       "      <td>401623.5</td>\n",
       "    </tr>\n",
       "    <tr>\n",
       "      <th>medvode</th>\n",
       "      <td>508349.488372</td>\n",
       "      <td>460000.0</td>\n",
       "    </tr>\n",
       "    <tr>\n",
       "      <th>izola</th>\n",
       "      <td>463263.157093</td>\n",
       "      <td>347500.0</td>\n",
       "    </tr>\n",
       "    <tr>\n",
       "      <th>piran</th>\n",
       "      <td>421745.783133</td>\n",
       "      <td>312000.0</td>\n",
       "    </tr>\n",
       "    <tr>\n",
       "      <th>škofljica</th>\n",
       "      <td>417862.962963</td>\n",
       "      <td>322560.0</td>\n",
       "    </tr>\n",
       "    <tr>\n",
       "      <th>vrhnika</th>\n",
       "      <td>416333.333333</td>\n",
       "      <td>400000.0</td>\n",
       "    </tr>\n",
       "  </tbody>\n",
       "</table>\n",
       "</div>"
      ],
      "text/plain": [
       "                        mean    median\n",
       "city                                  \n",
       "portorož       912840.000000  690000.0\n",
       "kranjska gora  731101.085714  517350.0\n",
       "bled           637666.666667  595000.0\n",
       "ljubljana      566099.432977  449000.0\n",
       "koper          521389.648810  401623.5\n",
       "medvode        508349.488372  460000.0\n",
       "izola          463263.157093  347500.0\n",
       "piran          421745.783133  312000.0\n",
       "škofljica      417862.962963  322560.0\n",
       "vrhnika        416333.333333  400000.0"
      ]
     },
     "execution_count": 321,
     "metadata": {},
     "output_type": "execute_result"
    }
   ],
   "source": [
    "sell_df[sell_df['city'].isin(cities_25)].groupby('city')['price'].agg(['mean', 'median']).sort_values(['mean', 'median'], ascending=[False, False]).head(10)"
   ]
  },
  {
   "cell_type": "code",
   "execution_count": 322,
   "id": "02669994-7b22-48da-8d83-7b5c20184db2",
   "metadata": {},
   "outputs": [
    {
     "data": {
      "text/plain": [
       "<Axes: title={'center': 'Mestne razlike v cenah (mesta z vsaj 25 oglasov)'}, ylabel='city'>"
      ]
     },
     "execution_count": 322,
     "metadata": {},
     "output_type": "execute_result"
    },
    {
     "data": {
      "image/png": "[encoded data removed]",
      "text/plain": [
       "<Figure size 640x480 with 1 Axes>"
      ]
     },
     "metadata": {},
     "output_type": "display_data"
    }
   ],
   "source": [
    "sell_df[sell_df['city'].isin(cities_25)].groupby('city')['price'].agg(['mean', 'median']).sort_values(['mean', 'median'], ascending=[False, False]).head(10).plot.barh(\n",
    "    title='Mestne razlike v cenah (mesta z vsaj 25 oglasov)'\n",
    ")"
   ]
  },
  {
   "cell_type": "markdown",
   "id": "e0c80522-a5a4-4308-9aad-53a42204a8da",
   "metadata": {},
   "source": [
    "In enako bomo storili z mesti, v katerih je objavljenih več kot 100 oglasov."
   ]
  },
  {
   "cell_type": "code",
   "execution_count": 323,
   "id": "08596c38-3289-4909-83da-a3e691fa8448",
   "metadata": {},
   "outputs": [],
   "source": [
    "cities_100 = []\n",
    "for city in set(sell_df['city']):\n",
    "    if int(sell_df['city'].value_counts()[city]) >= 100:\n",
    "        cities_100.append(city)"
   ]
  },
  {
   "cell_type": "code",
   "execution_count": 324,
   "id": "697c2f8a-05e4-44be-8d79-d6e1b32588a0",
   "metadata": {},
   "outputs": [
    {
     "data": {
      "text/html": [
       "<div>\n",
       "<style scoped>\n",
       "    .dataframe tbody tr th:only-of-type {\n",
       "        vertical-align: middle;\n",
       "    }\n",
       "\n",
       "    .dataframe tbody tr th {\n",
       "        vertical-align: top;\n",
       "    }\n",
       "\n",
       "    .dataframe thead th {\n",
       "        text-align: right;\n",
       "    }\n",
       "</style>\n",
       "<table border=\"1\" class=\"dataframe\">\n",
       "  <thead>\n",
       "    <tr style=\"text-align: right;\">\n",
       "      <th></th>\n",
       "      <th>mean</th>\n",
       "      <th>median</th>\n",
       "    </tr>\n",
       "    <tr>\n",
       "      <th>city</th>\n",
       "      <th></th>\n",
       "      <th></th>\n",
       "    </tr>\n",
       "  </thead>\n",
       "  <tbody>\n",
       "    <tr>\n",
       "      <th>ljubljana</th>\n",
       "      <td>566099.432977</td>\n",
       "      <td>449000.00</td>\n",
       "    </tr>\n",
       "    <tr>\n",
       "      <th>koper</th>\n",
       "      <td>521389.648810</td>\n",
       "      <td>401623.50</td>\n",
       "    </tr>\n",
       "    <tr>\n",
       "      <th>kranj</th>\n",
       "      <td>352036.809355</td>\n",
       "      <td>270418.75</td>\n",
       "    </tr>\n",
       "    <tr>\n",
       "      <th>celje</th>\n",
       "      <td>284051.028481</td>\n",
       "      <td>194950.00</td>\n",
       "    </tr>\n",
       "    <tr>\n",
       "      <th>novo mesto</th>\n",
       "      <td>251958.822960</td>\n",
       "      <td>248480.87</td>\n",
       "    </tr>\n",
       "  </tbody>\n",
       "</table>\n",
       "</div>"
      ],
      "text/plain": [
       "                     mean     median\n",
       "city                                \n",
       "ljubljana   566099.432977  449000.00\n",
       "koper       521389.648810  401623.50\n",
       "kranj       352036.809355  270418.75\n",
       "celje       284051.028481  194950.00\n",
       "novo mesto  251958.822960  248480.87"
      ]
     },
     "execution_count": 324,
     "metadata": {},
     "output_type": "execute_result"
    }
   ],
   "source": [
    "sell_df[sell_df['city'].isin(cities_100)].groupby('city')['price'].agg(['mean', 'median']).sort_values(['mean', 'median'], ascending=[False, False]).head(10)"
   ]
  },
  {
   "cell_type": "code",
   "execution_count": 325,
   "id": "8db5ae5f-6a65-402a-b07a-979b4f1b7c9c",
   "metadata": {},
   "outputs": [
    {
     "data": {
      "text/plain": [
       "<Axes: title={'center': 'Mestne razlike v cenah (mesta z več kot 100 oglasov)'}, ylabel='city'>"
      ]
     },
     "execution_count": 325,
     "metadata": {},
     "output_type": "execute_result"
    },
    {
     "data": {
      "image/png": "[encoded data removed]",
      "text/plain": [
       "<Figure size 640x480 with 1 Axes>"
      ]
     },
     "metadata": {},
     "output_type": "display_data"
    }
   ],
   "source": [
    "sell_df[sell_df['city'].isin(cities_100)].groupby('city')['price'].agg(['mean', 'median']).sort_values(['mean', 'median'], ascending=[False, False]).head(10).plot.barh(\n",
    "    title='Mestne razlike v cenah (mesta z več kot 100 oglasov)'\n",
    ")"
   ]
  },
  {
   "cell_type": "markdown",
   "id": "0db83c5c-02eb-40ac-81da-5758dfbdaee4",
   "metadata": {},
   "source": [
    "### Regionalne razlike v cenah (oddaja)"
   ]
  },
  {
   "cell_type": "markdown",
   "id": "220f2727-98d0-494c-9d92-af83eeb3369f",
   "metadata": {},
   "source": [
    "Oglejmo si, kako se povprečne in mediane cene spreminjajo glede na regijo:"
   ]
  },
  {
   "cell_type": "code",
   "execution_count": 326,
   "id": "dab130ef-7190-4d49-839d-41ca6fe9e481",
   "metadata": {},
   "outputs": [
    {
     "data": {
      "text/html": [
       "<div>\n",
       "<style scoped>\n",
       "    .dataframe tbody tr th:only-of-type {\n",
       "        vertical-align: middle;\n",
       "    }\n",
       "\n",
       "    .dataframe tbody tr th {\n",
       "        vertical-align: top;\n",
       "    }\n",
       "\n",
       "    .dataframe thead th {\n",
       "        text-align: right;\n",
       "    }\n",
       "</style>\n",
       "<table border=\"1\" class=\"dataframe\">\n",
       "  <thead>\n",
       "    <tr style=\"text-align: right;\">\n",
       "      <th></th>\n",
       "      <th>mean</th>\n",
       "      <th>median</th>\n",
       "    </tr>\n",
       "    <tr>\n",
       "      <th>region</th>\n",
       "      <th></th>\n",
       "      <th></th>\n",
       "    </tr>\n",
       "  </thead>\n",
       "  <tbody>\n",
       "    <tr>\n",
       "      <th>ljubljana mesto</th>\n",
       "      <td>1431.925606</td>\n",
       "      <td>1170.0</td>\n",
       "    </tr>\n",
       "    <tr>\n",
       "      <th>ljubljana okolica</th>\n",
       "      <td>1173.361345</td>\n",
       "      <td>900.0</td>\n",
       "    </tr>\n",
       "    <tr>\n",
       "      <th>juzna primorska</th>\n",
       "      <td>908.389831</td>\n",
       "      <td>725.0</td>\n",
       "    </tr>\n",
       "    <tr>\n",
       "      <th>gorenjska</th>\n",
       "      <td>873.600000</td>\n",
       "      <td>800.0</td>\n",
       "    </tr>\n",
       "    <tr>\n",
       "      <th>podravska</th>\n",
       "      <td>608.232394</td>\n",
       "      <td>550.0</td>\n",
       "    </tr>\n",
       "    <tr>\n",
       "      <th>posavska</th>\n",
       "      <td>600.000000</td>\n",
       "      <td>400.0</td>\n",
       "    </tr>\n",
       "    <tr>\n",
       "      <th>severna primorska</th>\n",
       "      <td>576.338462</td>\n",
       "      <td>520.0</td>\n",
       "    </tr>\n",
       "    <tr>\n",
       "      <th>savinjska</th>\n",
       "      <td>559.403670</td>\n",
       "      <td>500.0</td>\n",
       "    </tr>\n",
       "    <tr>\n",
       "      <th>notranjska</th>\n",
       "      <td>538.750000</td>\n",
       "      <td>475.0</td>\n",
       "    </tr>\n",
       "    <tr>\n",
       "      <th>koroska</th>\n",
       "      <td>523.636364</td>\n",
       "      <td>380.0</td>\n",
       "    </tr>\n",
       "    <tr>\n",
       "      <th>dolenjska</th>\n",
       "      <td>517.297297</td>\n",
       "      <td>450.0</td>\n",
       "    </tr>\n",
       "    <tr>\n",
       "      <th>pomurska</th>\n",
       "      <td>473.333333</td>\n",
       "      <td>500.0</td>\n",
       "    </tr>\n",
       "    <tr>\n",
       "      <th>zasavska</th>\n",
       "      <td>451.785714</td>\n",
       "      <td>400.0</td>\n",
       "    </tr>\n",
       "  </tbody>\n",
       "</table>\n",
       "</div>"
      ],
      "text/plain": [
       "                          mean  median\n",
       "region                                \n",
       "ljubljana mesto    1431.925606  1170.0\n",
       "ljubljana okolica  1173.361345   900.0\n",
       "juzna primorska     908.389831   725.0\n",
       "gorenjska           873.600000   800.0\n",
       "podravska           608.232394   550.0\n",
       "posavska            600.000000   400.0\n",
       "severna primorska   576.338462   520.0\n",
       "savinjska           559.403670   500.0\n",
       "notranjska          538.750000   475.0\n",
       "koroska             523.636364   380.0\n",
       "dolenjska           517.297297   450.0\n",
       "pomurska            473.333333   500.0\n",
       "zasavska            451.785714   400.0"
      ]
     },
     "execution_count": 326,
     "metadata": {},
     "output_type": "execute_result"
    }
   ],
   "source": [
    "rent_df.groupby('region')['price'].agg(['mean', 'median']).sort_values(['mean', 'median'], ascending=[False, False])"
   ]
  },
  {
   "cell_type": "code",
   "execution_count": 327,
   "id": "ce4f7732-fefa-4501-86af-d9d78a79ad56",
   "metadata": {},
   "outputs": [
    {
     "data": {
      "text/plain": [
       "<Axes: title={'center': 'Regionalne razlike v cenah'}, ylabel='region'>"
      ]
     },
     "execution_count": 327,
     "metadata": {},
     "output_type": "execute_result"
    },
    {
     "data": {
      "image/png": "[encoded data removed]",
      "text/plain": [
       "<Figure size 640x480 with 1 Axes>"
      ]
     },
     "metadata": {},
     "output_type": "display_data"
    }
   ],
   "source": [
    "rent_df.groupby('region')['price'].agg(['mean', 'median']).sort_values(['mean', 'median'], ascending=[False, False]).plot.barh(\n",
    "    title='Regionalne razlike v cenah'\n",
    ")"
   ]
  },
  {
   "cell_type": "markdown",
   "id": "0e0bd6dd-8cca-4536-9edf-6e3899146d50",
   "metadata": {},
   "source": [
    "Spet vidimo, da so najdražje nepremičnine za najem v Ljubljani, njene okolice in na morju."
   ]
  },
  {
   "cell_type": "markdown",
   "id": "479d0380-c7a8-4f33-bae4-3efd09808cf7",
   "metadata": {},
   "source": [
    "Zdaj si bomo ogledali 10 najdražjih mest za najem nepremičnin, v katerih je objavljenih vsaj 10 oglasov."
   ]
  },
  {
   "cell_type": "code",
   "execution_count": 328,
   "id": "8646eb71-84e6-4a99-824f-7e1e31b278ae",
   "metadata": {},
   "outputs": [],
   "source": [
    "cities_25_rent = []\n",
    "for city in set(rent_df['city']):\n",
    "    if int(rent_df['city'].value_counts()[city]) >= 10:\n",
    "        cities_25_rent.append(city)"
   ]
  },
  {
   "cell_type": "code",
   "execution_count": 329,
   "id": "a6760e0c-9c80-47f9-ae94-e0879159cb7a",
   "metadata": {},
   "outputs": [
    {
     "data": {
      "text/html": [
       "<div>\n",
       "<style scoped>\n",
       "    .dataframe tbody tr th:only-of-type {\n",
       "        vertical-align: middle;\n",
       "    }\n",
       "\n",
       "    .dataframe tbody tr th {\n",
       "        vertical-align: top;\n",
       "    }\n",
       "\n",
       "    .dataframe thead th {\n",
       "        text-align: right;\n",
       "    }\n",
       "</style>\n",
       "<table border=\"1\" class=\"dataframe\">\n",
       "  <thead>\n",
       "    <tr style=\"text-align: right;\">\n",
       "      <th></th>\n",
       "      <th>mean</th>\n",
       "      <th>median</th>\n",
       "    </tr>\n",
       "    <tr>\n",
       "      <th>city</th>\n",
       "      <th></th>\n",
       "      <th></th>\n",
       "    </tr>\n",
       "  </thead>\n",
       "  <tbody>\n",
       "    <tr>\n",
       "      <th>ljubljana</th>\n",
       "      <td>1431.925606</td>\n",
       "      <td>1170.0</td>\n",
       "    </tr>\n",
       "    <tr>\n",
       "      <th>portorož</th>\n",
       "      <td>1018.181818</td>\n",
       "      <td>800.0</td>\n",
       "    </tr>\n",
       "    <tr>\n",
       "      <th>bled</th>\n",
       "      <td>990.000000</td>\n",
       "      <td>800.0</td>\n",
       "    </tr>\n",
       "    <tr>\n",
       "      <th>kranj</th>\n",
       "      <td>963.636364</td>\n",
       "      <td>1088.0</td>\n",
       "    </tr>\n",
       "    <tr>\n",
       "      <th>domžale</th>\n",
       "      <td>889.230769</td>\n",
       "      <td>800.0</td>\n",
       "    </tr>\n",
       "    <tr>\n",
       "      <th>piran</th>\n",
       "      <td>877.500000</td>\n",
       "      <td>600.0</td>\n",
       "    </tr>\n",
       "    <tr>\n",
       "      <th>koper</th>\n",
       "      <td>874.324324</td>\n",
       "      <td>700.0</td>\n",
       "    </tr>\n",
       "    <tr>\n",
       "      <th>izola</th>\n",
       "      <td>803.076923</td>\n",
       "      <td>650.0</td>\n",
       "    </tr>\n",
       "    <tr>\n",
       "      <th>celje</th>\n",
       "      <td>677.432432</td>\n",
       "      <td>600.0</td>\n",
       "    </tr>\n",
       "    <tr>\n",
       "      <th>ptuj</th>\n",
       "      <td>639.090909</td>\n",
       "      <td>600.0</td>\n",
       "    </tr>\n",
       "  </tbody>\n",
       "</table>\n",
       "</div>"
      ],
      "text/plain": [
       "                  mean  median\n",
       "city                          \n",
       "ljubljana  1431.925606  1170.0\n",
       "portorož   1018.181818   800.0\n",
       "bled        990.000000   800.0\n",
       "kranj       963.636364  1088.0\n",
       "domžale     889.230769   800.0\n",
       "piran       877.500000   600.0\n",
       "koper       874.324324   700.0\n",
       "izola       803.076923   650.0\n",
       "celje       677.432432   600.0\n",
       "ptuj        639.090909   600.0"
      ]
     },
     "execution_count": 329,
     "metadata": {},
     "output_type": "execute_result"
    }
   ],
   "source": [
    "rent_df[rent_df['city'].isin(cities_25_rent)].groupby('city')['price'].agg(['mean', 'median']).sort_values(['mean', 'median'], ascending=[False, False]).head(10)"
   ]
  },
  {
   "cell_type": "code",
   "execution_count": 330,
   "id": "cc110091-e6d1-459b-9a72-c22e423a9abd",
   "metadata": {},
   "outputs": [
    {
     "data": {
      "text/plain": [
       "<Axes: title={'center': 'Mestne razlike v cenah (mesta z vsaj 10 oglasov)'}, ylabel='city'>"
      ]
     },
     "execution_count": 330,
     "metadata": {},
     "output_type": "execute_result"
    },
    {
     "data": {
      "image/png": "[encoded data removed]",
      "text/plain": [
       "<Figure size 640x480 with 1 Axes>"
      ]
     },
     "metadata": {},
     "output_type": "display_data"
    }
   ],
   "source": [
    "rent_df[rent_df['city'].isin(cities_25_rent)].groupby('city')['price'].agg(['mean', 'median']).sort_values(['mean', 'median'], ascending=[False, False]).head(10).plot.barh(\n",
    "    title='Mestne razlike v cenah (mesta z vsaj 10 oglasov)'\n",
    ")"
   ]
  },
  {
   "cell_type": "markdown",
   "id": "752843e7-6e1c-4fe8-872c-1f8615cdaca9",
   "metadata": {},
   "source": [
    "In enako bomo storili z mesti, v katerih je objavljenih več kot 25 oglasov."
   ]
  },
  {
   "cell_type": "code",
   "execution_count": 331,
   "id": "61b47201-ace7-4e3a-907d-563ff9d32cd8",
   "metadata": {},
   "outputs": [],
   "source": [
    "cities_100_rent = []\n",
    "for city in set(rent_df['city']):\n",
    "    if int(rent_df['city'].value_counts()[city]) >= 25:\n",
    "        cities_100_rent.append(city)"
   ]
  },
  {
   "cell_type": "code",
   "execution_count": 332,
   "id": "1404475c-ed9b-42fd-84a0-ed0464e166ef",
   "metadata": {},
   "outputs": [
    {
     "data": {
      "text/html": [
       "<div>\n",
       "<style scoped>\n",
       "    .dataframe tbody tr th:only-of-type {\n",
       "        vertical-align: middle;\n",
       "    }\n",
       "\n",
       "    .dataframe tbody tr th {\n",
       "        vertical-align: top;\n",
       "    }\n",
       "\n",
       "    .dataframe thead th {\n",
       "        text-align: right;\n",
       "    }\n",
       "</style>\n",
       "<table border=\"1\" class=\"dataframe\">\n",
       "  <thead>\n",
       "    <tr style=\"text-align: right;\">\n",
       "      <th></th>\n",
       "      <th>mean</th>\n",
       "      <th>median</th>\n",
       "    </tr>\n",
       "    <tr>\n",
       "      <th>city</th>\n",
       "      <th></th>\n",
       "      <th></th>\n",
       "    </tr>\n",
       "  </thead>\n",
       "  <tbody>\n",
       "    <tr>\n",
       "      <th>ljubljana</th>\n",
       "      <td>1431.925606</td>\n",
       "      <td>1170.0</td>\n",
       "    </tr>\n",
       "    <tr>\n",
       "      <th>koper</th>\n",
       "      <td>874.324324</td>\n",
       "      <td>700.0</td>\n",
       "    </tr>\n",
       "    <tr>\n",
       "      <th>celje</th>\n",
       "      <td>677.432432</td>\n",
       "      <td>600.0</td>\n",
       "    </tr>\n",
       "    <tr>\n",
       "      <th>maribor</th>\n",
       "      <td>575.833333</td>\n",
       "      <td>550.0</td>\n",
       "    </tr>\n",
       "  </tbody>\n",
       "</table>\n",
       "</div>"
      ],
      "text/plain": [
       "                  mean  median\n",
       "city                          \n",
       "ljubljana  1431.925606  1170.0\n",
       "koper       874.324324   700.0\n",
       "celje       677.432432   600.0\n",
       "maribor     575.833333   550.0"
      ]
     },
     "execution_count": 332,
     "metadata": {},
     "output_type": "execute_result"
    }
   ],
   "source": [
    "rent_df[rent_df['city'].isin(cities_100_rent)].groupby('city')['price'].agg(['mean', 'median']).sort_values(['mean', 'median'], ascending=[False, False]).head(10)"
   ]
  },
  {
   "cell_type": "code",
   "execution_count": 333,
   "id": "2ac73b1e-0cea-4910-88d2-53b819263c51",
   "metadata": {},
   "outputs": [
    {
     "data": {
      "text/plain": [
       "<Axes: title={'center': 'Mestne razlike v cenah (mesta z več kot 25 oglasov)'}, ylabel='city'>"
      ]
     },
     "execution_count": 333,
     "metadata": {},
     "output_type": "execute_result"
    },
    {
     "data": {
      "image/png": "[encoded data removed]",
      "text/plain": [
       "<Figure size 640x480 with 1 Axes>"
      ]
     },
     "metadata": {},
     "output_type": "display_data"
    }
   ],
   "source": [
    "rent_df[rent_df['city'].isin(cities_100_rent)].groupby('city')['price'].agg(['mean', 'median']).sort_values(['mean', 'median'], ascending=[False, False]).head(10).plot.barh(\n",
    "    title='Mestne razlike v cenah (mesta z več kot 25 oglasov)'\n",
    ")"
   ]
  },
  {
   "cell_type": "markdown",
   "id": "7e558fc6-ffd0-4489-93cf-8849a568d98e",
   "metadata": {},
   "source": [
    "***\n",
    "# Poglavje 3\n",
    "# Analiza značilnosti nepremičnin"
   ]
  },
  {
   "cell_type": "markdown",
   "id": "4a72d0b2-5339-488a-9be4-d2d4ee9d8bdf",
   "metadata": {},
   "source": [
    "Ta razdelek se osredotoča na analizo specifičnih značilnosti nepremičnin, kot so leto gradnje in površina. Raziskali bomo, kako ti dejavniki vplivajo na cene nepremičnin in druge tržne dinamike. Razumevanje teh značilnosti lahko zagotovi globlje vpoglede v to, kaj vpliva na vrednost nepremičnine."
   ]
  },
  {
   "cell_type": "markdown",
   "id": "24ce827a-e5ae-451b-924e-840f87710c36",
   "metadata": {},
   "source": [
    "Na začetku poglavja si bomo ogledali, kako so vse zanimive značilnosti (region, mesto, bivalni prostor, površina zemljišča, leto gradnje in cena) povezane med seboj. Za to bomo vse zanimive podatke tipa `string` pretvorili v številčno obliko (regije in mesta bomo ocenili glede na število oglasov v njih) in narisali korelacijsko matriko.\n",
    "\n",
    "Omejili se bomo samo na oglase za prodajo."
   ]
  },
  {
   "cell_type": "code",
   "execution_count": 334,
   "id": "4c3b3605-e8f3-4d68-9662-633c66f74b7f",
   "metadata": {},
   "outputs": [],
   "source": [
    "def interpreter(data_frame, column_index, transitional_dict):\n",
    "\n",
    "    for i_id, object_ in enumerate(data_frame.iloc [:, column_index]):\n",
    "        numeric_df.iat[i_id, column_index] = transitional_dict[object_]"
   ]
  },
  {
   "cell_type": "code",
   "execution_count": 335,
   "id": "58400a88-51e2-4d49-8448-0cf7bbd9a75b",
   "metadata": {},
   "outputs": [],
   "source": [
    "transitional_dict_regions = {}\n",
    "for region in set(sell_df['region']):\n",
    "    points = int(sell_df.groupby('region').size()[region])\n",
    "    transitional_dict_regions[region] = points"
   ]
  },
  {
   "cell_type": "code",
   "execution_count": 336,
   "id": "ce5fef38-cae2-4f46-b946-1946eed5b434",
   "metadata": {},
   "outputs": [],
   "source": [
    "transitional_dict_cities = {}\n",
    "for city in set(sell_df['city']):\n",
    "    points = int(sell_df.groupby('city').size()[city])\n",
    "    transitional_dict_cities[city] = points"
   ]
  },
  {
   "cell_type": "code",
   "execution_count": 337,
   "id": "a204b919-ad0e-49f6-b1a0-c242053a8a97",
   "metadata": {},
   "outputs": [],
   "source": [
    "numeric_df = sell_df.copy()\n",
    "\n",
    "interpreter(numeric_df, 2, transitional_dict_regions)\n",
    "numeric_df['region'] = numeric_df['region'].astype(int)\n",
    "\n",
    "interpreter(numeric_df, 3, transitional_dict_cities)\n",
    "numeric_df['city'] = numeric_df['city'].astype(int)"
   ]
  },
  {
   "cell_type": "code",
   "execution_count": 338,
   "id": "0695b9bb-09a1-4046-ae25-26f01b07b05a",
   "metadata": {},
   "outputs": [
    {
     "data": {
      "text/plain": [
       "Text(0.5, 1.0, 'Korelacijska matrika')"
      ]
     },
     "execution_count": 338,
     "metadata": {},
     "output_type": "execute_result"
    },
    {
     "data": {
      "image/png": "[encoded data removed]",
      "text/plain": [
       "<Figure size 640x480 with 2 Axes>"
      ]
     },
     "metadata": {},
     "output_type": "display_data"
    }
   ],
   "source": [
    "numeric_df = numeric_df.select_dtypes(include=np.number)\n",
    "matrix = numeric_df.corr()\n",
    "sbn.heatmap(matrix, annot=True, cmap=\"coolwarm\", vmin=-1, vmax=1)\n",
    "plt.xticks(rotation=45, ha=\"right\")\n",
    "plt.title(\"Korelacijska matrika\")"
   ]
  },
  {
   "cell_type": "markdown",
   "id": "bb3c31f0-1799-4c2b-8113-cdc34899f5bd",
   "metadata": {},
   "source": [
    "Vidimo, da na ceno najbolj vplivata regija in mesto. Vpliv bivalnega prostora in leta gradnje se zdi zanemarljiv. Da bi ugotovili, ali je to res tako, bomo preučili, kako te značilnosti nepremičnine vplivajo na njeno vrednost v posameznih regijah."
   ]
  },
  {
   "cell_type": "markdown",
   "id": "73190ebc-29c1-490f-8067-54f6fca2007e",
   "metadata": {},
   "source": [
    "## Leto gradnje"
   ]
  },
  {
   "cell_type": "markdown",
   "id": "e12fd21e-869b-4de3-8554-1e98d0622207",
   "metadata": {},
   "source": [
    "V tem podrazdelku bomo analizirali razporeditev nepremičnin glede na leto gradnje. Prav tako bomo primerjali, kako starost nepremičnine vpliva na njeno ceno in druge značilnosti. Ta analiza lahko razkrije trende, povezane s povpraševanjem po starejših ali novejših nepremičninah."
   ]
  },
  {
   "cell_type": "markdown",
   "id": "bda69951-6a77-4a20-b7a8-56743cd6d82c",
   "metadata": {},
   "source": [
    "Za začetek si bomo ogledali razporeditev števila oglasov glede na leto gradnje."
   ]
  },
  {
   "cell_type": "code",
   "execution_count": 412,
   "id": "d2133b2b-e7b4-46e9-824c-e0a633fdd538",
   "metadata": {},
   "outputs": [
    {
     "data": {
      "text/plain": [
       "<Axes: title={'center': 'Razporeditev števila oglasov glede na leto gradnje'}, ylabel='Frequency'>"
      ]
     },
     "execution_count": 412,
     "metadata": {},
     "output_type": "execute_result"
    },
    {
     "data": {
      "image/png": "[encoded data removed]",
      "text/plain": [
       "<Figure size 640x480 with 1 Axes>"
      ]
     },
     "metadata": {},
     "output_type": "display_data"
    }
   ],
   "source": [
    "sell_df['building_year'].plot.hist(\n",
    "    title='Razporeditev števila oglasov glede na leto gradnje',\n",
    "    bins=20\n",
    ")"
   ]
  },
  {
   "cell_type": "markdown",
   "id": "3654ea07-79e6-4a03-aa3b-0a971cb00a4a",
   "metadata": {},
   "source": [
    "Vidimo, da so na trgu v prevladujočem številu predstavljeni objekti, zgrajeni po letu 1900. Zato si bomo ogledali, kako leto gradnje za objekte, zgrajene po letu 1900, vpliva na njihovo ceno v regijah, kot sta Ljubljana in Južna Primorska."
   ]
  },
  {
   "cell_type": "code",
   "execution_count": 416,
   "id": "d5eca47d-03cd-4456-92cf-d2efd60d5dd9",
   "metadata": {},
   "outputs": [
    {
     "data": {
      "image/png": "[encoded data removed]",
      "text/plain": [
       "<Figure size 640x480 with 2 Axes>"
      ]
     },
     "metadata": {},
     "output_type": "display_data"
    }
   ],
   "source": [
    "for index, region in enumerate(['ljubljana mesto', 'juzna primorska']):\n",
    "    tmp_df = sell_df[(sell_df['region'] == region) & ((sell_df['building_year'] >= 1900))]\n",
    "    \n",
    "    plt.subplot (2, 1, index + 1)\n",
    "    plt.scatter(\n",
    "        x=tmp_df['building_year'], \n",
    "        y=tmp_df['price']\n",
    "    )\n",
    "    plt.title(region)\n",
    "    plt.subplots_adjust(hspace=0.5)"
   ]
  },
  {
   "cell_type": "code",
   "execution_count": 415,
   "id": "d488edd4-4c73-450a-91d9-eb10dbb65f30",
   "metadata": {},
   "outputs": [
    {
     "data": {
      "image/png": "[encoded data removed]",
      "text/plain": [
       "<Figure size 640x480 with 4 Axes>"
      ]
     },
     "metadata": {},
     "output_type": "display_data"
    }
   ],
   "source": [
    "for index, region in enumerate(['ljubljana mesto', 'juzna primorska']):\n",
    "    tmp_df = sell_df[(sell_df['region'] == region) & ((sell_df['building_year'] >= 1900))]\n",
    "    \n",
    "    plt.subplot (1, 2, index + 1)\n",
    "    matrix_ljubljana = tmp_df[['building_year', 'price']].corr()\n",
    "    sbn.heatmap(matrix_ljubljana, annot=True, cmap=\"coolwarm\", vmin=-1, vmax=1)\n",
    "    plt.xticks(rotation=45, ha=\"right\")\n",
    "    plt.title(region)\n",
    "    plt.subplots_adjust(wspace=0.5)"
   ]
  },
  {
   "cell_type": "markdown",
   "id": "3b746d36-03d1-46d0-b014-919e3bb042a7",
   "metadata": {},
   "source": [
    "Vidimo, da leto gradnje dejansko skoraj ne vpliva na vrednost nepremičnine."
   ]
  },
  {
   "cell_type": "markdown",
   "id": "56306a50-5fa3-44e4-8f7c-e584f00cf0a8",
   "metadata": {},
   "source": [
    "Vidimo, da se potrjuje malo vpliva leta gradnje na vrednost nepremičnine."
   ]
  },
  {
   "cell_type": "code",
   "execution_count": null,
   "id": "d6f9e8b2-7537-4a01-b0f0-592a1d92c6d4",
   "metadata": {},
   "outputs": [],
   "source": []
  }
 ],
 "metadata": {
  "kernelspec": {
   "display_name": "Python 3 (ipykernel)",
   "language": "python",
   "name": "python3"
  },
  "language_info": {
   "codemirror_mode": {
    "name": "ipython",
    "version": 3
   },
   "file_extension": ".py",
   "mimetype": "text/x-python",
   "name": "python",
   "nbconvert_exporter": "python",
   "pygments_lexer": "ipython3",
   "version": "3.12.3"
  }
 },
 "nbformat": 4,
 "nbformat_minor": 5
}
