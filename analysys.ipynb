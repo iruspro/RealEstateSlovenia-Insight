{
 "cells": [
  {
   "cell_type": "markdown",
   "id": "c54b67c9-d8d1-4322-9274-88a1cd0e83ae",
   "metadata": {},
   "source": [
    "# Vpogled v nepremičnine: Analiza slovenskega nepremičninskega trga"
   ]
  },
  {
   "cell_type": "markdown",
   "id": "2108cf63-47a1-43e5-a942-f5b9002fc899",
   "metadata": {},
   "source": [
    "Ta projekt si prizadeva zagotoviti poglobljeno analizo slovenskega nepremičninskega trga, s poudarkom na prodaji in dolgoročnem najemu. Podatki za to analizo so bili pridobljeni s spletnega mesta https://www.nepremicnine.net/, ki zajema širok spekter nepremičninskih oglasov.\n",
    "\n",
    "Z uporabo knjižnice Pandas v programskem jeziku Python znotraj okolja Jupyter Notebook bo projekt raziskal ključne tržne trende, cenovne vzorce in geografsko razporeditev nepremičnin. S pomočjo vizualizacije teh podatkov in izvedbe statističnih analiz bo projekt poskušal ponuditi dragocene vpoglede v dinamiko slovenskega nepremičninskega trga, kar bi lahko pomagalo kupcem, najemnikom in vlagateljem pri sprejemanju premišljenih odločitev."
   ]
  },
  {
   "cell_type": "markdown",
   "id": "15cf0dc5-c206-4211-a87c-bdfec7f73bd9",
   "metadata": {},
   "source": [
    "# Vsebina\n",
    "1. [Pregled trga](#Poglavje-1)\n",
    "   - [Razporeditev oglasov po tipih (prodaja/oddaja)](#Razdelek-1.1)\n",
    "   - [Razporeditev oglasov po tipu nepremičnine (hiša/stanovanje)](#Razdelek-1.2)\n",
    "   - [Geografska razporeditev](#Razdelek-1.3)\n",
    "2. [Analiza cen](#Poglavje-2)\n",
    "   - [Razporeditev cen](#Razdelek-2.1)\n",
    "     - [Razporeditev cen (prodaja)](#Podrazdelek-2.1.1)\n",
    "     - [Razporeditev cen (oddaja)](#Podrazdelek-2.1.2)\n",
    "   - [Povprečne in mediane cene](#Razdelek-2.2)\n",
    "     - [Povprečne in mediane cene (prodaja)](#Podrazdelek-2.2.1)\n",
    "     - [Povprečne in mediane cene (oddaja)](#Podrazdelek-2.2.2)\n",
    "   - [Regionalne razlike v cenah](#Razdelek-2.3)\n",
    "     - [Regionalne razlike v cenah (prodaja)](#Podrazdelek-2.3.1)\n",
    "     - [Regionalne razlike v cenah (oddaja)](#Podrazdelek-2.3.2)\n",
    "3. [Analiza značilnosti nepremičnin](#Poglavje-3)\n",
    "   - [Leto gradnje](#Razdelek-3.1)\n",
    "   - [Bivalni prostor](#Razdelek-3.2)\n",
    "4. [Primerjalna analiza najema in prodaje](#Poglavje-4)\n",
    "   - [Razmerje cen](#Razdelek-4.1)\n",
    "   - [Donosnost najema](#Razdelek-4.2)\n",
    "5. [Rezultati](#Poglavje-5)\n",
    "     "
   ]
  },
  {
   "cell_type": "markdown",
   "id": "6fb40a4b-1d78-4a50-9442-7adcf92ae6a4",
   "metadata": {},
   "source": [
    "### Uvoz podatkov in prilagoditev"
   ]
  },
  {
   "cell_type": "code",
   "execution_count": null,
   "id": "010a3842-c8e2-4855-9375-cdc42dad049c",
   "metadata": {},
   "outputs": [],
   "source": [
    "import pandas as pd\n",
    "import numpy as np\n",
    "import seaborn as sbn\n",
    "import matplotlib.pyplot as plt\n",
    "\n",
    "df = pd.read_csv('data/ads.csv', index_col='ad_id')\n",
    "sell_df = df[df['ad_type'] == 'prodaja']\n",
    "rent_df = df[df['ad_type'] == 'oddaja']\n",
    "pd.options.display.max_rows = 20\n",
    "pd.options.mode.chained_assignment = None"
   ]
  },
  {
   "cell_type": "code",
   "execution_count": null,
   "id": "21a177b7-6005-4ebe-9524-41f48f0e55c1",
   "metadata": {},
   "outputs": [],
   "source": [
    "df.info()\n",
    "df.head()"
   ]
  },
  {
   "cell_type": "markdown",
   "id": "e03dfe35-bf3d-44e7-b486-8a5fc1ce41d4",
   "metadata": {},
   "source": [
    "***\n",
    "# Poglavje 1\n",
    "# Pregled trga"
   ]
  },
  {
   "cell_type": "markdown",
   "id": "d8a9e5db-2a47-4bc9-9b2e-4b79c903ce8d",
   "metadata": {},
   "source": [
    "Ta razdelek zagotavlja pregled trga nepremičnin z analizo razporeditve oglasov po tipu (prodaja ali oddaja), tipu nepremičnine (hiša ali stanovanje) in geografski lokaciji. Razumevanje teh razporeditev pomaga pri prepoznavanju ključnih tržnih trendov in relativne razpoložljivosti različnih vrst nepremičnin v različnih regijah."
   ]
  },
  {
   "cell_type": "markdown",
   "id": "02eb0636-3927-4ebc-b32f-97ab55aacd2c",
   "metadata": {},
   "source": [
    "## Razdelek 1.1\n",
    "## Razporeditev oglasov po tipih (prodaja/oddaja)"
   ]
  },
  {
   "cell_type": "markdown",
   "id": "abaabe9b-fe6d-44cc-a2ee-045ac4b3cf13",
   "metadata": {},
   "source": [
    "Najprej si oglejmo razmerje med oglasi za prodajo in oddajo. Podatke bomo vizualizirali, da bomo videli, kako je trg razdeljen med tema dvema kategorijama."
   ]
  },
  {
   "cell_type": "code",
   "execution_count": null,
   "id": "7cb8544a-4867-4fc6-9590-b286be1f4174",
   "metadata": {},
   "outputs": [],
   "source": [
    "df['ad_type'].value_counts().plot.pie(\n",
    "    title='Razporeditev oglasov po tipih (prodaja/oddaja)',\n",
    "    labels=['Prodaja', 'Oddaja'],\n",
    "    autopct='%.2f%%',\n",
    "    shadow=True,        \n",
    "    ylabel='',    \n",
    ")"
   ]
  },
  {
   "cell_type": "code",
   "execution_count": null,
   "id": "321ab833-2b01-49fb-994f-9069bf3dda79",
   "metadata": {},
   "outputs": [],
   "source": [
    "df['ad_type'].value_counts()"
   ]
  },
  {
   "cell_type": "markdown",
   "id": "26d3eb61-e020-4272-8ec5-e9e7e4a017d6",
   "metadata": {},
   "source": [
    "## Razdelek 1.2\n",
    "## Razporeditev oglasov po tipu nepremičnine (hiša/stanovanje)"
   ]
  },
  {
   "cell_type": "markdown",
   "id": "271535ad-058d-4996-8f65-11ffda6c51a7",
   "metadata": {},
   "source": [
    "Zdaj si oglejmo razporeditev oglasov med hišami in stanovanji. Ta analiza nam bo pomagala razumeti relativno razpoložljivost različnih vrst nepremičnin na trgu in ali obstaja prednost enega tipa pred drugim."
   ]
  },
  {
   "cell_type": "code",
   "execution_count": null,
   "id": "3103429e-3c0e-4a37-9d71-b1ea9d706e0f",
   "metadata": {},
   "outputs": [],
   "source": [
    "df.groupby('real_estate_type').size().plot.pie(\n",
    "    title='Razporeditev oglasov po tipu nepremičnine (hiša/stanovanje)',\n",
    "    autopct='%.2f%%',\n",
    "    shadow=True,        \n",
    "    ylabel='',    \n",
    ")"
   ]
  },
  {
   "cell_type": "code",
   "execution_count": null,
   "id": "89a1d346-6b4c-4daf-aec2-5e46e61e57d8",
   "metadata": {},
   "outputs": [],
   "source": [
    "df['real_estate_type'].value_counts()"
   ]
  },
  {
   "cell_type": "markdown",
   "id": "265a8414-c645-49df-8335-097285187159",
   "metadata": {},
   "source": [
    "Oglejmo si tudi razporeditev oglasov po tipu oglasa (prodaja/oddaja) in tipu nepremičnine (hiša/stanovanje) hkrati."
   ]
  },
  {
   "cell_type": "code",
   "execution_count": null,
   "id": "8e86db43-3e90-40a6-b839-3679f1ea21c7",
   "metadata": {},
   "outputs": [],
   "source": [
    "df[['ad_type', 'real_estate_type']].value_counts().plot.pie(\n",
    "    title='Razporeditev oglasov po tipu oglasa (prodaja/oddaja) in tipu nepremičnine (hiša/stanovanje)',\n",
    "    autopct='%.2f%%',\n",
    "    shadow=True,        \n",
    "    ylabel='',    \n",
    ")"
   ]
  },
  {
   "cell_type": "code",
   "execution_count": null,
   "id": "35f4440d-c6ea-4e19-9dfe-9cce9e659937",
   "metadata": {},
   "outputs": [],
   "source": [
    "df[['ad_type', 'real_estate_type']].value_counts()"
   ]
  },
  {
   "cell_type": "markdown",
   "id": "7f420b6e-cf20-46f0-93b2-77de4d3d9c10",
   "metadata": {},
   "source": [
    "## Razdelek 1.3\n",
    "## Geografska razporeditev"
   ]
  },
  {
   "cell_type": "markdown",
   "id": "e66a2d41-fd30-4850-b297-6a0ed470e364",
   "metadata": {},
   "source": [
    "Zdaj bomo prikazali razporeditev nepremičninskih oglasov po različnih regijah. Ta geografska analiza bo razkrila območja z visoko koncentracijo oglasov, kar lahko kaže na vroče točke trga ali razlike v razpoložljivosti nepremičnin."
   ]
  },
  {
   "cell_type": "code",
   "execution_count": null,
   "id": "027fed30-438e-4b84-a3c7-a4f3ee744c34",
   "metadata": {},
   "outputs": [],
   "source": [
    "df['region'].value_counts().plot.barh(\n",
    "    title=\"Geografska razporeditev\"\n",
    ")"
   ]
  },
  {
   "cell_type": "code",
   "execution_count": null,
   "id": "cdf8ccb2-07be-4894-8c0d-5f183a0d9d68",
   "metadata": {},
   "outputs": [],
   "source": [
    "df['region'].value_counts()"
   ]
  },
  {
   "cell_type": "markdown",
   "id": "1c077b15-4373-415a-936c-84e18b50e57b",
   "metadata": {},
   "source": [
    "## Sklep"
   ]
  },
  {
   "cell_type": "markdown",
   "id": "efabd4d4-0ef4-4ef7-8be5-fa7e54cbc4f4",
   "metadata": {},
   "source": [
    "Po kratkem pregledu trga lahko zaključimo, da na njem prevladujejo oglasi za prodajo nepremičnin. Pri tem je razdelitev med prodajo stanovanj in hiš enaka, medtem ko se veliko več stanovanj oddaja v najem.\n",
    "\n",
    "Če pogledamo razporeditev po regijah, je vidno, da je največ ponudb v Ljubljani."
   ]
  },
  {
   "cell_type": "markdown",
   "id": "8024ba43-57c7-4a57-b6f6-75bb37e95b8a",
   "metadata": {},
   "source": [
    "***\n",
    "# Poglavje 2\n",
    "# Analiza cen"
   ]
  },
  {
   "cell_type": "markdown",
   "id": "f0e0a461-07e8-4d8a-ae19-1d8b79a0f7c9",
   "metadata": {},
   "source": [
    "V tem razdelku bomo analizirali razporeditev in trende cen nepremičnin. To vključuje preučevanje splošne razporeditve cen, izračun povprečnih in medianih cen za različne tipe nepremičnin ter raziskovanje, kako se cene razlikujejo glede na regijo. Prav tako bomo raziskali razmerje med ceno in značilnostmi nepremičnin, kot so površina in število sob.\n",
    "\n",
    "Posebej si bomo ogledali tudi specifične nepremičnine: samostojne hiše in 2-3 sobna stanovanja za prodajo, saj so po skromnem mnenju avtorja to najboljše nepremičnine za nakup, ter sobe, garsonjere in enosobna stanovanja za najem, saj so najbolj primerna za najem študentom."
   ]
  },
  {
   "cell_type": "markdown",
   "id": "620ff9ca-598c-442b-94a0-e4b9ae7aca84",
   "metadata": {},
   "source": [
    "## Razdelek 2.1\n",
    "## Razporeditev cen"
   ]
  },
  {
   "cell_type": "markdown",
   "id": "463099b6-f15e-4dde-bf5e-ffaeafeb8b01",
   "metadata": {},
   "source": [
    "Najprej bomo preučili splošno razporeditev cen nepremičnin. To vključuje vizualizacijo razporeditve cen na trgu in razumevanje splošnega cenovnega razpona za prodajo in oddajo. Ta analiza zagotavlja osnovo za globlje vpoglede v cenovne trende."
   ]
  },
  {
   "cell_type": "markdown",
   "id": "ea1f07d4-3b59-446e-92c0-84134505def8",
   "metadata": {},
   "source": [
    "### Podrazdelek 2.1.1\n",
    "### Razporeditev cen (prodaja)"
   ]
  },
  {
   "cell_type": "markdown",
   "id": "fbfc287e-125f-4e93-8845-b27bff477b03",
   "metadata": {},
   "source": [
    "Za začetek si oglejmo 5 najdražjih in 5 najcenejših ponudb:"
   ]
  },
  {
   "cell_type": "code",
   "execution_count": null,
   "id": "cc1af08f-e132-457e-8c7c-97ccb21c32b7",
   "metadata": {},
   "outputs": [],
   "source": [
    "sell_df.sort_values('price', ascending=False).head(5)"
   ]
  },
  {
   "cell_type": "code",
   "execution_count": null,
   "id": "004634fc-be9a-4add-8b72-9b33a8a0c007",
   "metadata": {},
   "outputs": [],
   "source": [
    "sell_df.sort_values('price', ascending=True).head(5)"
   ]
  },
  {
   "cell_type": "markdown",
   "id": "046577af-4245-47b3-bf13-013cc9781fa8",
   "metadata": {},
   "source": [
    "Izračunajmo razliko med najdražjim in najcenejšim oglasom:"
   ]
  },
  {
   "cell_type": "code",
   "execution_count": null,
   "id": "5a2945aa-d76c-4b0e-a1a6-0dae50667036",
   "metadata": {},
   "outputs": [],
   "source": [
    "print(f'Razlika je {float(sell_df['price'].max() - sell_df['price'].min())} evrov.')"
   ]
  },
  {
   "cell_type": "markdown",
   "id": "153de0c2-e52f-4f11-aa47-2d23e416178d",
   "metadata": {},
   "source": [
    "Oglejmo si najdražje in najcenejše samostojne hiše ter 2-3 sobna stanovanja."
   ]
  },
  {
   "cell_type": "markdown",
   "id": "6febe755-b7fe-4c57-bf13-54f407ab7bd3",
   "metadata": {},
   "source": [
    "**Samostojne hiše:**"
   ]
  },
  {
   "cell_type": "code",
   "execution_count": null,
   "id": "55b2fa32-0cb9-4c0e-876c-65ded998ec5e",
   "metadata": {},
   "outputs": [],
   "source": [
    "single_homes = sell_df[(sell_df['real_estate_type'] == 'hiša') & (sell_df['type'] == 'samostojna')]\n",
    "single_homes.sort_values('price', ascending=False).head(5)"
   ]
  },
  {
   "cell_type": "code",
   "execution_count": null,
   "id": "05c10dd6-250e-45d2-a332-bf7d57a8d711",
   "metadata": {},
   "outputs": [],
   "source": [
    "single_homes.sort_values('price', ascending=True).head(5)"
   ]
  },
  {
   "cell_type": "markdown",
   "id": "d4180802-aaaf-426b-8f68-52c8eba94bd3",
   "metadata": {},
   "source": [
    "**2-sobna stanovanja:**"
   ]
  },
  {
   "cell_type": "code",
   "execution_count": null,
   "id": "e90d10ec-1a4b-4b27-b8d5-9f609e81273a",
   "metadata": {},
   "outputs": [],
   "source": [
    "two_room_apartments = sell_df[(sell_df['real_estate_type'] == 'stanovanje') & ((sell_df['type'] == '2-sobno') | (sell_df['type'] == '2,5-sobno'))]\n",
    "two_room_apartments.sort_values('price', ascending=False).head(5)"
   ]
  },
  {
   "cell_type": "code",
   "execution_count": null,
   "id": "8fdacff8-105d-40c4-9539-2c21ccea27ec",
   "metadata": {},
   "outputs": [],
   "source": [
    "two_room_apartments.sort_values('price', ascending=True).head(5)"
   ]
  },
  {
   "cell_type": "markdown",
   "id": "d153b2c1-987c-4216-9da7-da223d86ae95",
   "metadata": {},
   "source": [
    "**3-sobna stanovanja:**"
   ]
  },
  {
   "cell_type": "code",
   "execution_count": null,
   "id": "f7eabc6f-4934-4c83-837b-d62671721084",
   "metadata": {},
   "outputs": [],
   "source": [
    "three_room_apartments = sell_df[(sell_df['real_estate_type'] == 'stanovanje') & (sell_df['type'] == '3-sobno')]\n",
    "three_room_apartments.sort_values('price', ascending=False).head(5)"
   ]
  },
  {
   "cell_type": "code",
   "execution_count": null,
   "id": "0f7ac704-87da-4cfd-a2b8-2900323c7bd0",
   "metadata": {},
   "outputs": [],
   "source": [
    "three_room_apartments.sort_values('price', ascending=True).head(5)"
   ]
  },
  {
   "cell_type": "markdown",
   "id": "76a7ca83-9920-4ca3-a8ce-2ee01bdfed13",
   "metadata": {},
   "source": [
    "Oglejmo si splošno razporeditev cen."
   ]
  },
  {
   "cell_type": "code",
   "execution_count": null,
   "id": "37ba38dd-4705-4132-8764-b50834352a28",
   "metadata": {},
   "outputs": [],
   "source": [
    "sell_df['price'].plot.hist(\n",
    "    title='Razporeditev cen',\n",
    "    bins=25, \n",
    "    xlim=[sell_df['price'].min(), sell_df['price'].max()]\n",
    ")"
   ]
  },
  {
   "cell_type": "markdown",
   "id": "b76dca92-f678-4193-9e0d-df71e32fa1ae",
   "metadata": {},
   "source": [
    "Opazimo, da večina nepremičnin, ki so naprodaj, stane do 500.000 evrov. Za boljše razumevanje razporeditve cen bomo oglase razdelili v tri cenovne kategorije: od 0 do 500.000 evrov, od 500.000 do 1.000.000 evrov in od 1.000.000 evrov naprej."
   ]
  },
  {
   "cell_type": "code",
   "execution_count": null,
   "id": "e7ace28a-2688-4da2-8b7f-2a127d499369",
   "metadata": {},
   "outputs": [],
   "source": [
    "first_group = sell_df[sell_df['price'] < 500000]\n",
    "first_group['price'].plot.hist(\n",
    "    title='Razporeditev cen. Oglasi od 0 do 500.000 evrov',\n",
    "    bins=20, \n",
    "    xlim=[first_group['price'].min(), first_group['price'].max()]\n",
    ")"
   ]
  },
  {
   "cell_type": "code",
   "execution_count": null,
   "id": "b00839f8-85fc-4f45-ac96-dafc74290973",
   "metadata": {},
   "outputs": [],
   "source": [
    "second_group = sell_df[(sell_df['price'] >= 500000) & (sell_df['price'] < 1000000)]\n",
    "second_group['price'].plot.hist(\n",
    "    title='Razporeditev cen. Oglasi od 500.000 do 1.000.000 evrov',\n",
    "    bins=20, \n",
    "    xlim=[second_group['price'].min(), second_group['price'].max()]\n",
    ")"
   ]
  },
  {
   "cell_type": "code",
   "execution_count": null,
   "id": "a11b9837-847d-4449-883c-e6ce2b9c5e7b",
   "metadata": {},
   "outputs": [],
   "source": [
    "third_group = sell_df[sell_df['price'] > 1000000]\n",
    "third_group['price'].plot.hist(\n",
    "    title='Razporeditev cen. Oglasi od 1.000.000 evrov naprej',\n",
    "    bins=10, \n",
    "    xlim=[third_group['price'].min(), third_group['price'].max()]\n",
    ")"
   ]
  },
  {
   "cell_type": "markdown",
   "id": "aa4e1cd3-355e-4adc-8f56-63f53602c8a1",
   "metadata": {},
   "source": [
    "### Podrazdelek 2.1.2\n",
    "### Razporeditev cen (oddaja)"
   ]
  },
  {
   "cell_type": "markdown",
   "id": "13dbb871-38c2-4a51-a7de-490cd7e1cb25",
   "metadata": {},
   "source": [
    "Spet si oglejmo 5 najdražjih in 5 najcenejših ponudb."
   ]
  },
  {
   "cell_type": "code",
   "execution_count": null,
   "id": "8720f718-53a6-4289-a864-d529393ae222",
   "metadata": {},
   "outputs": [],
   "source": [
    "rent_df.sort_values('price', ascending=False).head(5)"
   ]
  },
  {
   "cell_type": "code",
   "execution_count": null,
   "id": "347d90bf-7bd4-44cb-bff6-892a67c272e1",
   "metadata": {},
   "outputs": [],
   "source": [
    "rent_df.sort_values('price', ascending=True).head(5)"
   ]
  },
  {
   "cell_type": "markdown",
   "id": "4e61a78f-e782-4734-ae6a-c90490f9d4d2",
   "metadata": {},
   "source": [
    "Izračunajmo razliko med najdražjim in najcenejšim oglasom."
   ]
  },
  {
   "cell_type": "code",
   "execution_count": null,
   "id": "41dec2e4-a98a-426b-a9c5-1755669ea718",
   "metadata": {},
   "outputs": [],
   "source": [
    "print(f'Razlika je {float(rent_df['price'].max() - rent_df['price'].min())} evrov.')"
   ]
  },
  {
   "cell_type": "markdown",
   "id": "c19998e5-8f99-480f-9568-0ea35fa53bdc",
   "metadata": {},
   "source": [
    "Oglejmo si najdražje in najcenejše sobe, garsonjere in enosobna stanovanja."
   ]
  },
  {
   "cell_type": "markdown",
   "id": "d3bd6803-9b5b-4a8b-9299-1f1479b5841c",
   "metadata": {},
   "source": [
    "**Sobe:**"
   ]
  },
  {
   "cell_type": "code",
   "execution_count": null,
   "id": "2adb1881-8e0c-4d3c-8a43-7f76bfd0f3ac",
   "metadata": {},
   "outputs": [],
   "source": [
    "rooms = rent_df[(rent_df['real_estate_type'] == 'stanovanje') & (rent_df['type'] == 'soba')]\n",
    "rooms.sort_values('price', ascending=False).head(5)"
   ]
  },
  {
   "cell_type": "code",
   "execution_count": null,
   "id": "22fb8fb6-6b7b-4733-8ad8-f15b473741e0",
   "metadata": {},
   "outputs": [],
   "source": [
    "rooms.sort_values('price', ascending=True).head(5)"
   ]
  },
  {
   "cell_type": "markdown",
   "id": "5711d222-021c-49eb-9dde-d5395829062a",
   "metadata": {},
   "source": [
    "**Garsonjere:**"
   ]
  },
  {
   "cell_type": "code",
   "execution_count": null,
   "id": "af48599d-6063-4897-a4a8-712891017866",
   "metadata": {},
   "outputs": [],
   "source": [
    "studios = rent_df[(rent_df['real_estate_type'] == 'stanovanje') & (rent_df['type'] == 'garsonjera')]\n",
    "studios.sort_values('price', ascending=False).head(5)"
   ]
  },
  {
   "cell_type": "code",
   "execution_count": null,
   "id": "a5e0e950-8a51-426f-a63f-f86aa7783a06",
   "metadata": {},
   "outputs": [],
   "source": [
    "studios.sort_values('price', ascending=True).head(5)"
   ]
  },
  {
   "cell_type": "markdown",
   "id": "b75ef3b7-5a09-4970-865c-43000310f013",
   "metadata": {},
   "source": [
    "**1-sobna stanovanja:**"
   ]
  },
  {
   "cell_type": "code",
   "execution_count": null,
   "id": "1ce2ebe0-071b-4bd1-ba88-abd561c49c26",
   "metadata": {},
   "outputs": [],
   "source": [
    "one_room_apartments = rent_df[(rent_df['real_estate_type'] == 'stanovanje') & (rent_df['type'] == '1-sobno')]\n",
    "one_room_apartments.sort_values('price', ascending=False).head(5)"
   ]
  },
  {
   "cell_type": "code",
   "execution_count": null,
   "id": "5231a6d4-115c-4eda-8f90-ec32f6caf2d5",
   "metadata": {},
   "outputs": [],
   "source": [
    "one_room_apartments.sort_values('price', ascending=True).head(5)"
   ]
  },
  {
   "cell_type": "markdown",
   "id": "73bfbfe2-3db4-46f7-a0e0-b8c793100c62",
   "metadata": {},
   "source": [
    "Oglejmo si splošno razporeditev cen."
   ]
  },
  {
   "cell_type": "code",
   "execution_count": null,
   "id": "07489144-1b7c-401e-823e-9b0f40433507",
   "metadata": {},
   "outputs": [],
   "source": [
    "rent_df['price'].plot.hist(\n",
    "    title='Razporeditev cen',\n",
    "    bins=20, \n",
    "    xlim=[rent_df['price'].min(), rent_df['price'].max()]\n",
    ")"
   ]
  },
  {
   "cell_type": "markdown",
   "id": "1377f745-ce99-4bf1-a749-20bca5c56b9d",
   "metadata": {},
   "source": [
    "Opazimo, da je večina oglasov za najem stanovanj v cenovnem razponu od 0 do 1000 evrov/mesec, zato bomo podrobneje pogledali razporeditev oglasov v tem cenovnem razponu."
   ]
  },
  {
   "cell_type": "code",
   "execution_count": null,
   "id": "447e499c-10e6-4805-8114-5452fef6f54c",
   "metadata": {},
   "outputs": [],
   "source": [
    "first_group = rent_df[rent_df['price'] <= 1000]\n",
    "first_group['price'].plot.hist(\n",
    "    title='Razporeditev cen. Oglasi od 0 do 1000 evrov',\n",
    "    bins=20, \n",
    "    xlim=[first_group['price'].min(), first_group['price'].max()]\n",
    ")"
   ]
  },
  {
   "cell_type": "markdown",
   "id": "be301db8-220a-4f79-8d0f-423c9488d751",
   "metadata": {},
   "source": [
    "## Razdelek 2.2\n",
    "##  Povprečne in mediane cene"
   ]
  },
  {
   "cell_type": "markdown",
   "id": "6d8a22ff-f928-4682-8442-57252e09e8d4",
   "metadata": {},
   "source": [
    "V tem podrazdelku bomo izračunali in primerjali povprečne in mediane cene nepremičnin. Analiza bo segmentirana po tipu nepremičnine (hiše, stanovanja) in tipu oglasa (prodaja, najem), da bi izpostavili morebitne razlike. Razumevanje teh mer centralne tendence pomaga oceniti tipične tržne cene."
   ]
  },
  {
   "cell_type": "markdown",
   "id": "ddf91721-22ee-4561-93ce-bf6581881836",
   "metadata": {},
   "source": [
    "### Podrazdelek 2.2.1\n",
    "### Povprečne in mediane cene (prodaja)"
   ]
  },
  {
   "cell_type": "markdown",
   "id": "e43bd270-b32c-4be5-9cb6-1fbbdff3c51d",
   "metadata": {},
   "source": [
    "Izračunajmo povprečne in mediane vrednosti cene prodaje hiš in stanovanj."
   ]
  },
  {
   "cell_type": "code",
   "execution_count": null,
   "id": "7a159703-d381-42f0-bb75-26e5eda33287",
   "metadata": {},
   "outputs": [],
   "source": [
    "sell_df.groupby('real_estate_type')['price'].agg(['mean', 'median'])"
   ]
  },
  {
   "cell_type": "markdown",
   "id": "065922b5-3bcb-4c5f-8956-ed9cfa3f10ed",
   "metadata": {},
   "source": [
    "Posebej bomo pregledali povprečne in mediane cene prodaje samostojnih hiš in 2-3 sobnih stanovanj."
   ]
  },
  {
   "cell_type": "markdown",
   "id": "89faefa7-1d51-4a2d-bea6-b92a83aab14c",
   "metadata": {},
   "source": [
    "**Samostojne hiše:**"
   ]
  },
  {
   "cell_type": "code",
   "execution_count": null,
   "id": "243cbc79-c7d3-4de1-bb00-8bfadf113175",
   "metadata": {},
   "outputs": [],
   "source": [
    "single_homes['price'].agg(['mean', 'median'])"
   ]
  },
  {
   "cell_type": "markdown",
   "id": "cb39d466-c840-43ac-8403-10f09dfc3702",
   "metadata": {},
   "source": [
    "**2-sobni stanovanja:**"
   ]
  },
  {
   "cell_type": "code",
   "execution_count": null,
   "id": "7e1312c1-0505-49ad-900c-9a506635a570",
   "metadata": {},
   "outputs": [],
   "source": [
    "two_room_apartments['price'].agg(['mean', 'median'])"
   ]
  },
  {
   "cell_type": "markdown",
   "id": "aac63402-6980-4dc8-9235-c1ac4e336f41",
   "metadata": {},
   "source": [
    "**3-sobni stanovanja:**"
   ]
  },
  {
   "cell_type": "code",
   "execution_count": null,
   "id": "df4994ec-5dbc-4fa0-8e93-ebc76590b10d",
   "metadata": {},
   "outputs": [],
   "source": [
    "three_room_apartments['price'].agg(['mean', 'median'])"
   ]
  },
  {
   "cell_type": "markdown",
   "id": "91a74329-aa19-48b2-a6be-e4129ebd58d4",
   "metadata": {},
   "source": [
    "### Podrazdelek 2.2.2\n",
    "### Povprečne in mediane cene (oddaja)"
   ]
  },
  {
   "cell_type": "markdown",
   "id": "e58f793b-7cf9-4470-913e-46c64a255f42",
   "metadata": {},
   "source": [
    "Izračunajmo povprečne in mediane vrednosti cene najema hiš in stanovanj."
   ]
  },
  {
   "cell_type": "code",
   "execution_count": null,
   "id": "35077f3c-d452-47b7-94ad-e24cfbcce04f",
   "metadata": {},
   "outputs": [],
   "source": [
    "rent_df.groupby('real_estate_type')['price'].agg(['mean', 'median'])"
   ]
  },
  {
   "cell_type": "markdown",
   "id": "6ab23dc0-785e-41cb-8d8f-c66b5c0e9c98",
   "metadata": {},
   "source": [
    "Posebej bomo pregledali povprečne in mediane cene najema sob, garsonjer in 1 sobnih stanovanj."
   ]
  },
  {
   "cell_type": "markdown",
   "id": "7fb4fb4b-0204-455f-a64e-e8aefb0a3b8f",
   "metadata": {},
   "source": [
    "**Sobe:**"
   ]
  },
  {
   "cell_type": "code",
   "execution_count": null,
   "id": "3a1da2d2-e47e-4dc8-8df6-802441e84f30",
   "metadata": {},
   "outputs": [],
   "source": [
    "rooms['price'].agg(['mean', 'median'])"
   ]
  },
  {
   "cell_type": "markdown",
   "id": "ffce2e5f-28c5-4d1b-95f3-adb6bbfedbf4",
   "metadata": {},
   "source": [
    "**Garsonjere:**"
   ]
  },
  {
   "cell_type": "code",
   "execution_count": null,
   "id": "526152bb-a61d-404e-9f97-1e6597e8e6d4",
   "metadata": {},
   "outputs": [],
   "source": [
    "studios['price'].agg(['mean', 'median'])"
   ]
  },
  {
   "cell_type": "markdown",
   "id": "170181b2-9a92-440b-99a9-e99f28e43f3c",
   "metadata": {},
   "source": [
    "**1-sobni stanovanja:**"
   ]
  },
  {
   "cell_type": "code",
   "execution_count": null,
   "id": "8faa9532-a2b2-46dd-95a0-e364633abef7",
   "metadata": {},
   "outputs": [],
   "source": [
    "one_room_apartments['price'].agg(['mean', 'median'])"
   ]
  },
  {
   "cell_type": "markdown",
   "id": "d0493e13-de12-4de2-b25d-40584583c7f6",
   "metadata": {},
   "source": [
    "## Razdelek 2.3\n",
    "## Regionalne razlike v cenah"
   ]
  },
  {
   "cell_type": "markdown",
   "id": "e6a903dd-f9b4-40c3-9565-613eb5e75cdb",
   "metadata": {},
   "source": [
    "Tukaj bomo raziskali, kako se cene nepremičnin razlikujejo po različnih regijah in mestih. S primerjavo povprečnih cen na različnih lokacijah lahko prepoznamo dražja in cenejša območja, kar nam omogoča vpogled v regionalno dinamiko cen."
   ]
  },
  {
   "cell_type": "markdown",
   "id": "3a48eeb9-3349-4a77-b8a1-06420151f755",
   "metadata": {},
   "source": [
    "### Podrazdelek 2.3.1\n",
    "### Regionalne razlike v cenah (prodaja)"
   ]
  },
  {
   "cell_type": "markdown",
   "id": "24cbbf79-29e2-40c1-a9ba-25c58e8bfd6d",
   "metadata": {},
   "source": [
    "Oglejmo si, kako se povprečne in mediane cene spreminjajo glede na regijo:"
   ]
  },
  {
   "cell_type": "code",
   "execution_count": null,
   "id": "456151c2-66f9-48b0-b57e-24d3eee5fe8e",
   "metadata": {},
   "outputs": [],
   "source": [
    "sell_df.groupby('region')['price'].agg(['mean', 'median']).sort_values(['mean', 'median'], ascending=[False, False])"
   ]
  },
  {
   "cell_type": "code",
   "execution_count": null,
   "id": "2742cf91-c55d-4a6c-b291-eb78a883456b",
   "metadata": {},
   "outputs": [],
   "source": [
    "sell_df.groupby('region')['price'].agg(['mean', 'median']).sort_values(['mean', 'median'], ascending=[False, False]).plot.barh(\n",
    "    title='Regionalne razlike v cenah'\n",
    ")"
   ]
  },
  {
   "cell_type": "markdown",
   "id": "366fd6a1-fefb-4832-b31f-314f4be26caa",
   "metadata": {},
   "source": [
    "Vidimo, da so najdražje nepremičnine v Ljubljani, njene okolice in na morju."
   ]
  },
  {
   "cell_type": "markdown",
   "id": "834f2006-89c9-4c30-87aa-fd2052585238",
   "metadata": {},
   "source": [
    "Zdaj si bomo ogledali 10 najdražjih mest za nakup nepremičnin, v katerih je objavljenih vsaj 25 oglasov."
   ]
  },
  {
   "cell_type": "code",
   "execution_count": null,
   "id": "8a0a85a3-fcf8-46dc-8255-fe8a17ec7931",
   "metadata": {},
   "outputs": [],
   "source": [
    "cities_25 = []\n",
    "for city in set(sell_df['city']):\n",
    "    if int(sell_df['city'].value_counts()[city]) >= 25:\n",
    "        cities_25.append(city)"
   ]
  },
  {
   "cell_type": "code",
   "execution_count": null,
   "id": "fc2f90f5-41b9-4584-ae3f-fdff547b3b74",
   "metadata": {},
   "outputs": [],
   "source": [
    "sell_df[sell_df['city'].isin(cities_25)].groupby('city')['price'].agg(['mean', 'median']).sort_values(['mean', 'median'], ascending=[False, False]).head(10)"
   ]
  },
  {
   "cell_type": "code",
   "execution_count": null,
   "id": "02669994-7b22-48da-8d83-7b5c20184db2",
   "metadata": {},
   "outputs": [],
   "source": [
    "sell_df[sell_df['city'].isin(cities_25)].groupby('city')['price'].agg(['mean', 'median']).sort_values(['mean', 'median'], ascending=[False, False]).head(10).plot.barh(\n",
    "    title='Mestne razlike v cenah (mesta z vsaj 25 oglasov)'\n",
    ")"
   ]
  },
  {
   "cell_type": "markdown",
   "id": "e0c80522-a5a4-4308-9aad-53a42204a8da",
   "metadata": {},
   "source": [
    "In enako bomo storili z mesti, v katerih je objavljenih več kot 100 oglasov."
   ]
  },
  {
   "cell_type": "code",
   "execution_count": null,
   "id": "08596c38-3289-4909-83da-a3e691fa8448",
   "metadata": {},
   "outputs": [],
   "source": [
    "cities_100 = []\n",
    "for city in set(sell_df['city']):\n",
    "    if int(sell_df['city'].value_counts()[city]) >= 100:\n",
    "        cities_100.append(city)"
   ]
  },
  {
   "cell_type": "code",
   "execution_count": null,
   "id": "697c2f8a-05e4-44be-8d79-d6e1b32588a0",
   "metadata": {},
   "outputs": [],
   "source": [
    "sell_df[sell_df['city'].isin(cities_100)].groupby('city')['price'].agg(['mean', 'median']).sort_values(['mean', 'median'], ascending=[False, False]).head(10)"
   ]
  },
  {
   "cell_type": "code",
   "execution_count": null,
   "id": "8db5ae5f-6a65-402a-b07a-979b4f1b7c9c",
   "metadata": {},
   "outputs": [],
   "source": [
    "sell_df[sell_df['city'].isin(cities_100)].groupby('city')['price'].agg(['mean', 'median']).sort_values(['mean', 'median'], ascending=[False, False]).head(10).plot.barh(\n",
    "    title='Mestne razlike v cenah (mesta z več kot 100 oglasov)'\n",
    ")"
   ]
  },
  {
   "cell_type": "markdown",
   "id": "0db83c5c-02eb-40ac-81da-5758dfbdaee4",
   "metadata": {},
   "source": [
    "### Podrazdelek 2.3.2\n",
    "### Regionalne razlike v cenah (oddaja)"
   ]
  },
  {
   "cell_type": "markdown",
   "id": "220f2727-98d0-494c-9d92-af83eeb3369f",
   "metadata": {},
   "source": [
    "Oglejmo si, kako se povprečne in mediane cene spreminjajo glede na regijo:"
   ]
  },
  {
   "cell_type": "code",
   "execution_count": null,
   "id": "dab130ef-7190-4d49-839d-41ca6fe9e481",
   "metadata": {},
   "outputs": [],
   "source": [
    "rent_df.groupby('region')['price'].agg(['mean', 'median']).sort_values(['mean', 'median'], ascending=[False, False])"
   ]
  },
  {
   "cell_type": "code",
   "execution_count": null,
   "id": "ce4f7732-fefa-4501-86af-d9d78a79ad56",
   "metadata": {},
   "outputs": [],
   "source": [
    "rent_df.groupby('region')['price'].agg(['mean', 'median']).sort_values(['mean', 'median'], ascending=[False, False]).plot.barh(\n",
    "    title='Regionalne razlike v cenah'\n",
    ")"
   ]
  },
  {
   "cell_type": "markdown",
   "id": "0e0bd6dd-8cca-4536-9edf-6e3899146d50",
   "metadata": {},
   "source": [
    "Spet vidimo, da so najdražje nepremičnine za najem v Ljubljani, njene okolice in na morju."
   ]
  },
  {
   "cell_type": "markdown",
   "id": "479d0380-c7a8-4f33-bae4-3efd09808cf7",
   "metadata": {},
   "source": [
    "Zdaj si bomo ogledali 10 najdražjih mest za najem nepremičnin, v katerih je objavljenih vsaj 10 oglasov."
   ]
  },
  {
   "cell_type": "code",
   "execution_count": null,
   "id": "8646eb71-84e6-4a99-824f-7e1e31b278ae",
   "metadata": {},
   "outputs": [],
   "source": [
    "cities_25_rent = []\n",
    "for city in set(rent_df['city']):\n",
    "    if int(rent_df['city'].value_counts()[city]) >= 10:\n",
    "        cities_25_rent.append(city)"
   ]
  },
  {
   "cell_type": "code",
   "execution_count": null,
   "id": "a6760e0c-9c80-47f9-ae94-e0879159cb7a",
   "metadata": {},
   "outputs": [],
   "source": [
    "rent_df[rent_df['city'].isin(cities_25_rent)].groupby('city')['price'].agg(['mean', 'median']).sort_values(['mean', 'median'], ascending=[False, False]).head(10)"
   ]
  },
  {
   "cell_type": "code",
   "execution_count": null,
   "id": "cc110091-e6d1-459b-9a72-c22e423a9abd",
   "metadata": {},
   "outputs": [],
   "source": [
    "rent_df[rent_df['city'].isin(cities_25_rent)].groupby('city')['price'].agg(['mean', 'median']).sort_values(['mean', 'median'], ascending=[False, False]).head(10).plot.barh(\n",
    "    title='Mestne razlike v cenah (mesta z vsaj 10 oglasov)'\n",
    ")"
   ]
  },
  {
   "cell_type": "markdown",
   "id": "752843e7-6e1c-4fe8-872c-1f8615cdaca9",
   "metadata": {},
   "source": [
    "In enako bomo storili z mesti, v katerih je objavljenih več kot 25 oglasov."
   ]
  },
  {
   "cell_type": "code",
   "execution_count": null,
   "id": "61b47201-ace7-4e3a-907d-563ff9d32cd8",
   "metadata": {},
   "outputs": [],
   "source": [
    "cities_100_rent = []\n",
    "for city in set(rent_df['city']):\n",
    "    if int(rent_df['city'].value_counts()[city]) >= 25:\n",
    "        cities_100_rent.append(city)"
   ]
  },
  {
   "cell_type": "code",
   "execution_count": null,
   "id": "1404475c-ed9b-42fd-84a0-ed0464e166ef",
   "metadata": {},
   "outputs": [],
   "source": [
    "rent_df[rent_df['city'].isin(cities_100_rent)].groupby('city')['price'].agg(['mean', 'median']).sort_values(['mean', 'median'], ascending=[False, False]).head(10)"
   ]
  },
  {
   "cell_type": "code",
   "execution_count": null,
   "id": "2ac73b1e-0cea-4910-88d2-53b819263c51",
   "metadata": {},
   "outputs": [],
   "source": [
    "rent_df[rent_df['city'].isin(cities_100_rent)].groupby('city')['price'].agg(['mean', 'median']).sort_values(['mean', 'median'], ascending=[False, False]).head(10).plot.barh(\n",
    "    title='Mestne razlike v cenah (mesta z več kot 25 oglasov)'\n",
    ")"
   ]
  },
  {
   "cell_type": "markdown",
   "id": "7e558fc6-ffd0-4489-93cf-8849a568d98e",
   "metadata": {},
   "source": [
    "***\n",
    "# Poglavje 3\n",
    "# Analiza značilnosti nepremičnin"
   ]
  },
  {
   "cell_type": "markdown",
   "id": "4a72d0b2-5339-488a-9be4-d2d4ee9d8bdf",
   "metadata": {},
   "source": [
    "Ta razdelek se osredotoča na analizo specifičnih značilnosti nepremičnin, kot so leto gradnje in bivalni prostor. Raziskali bomo, kako ti dejavniki vplivajo na cene nepremičnin in druge tržne dinamike. Razumevanje teh značilnosti lahko zagotovi globlje vpoglede v to, kaj vpliva na vrednost nepremičnine."
   ]
  },
  {
   "cell_type": "markdown",
   "id": "24ce827a-e5ae-451b-924e-840f87710c36",
   "metadata": {},
   "source": [
    "Na začetku poglavja si bomo ogledali, kako so vse zanimive značilnosti (region, mesto, bivalni prostor, površina zemljišča, leto gradnje in cena) povezane med seboj. Za to bomo vse zanimive podatke tipa `string` pretvorili v številčno obliko (regije in mesta bomo ocenili glede na število oglasov v njih) in narisali korelacijsko matriko.\n",
    "\n",
    "Omejili se bomo samo na oglase za prodajo."
   ]
  },
  {
   "cell_type": "code",
   "execution_count": null,
   "id": "4c3b3605-e8f3-4d68-9662-633c66f74b7f",
   "metadata": {},
   "outputs": [],
   "source": [
    "def interpreter(data_frame, column_index, transitional_dict):\n",
    "\n",
    "    for i_id, object_ in enumerate(data_frame.iloc [:, column_index]):\n",
    "        numeric_df.iat[i_id, column_index] = transitional_dict[object_]"
   ]
  },
  {
   "cell_type": "code",
   "execution_count": null,
   "id": "58400a88-51e2-4d49-8448-0cf7bbd9a75b",
   "metadata": {},
   "outputs": [],
   "source": [
    "transitional_dict_regions = {}\n",
    "for region in set(sell_df['region']):\n",
    "    points = int(sell_df.groupby('region').size()[region])\n",
    "    transitional_dict_regions[region] = points"
   ]
  },
  {
   "cell_type": "code",
   "execution_count": null,
   "id": "ce5fef38-cae2-4f46-b946-1946eed5b434",
   "metadata": {},
   "outputs": [],
   "source": [
    "transitional_dict_cities = {}\n",
    "for city in set(sell_df['city']):\n",
    "    points = int(sell_df.groupby('city').size()[city])\n",
    "    transitional_dict_cities[city] = points"
   ]
  },
  {
   "cell_type": "code",
   "execution_count": null,
   "id": "a204b919-ad0e-49f6-b1a0-c242053a8a97",
   "metadata": {},
   "outputs": [],
   "source": [
    "numeric_df = sell_df.copy()\n",
    "\n",
    "interpreter(numeric_df, 2, transitional_dict_regions)\n",
    "numeric_df['region'] = numeric_df['region'].astype(int)\n",
    "\n",
    "interpreter(numeric_df, 3, transitional_dict_cities)\n",
    "numeric_df['city'] = numeric_df['city'].astype(int)"
   ]
  },
  {
   "cell_type": "code",
   "execution_count": null,
   "id": "0695b9bb-09a1-4046-ae25-26f01b07b05a",
   "metadata": {},
   "outputs": [],
   "source": [
    "numeric_df = numeric_df.select_dtypes(include=np.number)\n",
    "matrix = numeric_df.corr()\n",
    "sbn.heatmap(matrix, annot=True, cmap=\"coolwarm\", vmin=-1, vmax=1)\n",
    "plt.xticks(rotation=45, ha=\"right\")\n",
    "plt.title(\"Korelacijska matrika\")"
   ]
  },
  {
   "cell_type": "markdown",
   "id": "bb3c31f0-1799-4c2b-8113-cdc34899f5bd",
   "metadata": {},
   "source": [
    "Vidimo, da na ceno najbolj vplivata regija in mesto. Vpliv bivalnega prostora in leta gradnje se zdi zanemarljiv. Da bi ugotovili, ali je to res tako, bomo preučili, kako te značilnosti nepremičnine vplivajo na njeno vrednost v posameznih regijah."
   ]
  },
  {
   "cell_type": "markdown",
   "id": "73190ebc-29c1-490f-8067-54f6fca2007e",
   "metadata": {},
   "source": [
    "## Razdelek 3.1\n",
    "## Leto gradnje"
   ]
  },
  {
   "cell_type": "markdown",
   "id": "e12fd21e-869b-4de3-8554-1e98d0622207",
   "metadata": {},
   "source": [
    "V tem podrazdelku bomo analizirali razporeditev nepremičnin glede na leto gradnje. Prav tako bomo primerjali, kako starost nepremičnine vpliva na njeno ceno in druge značilnosti. Ta analiza lahko razkrije trende, povezane s povpraševanjem po starejših ali novejših nepremičninah."
   ]
  },
  {
   "cell_type": "markdown",
   "id": "bda69951-6a77-4a20-b7a8-56743cd6d82c",
   "metadata": {},
   "source": [
    "Za začetek si bomo ogledali razporeditev števila oglasov glede na leto gradnje."
   ]
  },
  {
   "cell_type": "code",
   "execution_count": null,
   "id": "d2133b2b-e7b4-46e9-824c-e0a633fdd538",
   "metadata": {},
   "outputs": [],
   "source": [
    "sell_df['building_year'].plot.hist(\n",
    "    title='Razporeditev števila oglasov glede na leto gradnje',\n",
    "    bins=20\n",
    ")"
   ]
  },
  {
   "cell_type": "markdown",
   "id": "3654ea07-79e6-4a03-aa3b-0a971cb00a4a",
   "metadata": {},
   "source": [
    "Vidimo, da so na trgu v prevladujočem številu predstavljeni objekti, zgrajeni po letu 1900. Zato si bomo ogledali, kako leto gradnje za objekte, zgrajene po letu 1900, vpliva na njihovo ceno v regijah, kot sta Ljubljana, Podravska in Južna Primorska."
   ]
  },
  {
   "cell_type": "code",
   "execution_count": null,
   "id": "d5eca47d-03cd-4456-92cf-d2efd60d5dd9",
   "metadata": {},
   "outputs": [],
   "source": [
    "for index, region in enumerate(['ljubljana mesto', 'podravska']):\n",
    "    tmp_df = sell_df[(sell_df['region'] == region) & ((sell_df['building_year'] >= 1900))]\n",
    "    \n",
    "    plt.subplot (2, 1, index + 1)\n",
    "    plt.scatter(\n",
    "        x=tmp_df['building_year'], \n",
    "        y=tmp_df['price']\n",
    "    )\n",
    "    plt.title(region)\n",
    "    plt.subplots_adjust(hspace=0.5)"
   ]
  },
  {
   "cell_type": "code",
   "execution_count": null,
   "id": "d488edd4-4c73-450a-91d9-eb10dbb65f30",
   "metadata": {},
   "outputs": [],
   "source": [
    "for index, region in enumerate(['ljubljana mesto', 'podravska']):\n",
    "    tmp_df = sell_df[(sell_df['region'] == region) & ((sell_df['building_year'] >= 1900))]\n",
    "    \n",
    "    plt.subplot (1, 2, index + 1)\n",
    "    matrix = tmp_df[['building_year', 'price']].corr()\n",
    "    sbn.heatmap(matrix, annot=True, cmap=\"coolwarm\", vmin=-1, vmax=1)\n",
    "    plt.xticks(rotation=45, ha=\"right\")\n",
    "    plt.title(region)\n",
    "    plt.subplots_adjust(wspace=0.5)"
   ]
  },
  {
   "cell_type": "markdown",
   "id": "56306a50-5fa3-44e4-8f7c-e584f00cf0a8",
   "metadata": {},
   "source": [
    "Vidimo, da se potrjuje malo vpliva leta gradnje na vrednost nepremičnine."
   ]
  },
  {
   "cell_type": "markdown",
   "id": "24ee6f3e-0237-4041-9db5-17ae7b4b623a",
   "metadata": {},
   "source": [
    "## Razdelek 3.2\n",
    "## Bivalni prostor"
   ]
  },
  {
   "cell_type": "markdown",
   "id": "8ef8cc37-c65c-4c0a-867f-d32045c59c03",
   "metadata": {},
   "source": [
    "Ta podrazdelek bo raziskal razmerje med bivalno površino in ceno nepremičnine. Analizirali bomo, kako ta dejavnik vpliva na vrednost nepremičnine."
   ]
  },
  {
   "cell_type": "code",
   "execution_count": null,
   "id": "bac1f5af-aa06-4eed-bcc8-7f6bce492618",
   "metadata": {},
   "outputs": [],
   "source": [
    "for index, region in enumerate(['ljubljana mesto', 'podravska']):\n",
    "    tmp_df = sell_df[(sell_df['region'] == region)]\n",
    "    \n",
    "    plt.subplot (2, 1, index + 1)\n",
    "    plt.scatter(\n",
    "        x=tmp_df['living_area'], \n",
    "        y=tmp_df['price']\n",
    "    )\n",
    "    plt.title(region)\n",
    "    plt.subplots_adjust(hspace=0.5)"
   ]
  },
  {
   "cell_type": "code",
   "execution_count": null,
   "id": "f601263c-1f83-4a9f-b3a1-277defb8f9ae",
   "metadata": {},
   "outputs": [],
   "source": [
    "for index, region in enumerate(['ljubljana mesto', 'podravska']):\n",
    "    tmp_df = sell_df[(sell_df['region'] == region) & ((sell_df['building_year'] >= 1900))]\n",
    "    \n",
    "    plt.subplot (1, 2, index + 1)\n",
    "    matrix = tmp_df[['living_area', 'price']].corr()\n",
    "    sbn.heatmap(matrix, annot=True, cmap=\"coolwarm\", vmin=-1, vmax=1)\n",
    "    plt.xticks(rotation=45, ha=\"right\")\n",
    "    plt.title(region)\n",
    "    plt.subplots_adjust(wspace=0.5)"
   ]
  },
  {
   "cell_type": "markdown",
   "id": "565bba7c-5caf-4ce9-8239-8fa5e77c23ad",
   "metadata": {},
   "source": [
    "Vidimo, da vpliv bivalnega prostora na ceno nepremičnine v vsake regiji posebej postane precej močan. Z rastjo bivalnega prostora očitno narašča tudi vrednost nepremičnine."
   ]
  },
  {
   "cell_type": "markdown",
   "id": "bb92a630-bafc-4911-bcfc-57f24f24d1c4",
   "metadata": {},
   "source": [
    "***\n",
    "# Poglavje 4\n",
    "# Primerjalna analiza najema in prodaje"
   ]
  },
  {
   "cell_type": "markdown",
   "id": "ecba9e57-774b-4c51-9167-35c18f7b8e3c",
   "metadata": {},
   "source": [
    "Tukaj bomo primerjali trge najema in prodaje, pri čemer se bomo osredotočili na razmerja cen in donosnost najema. Z analizo cene na kvadratni meter tako za najem kot za prodajo ter izračunom ocenjene donosnosti najema bomo lahko ponudili vpoglede v relativno donosnost najema v primerjavi z nakupom v različnih regijah in za različne tipe nepremičnin."
   ]
  },
  {
   "cell_type": "markdown",
   "id": "4ed7b4dd-2644-472d-946c-a7a10b5aa901",
   "metadata": {},
   "source": [
    "## Razdelek 4.1\n",
    "## Razmerje cen"
   ]
  },
  {
   "cell_type": "markdown",
   "id": "0b8b8004-7ef3-4655-a550-1ff023c1a674",
   "metadata": {},
   "source": [
    "Primerjali bomo ceno na kvadratni meter za nepremičnine, oglaševane za prodajo, v primerjavi z najemom. Ta analiza bo razkrila relativno stroškovno učinkovitost najema v primerjavi z nakupom, kar nam bo omogočilo vpogled v to, katera možnost je finančno ugodnejša v različnih regijah."
   ]
  },
  {
   "cell_type": "markdown",
   "id": "a99f0726-0f95-45ea-9280-ec34cefacb6a",
   "metadata": {},
   "source": [
    "Izračunajmo povprečno ceno na kvadratni meter za vsak oglas:"
   ]
  },
  {
   "cell_type": "code",
   "execution_count": null,
   "id": "856dde69-bade-41a5-9a33-74efab25594e",
   "metadata": {},
   "outputs": [],
   "source": [
    "df['price_per_sq_m'] = df['price'] / df['living_area']\n",
    "sell_df = df[df['ad_type'] == 'prodaja']\n",
    "rent_df = df[df['ad_type'] == 'oddaja']"
   ]
  },
  {
   "cell_type": "markdown",
   "id": "a62e9de8-e497-4e10-844f-79bf6c7a0444",
   "metadata": {},
   "source": [
    "Oglejmo si, v katerih regijah je najvišja cena na kvadratni meter."
   ]
  },
  {
   "cell_type": "code",
   "execution_count": null,
   "id": "bb2643c2-17f6-4958-803f-6c9169f6730f",
   "metadata": {},
   "outputs": [],
   "source": [
    "sell_df.groupby(['ad_type', 'region'])['price_per_sq_m'].agg(['mean']).sort_values('mean', ascending=False)"
   ]
  },
  {
   "cell_type": "code",
   "execution_count": null,
   "id": "51d8c1c8-a8c8-4a6c-9f67-4072b07f8be6",
   "metadata": {},
   "outputs": [],
   "source": [
    "rent_df.groupby(['ad_type', 'region'])['price_per_sq_m'].agg(['mean']).sort_values('mean', ascending=False)"
   ]
  },
  {
   "cell_type": "markdown",
   "id": "ace0d87e-183c-4ba0-9b9a-1ccc87f468d9",
   "metadata": {},
   "source": [
    "Vidimo, da so najdražji regiji za nakup in najem nepremičnin: Ljubljana, Južna Primorska in Gorenjska. Najcenejše nepremičnine za nakup se nahajajo v takih regijah kot: Zasavska, Pomurska in Koroška, medtem ko so najcenejše nepremičnine za najem se nahajajo v takih regijah kot: Notranjska, Koroška in Zasavska."
   ]
  },
  {
   "cell_type": "markdown",
   "id": "357629bb-6bde-43b4-8492-20b7f45fa09d",
   "metadata": {},
   "source": [
    "Izračunajmo povprečno razmerje med ceno na kvadratni meter za prodajo in ceno na kvadratni meter za najem za vsako regijo."
   ]
  },
  {
   "cell_type": "code",
   "execution_count": null,
   "id": "89a8b08b-88dd-4225-8cdc-aef5064ddcc7",
   "metadata": {},
   "outputs": [],
   "source": [
    "sale_to_rent_ratio = {}\n",
    "\n",
    "for region in set(df['region']):\n",
    "    tmp_df = df[df['region'] == region]\n",
    "    sell_price = tmp_df[tmp_df['ad_type'] == 'prodaja']['price_per_sq_m'].mean()\n",
    "    rent_price = tmp_df[tmp_df['ad_type'] == 'oddaja']['price_per_sq_m'].mean()\n",
    "    ratio = float(sell_price / rent_price)\n",
    "    sale_to_rent_ratio[region] = ratio\n",
    "\n",
    "sale_to_rent_ratio_df = pd.DataFrame(list(sale_to_rent_ratio.items()), columns=['region', 'sale_to_rent_ratio'])\n",
    "sale_to_rent_ratio_df.sort_values('sale_to_rent_ratio')\n",
    "    "
   ]
  },
  {
   "cell_type": "code",
   "execution_count": null,
   "id": "0bac0eef-68cd-4861-9451-502d4dd4d7db",
   "metadata": {},
   "outputs": [],
   "source": [
    "sale_to_rent_ratio_df.sort_values('sale_to_rent_ratio', ascending=False).plot.barh(\n",
    "    x='region'\n",
    ")"
   ]
  },
  {
   "cell_type": "markdown",
   "id": "b3117b4a-91d7-4266-8ca3-14db6b73263b",
   "metadata": {},
   "source": [
    "## Razdelek 4.2\n",
    "## Donosnost najema"
   ]
  },
  {
   "cell_type": "markdown",
   "id": "89971cc4-9d8e-4263-b6ef-adce1d97de1d",
   "metadata": {},
   "source": [
    "V tem podrazdelku bomo izračunali ocenjeno donosnost najema, ki je razmerje med povprečno ceno najema in ceno prodaje. Ta kazalnik pomaga oceniti potencialni donos naložbe v nepremičnine za najem, kar zagotavlja vpogled za investitorje."
   ]
  },
  {
   "cell_type": "markdown",
   "id": "6b58acc0-e867-49fb-99cb-85b71a904fd1",
   "metadata": {},
   "source": [
    "Bomo pogledali donosnost oddajanja v najem v odstotkih na leto garsonjer, 1-3 sobnih stanovanj ter samostojnih hiš v različnih regijah."
   ]
  },
  {
   "cell_type": "code",
   "execution_count": null,
   "id": "1d62660f-8fd6-42e3-8b73-a6d40ec856cb",
   "metadata": {},
   "outputs": [],
   "source": [
    "def get_rental_income(real_estate_type, df):\n",
    "    profit_by_region = {}\n",
    "\n",
    "    for region in set(df['region']):\n",
    "        tmp_df = df[(df['region'] == region) & (df['type'] == real_estate_type)]\n",
    "        sell_price = tmp_df[tmp_df['ad_type'] == 'prodaja']['price'].mean()\n",
    "        rent_price = tmp_df[tmp_df['ad_type'] == 'oddaja']['price'].mean()\n",
    "        profit = float((rent_price * 12) / sell_price) * 100\n",
    "        profit_by_region[region] = profit\n",
    "\n",
    "    return profit_by_region"
   ]
  },
  {
   "cell_type": "markdown",
   "id": "b69fab44-6485-4d42-8957-1c24017fb968",
   "metadata": {},
   "source": [
    "**Samostojne hiše:**"
   ]
  },
  {
   "cell_type": "code",
   "execution_count": null,
   "id": "417a9b69-6492-4b23-8c0a-effa131e3802",
   "metadata": {},
   "outputs": [],
   "source": [
    "profit_single_houses = get_rental_income('samostojna', df)\n",
    "\n",
    "profit_single_houses_df = pd.DataFrame(list(profit_single_houses.items()), columns=['region', 'profit'])\n",
    "profit_single_houses_df.sort_values('profit', ascending=False)"
   ]
  },
  {
   "cell_type": "markdown",
   "id": "4ec213a8-d433-4321-996a-432b469db9d8",
   "metadata": {},
   "source": [
    "**Garsonjere:**"
   ]
  },
  {
   "cell_type": "code",
   "execution_count": null,
   "id": "a8eef538-2022-4067-89fd-a9081e0fa266",
   "metadata": {},
   "outputs": [],
   "source": [
    "profit_studios = get_rental_income('garsonjera', df)\n",
    "\n",
    "profit_studios = pd.DataFrame(list(profit_studios.items()), columns=['region', 'profit'])\n",
    "profit_studios.sort_values('profit', ascending=False)"
   ]
  },
  {
   "cell_type": "markdown",
   "id": "06c1157f-5c33-423d-a779-88d314a193f3",
   "metadata": {},
   "source": [
    "**1-sobna stanovanja:**"
   ]
  },
  {
   "cell_type": "code",
   "execution_count": null,
   "id": "de0fbdcf-b125-4432-a29a-399443bd698e",
   "metadata": {},
   "outputs": [],
   "source": [
    "profit_one_room_apartments = get_rental_income('1-sobno', df)\n",
    "\n",
    "profit_one_room_apartments = pd.DataFrame(list(profit_one_room_apartments.items()), columns=['region', 'profit'])\n",
    "profit_one_room_apartments.sort_values('profit', ascending=False)"
   ]
  },
  {
   "cell_type": "markdown",
   "id": "d5156668-2d24-47a1-86a2-a0b27f14f410",
   "metadata": {},
   "source": [
    "**2-sobna stanovanja:**"
   ]
  },
  {
   "cell_type": "code",
   "execution_count": null,
   "id": "5a15af04-ef9e-49e0-b35d-a40eb0b43586",
   "metadata": {},
   "outputs": [],
   "source": [
    "profit_two_room_apartments = get_rental_income('2-sobno', df)\n",
    "\n",
    "profit_two_room_apartments = pd.DataFrame(list(profit_two_room_apartments.items()), columns=['region', 'profit'])\n",
    "profit_two_room_apartments.sort_values('profit', ascending=False)"
   ]
  },
  {
   "cell_type": "markdown",
   "id": "4093683a-cc5d-4137-ac41-68d750d92896",
   "metadata": {},
   "source": [
    "**3-sobna stanovanja:**"
   ]
  },
  {
   "cell_type": "code",
   "execution_count": null,
   "id": "d19b6392-5863-419d-8a72-a43de75247dc",
   "metadata": {},
   "outputs": [],
   "source": [
    "profit_three_room_apartments = get_rental_income('3-sobno', df)\n",
    "\n",
    "profit_three_room_apartments = pd.DataFrame(list(profit_three_room_apartments.items()), columns=['region', 'profit'])\n",
    "profit_three_room_apartments.sort_values('profit', ascending=False)"
   ]
  },
  {
   "cell_type": "markdown",
   "id": "90392bef-ed28-48cf-9104-b02f8cf3392a",
   "metadata": {},
   "source": [
    "Izračunajmo tudi povprečno donosnost oddajanja v najem v Sloveniji kot celoti:"
   ]
  },
  {
   "cell_type": "code",
   "execution_count": null,
   "id": "62ba5e10-0911-407d-bdbc-b611e8fdc928",
   "metadata": {},
   "outputs": [],
   "source": [
    "mean_sell_price = df[df['ad_type'] == 'prodaja']['price'].mean()\n",
    "mean_rent_price = df[df['ad_type'] == 'oddaja']['price'].mean()\n",
    "print('Povprečna donosnost je {0:.2f}% na leto.'.format((mean_rent_price * 12) / mean_sell_price * 100))"
   ]
  },
  {
   "cell_type": "markdown",
   "id": "be27b7bc-2b72-4b27-9ee0-96d0e6623de0",
   "metadata": {},
   "source": [
    "***\n",
    "# Poglavje 5\n",
    "# Rezultati"
   ]
  },
  {
   "cell_type": "markdown",
   "id": "eb37df88-6dbb-46c5-b941-8fe929c6ba4c",
   "metadata": {},
   "source": [
    "Izpostavimo najbolj zanimive rezultate analize:\n",
    "\n",
    "- Na trgu prevladujejo prodajni oglasi (6-kratna premoč nad oglasi za najem).\n",
    "- Najem hiše bo težaven (le 140 ponudb).\n",
    "- Ponudbe za prodajo se začnejo pri 15.000 evrih in segajo do 4.000.000 evrov.\n",
    "- Povprečna cena 2-sobnega stanovanja znaša 200.000 evrov, medtem ko 3-sobno stanovanje stane 300.000 evrov.\n",
    "- Študent lahko računa na sobo za 250 evrov na mesec ali na garsonjero/1-sobno stanovanje za 600 evrov na mesec.\n",
    "- Najdražje nepremičnine so v Ljubljani in ob morju. Najdražje mesto za nakup nepremičnine je Portorož.\n",
    "- Leto gradnje nima vpliva na ceno stanovanja. Regija ima na ceno stanovanja majhen vpliv.\n",
    "- Donosnost oddajanja nepremičnin v najem se giblje med 3 in 7 odstotki."
   ]
  }
 ],
 "metadata": {
  "kernelspec": {
   "display_name": "Python 3 (ipykernel)",
   "language": "python",
   "name": "python3"
  },
  "language_info": {
   "codemirror_mode": {
    "name": "ipython",
    "version": 3
   },
   "file_extension": ".py",
   "mimetype": "text/x-python",
   "name": "python",
   "nbconvert_exporter": "python",
   "pygments_lexer": "ipython3",
   "version": "3.12.3"
  }
 },
 "nbformat": 4,
 "nbformat_minor": 5
}
