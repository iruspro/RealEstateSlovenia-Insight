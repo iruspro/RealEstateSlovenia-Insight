{
 "cells": [
  {
   "cell_type": "markdown",
   "id": "c54b67c9-d8d1-4322-9274-88a1cd0e83ae",
   "metadata": {},
   "source": [
    "# Vpogled v nepremičnine: Analiza slovenskega nepremičninskega trga"
   ]
  },
  {
   "cell_type": "markdown",
   "id": "2108cf63-47a1-43e5-a942-f5b9002fc899",
   "metadata": {},
   "source": [
    "Ta projekt si prizadeva zagotoviti poglobljeno analizo slovenskega nepremičninskega trga, s poudarkom na prodaji in dolgoročnem najemu. Podatki za to analizo so bili pridobljeni s spletnega mesta https://www.nepremicnine.net/, ki zajema širok spekter nepremičninskih oglasov.\n",
    "\n",
    "Z uporabo knjižnice Pandas v programskem jeziku Python znotraj okolja Jupyter Notebook bo projekt raziskal ključne tržne trende, cenovne vzorce in geografsko razporeditev nepremičnin. S pomočjo vizualizacije teh podatkov in izvedbe statističnih analiz bo projekt poskušal ponuditi dragocene vpoglede v dinamiko slovenskega nepremičninskega trga, kar bi lahko pomagalo kupcem, najemnikom in vlagateljem pri sprejemanju premišljenih odločitev."
   ]
  },
  {
   "cell_type": "markdown",
   "id": "15cf0dc5-c206-4211-a87c-bdfec7f73bd9",
   "metadata": {},
   "source": [
    "# Skripta\n",
    "1. [Pregled trga](#Pregled-trga)\n",
    "   - [Razporeditev oglasov po tipih (prodaja/oddaja)](#Razporeditev-oglasov-po-tipih-(prodaja/oddaja))\n",
    "   - [Razporeditev oglasov po tipu nepremičnine (hiša/stanovanje)](#Razporeditev-oglasov-po-tipu-nepremičnine-(hiša/stanovanje))\n",
    "   - [Geografska razporeditev](#Geografska-razporeditev)\n",
    "3. [Analiza cen](#Analiza-cen)\n",
    "   - [Razporeditev cen](#Razporeditev-cen)\n",
    "     - [Razporeditev cen (prodaja)](#Razporeditev-cen-(prodaja))\n",
    "     - [Razporeditev cen (oddaja)](#Razporeditev-cen-(oddaja))\n",
    "   - [Povprečne in mediane cene](#Povprečne-in-mediane-cene)\n",
    "     - [Povprečne in mediane cene (prodaja)](#Povprečne-in-mediane-cene-(prodaja))\n",
    "     - [Povprečne in mediane cene (oddaja)](#Povprečne-in-mediane-cene-(oddaja))\n",
    "3. [Regionalne razlike v cenah](#Regionalne-razlike-v-cenah)\n",
    "     "
   ]
  },
  {
   "cell_type": "markdown",
   "id": "6fb40a4b-1d78-4a50-9442-7adcf92ae6a4",
   "metadata": {},
   "source": [
    "### Uvoz podatkov in prilagoditev"
   ]
  },
  {
   "cell_type": "code",
   "execution_count": 378,
   "id": "010a3842-c8e2-4855-9375-cdc42dad049c",
   "metadata": {},
   "outputs": [],
   "source": [
    "import pandas as pd\n",
    "\n",
    "df = pd.read_csv('data/ads.csv', index_col='id')\n",
    "sell_df = df[df['ad_type'] == 'prodaja']\n",
    "rent_df = df[df['ad_type'] == 'oddaja']\n",
    "pd.options.display.max_rows = 20"
   ]
  },
  {
   "cell_type": "code",
   "execution_count": 379,
   "id": "21a177b7-6005-4ebe-9524-41f48f0e55c1",
   "metadata": {},
   "outputs": [
    {
     "name": "stdout",
     "output_type": "stream",
     "text": [
      "<class 'pandas.core.frame.DataFrame'>\n",
      "Index: 7444 entries, 6842736 to 6842630\n",
      "Data columns (total 11 columns):\n",
      " #   Column            Non-Null Count  Dtype  \n",
      "---  ------            --------------  -----  \n",
      " 0   ad_type           7444 non-null   object \n",
      " 1   real_estate_type  7444 non-null   object \n",
      " 2   region            7444 non-null   object \n",
      " 3   city              7444 non-null   object \n",
      " 4   type              7444 non-null   object \n",
      " 5   living_area       7444 non-null   float64\n",
      " 6   land_area         3586 non-null   float64\n",
      " 7   floor             5649 non-null   object \n",
      " 8   building_year     7444 non-null   int64  \n",
      " 9   price             7444 non-null   float64\n",
      " 10  seller            7444 non-null   object \n",
      "dtypes: float64(3), int64(1), object(7)\n",
      "memory usage: 697.9+ KB\n"
     ]
    },
    {
     "data": {
      "text/html": [
       "<div>\n",
       "<style scoped>\n",
       "    .dataframe tbody tr th:only-of-type {\n",
       "        vertical-align: middle;\n",
       "    }\n",
       "\n",
       "    .dataframe tbody tr th {\n",
       "        vertical-align: top;\n",
       "    }\n",
       "\n",
       "    .dataframe thead th {\n",
       "        text-align: right;\n",
       "    }\n",
       "</style>\n",
       "<table border=\"1\" class=\"dataframe\">\n",
       "  <thead>\n",
       "    <tr style=\"text-align: right;\">\n",
       "      <th></th>\n",
       "      <th>ad_type</th>\n",
       "      <th>real_estate_type</th>\n",
       "      <th>region</th>\n",
       "      <th>city</th>\n",
       "      <th>type</th>\n",
       "      <th>living_area</th>\n",
       "      <th>land_area</th>\n",
       "      <th>floor</th>\n",
       "      <th>building_year</th>\n",
       "      <th>price</th>\n",
       "      <th>seller</th>\n",
       "    </tr>\n",
       "    <tr>\n",
       "      <th>id</th>\n",
       "      <th></th>\n",
       "      <th></th>\n",
       "      <th></th>\n",
       "      <th></th>\n",
       "      <th></th>\n",
       "      <th></th>\n",
       "      <th></th>\n",
       "      <th></th>\n",
       "      <th></th>\n",
       "      <th></th>\n",
       "      <th></th>\n",
       "    </tr>\n",
       "  </thead>\n",
       "  <tbody>\n",
       "    <tr>\n",
       "      <th>6842736</th>\n",
       "      <td>prodaja</td>\n",
       "      <td>stanovanje</td>\n",
       "      <td>juzna primorska</td>\n",
       "      <td>koper</td>\n",
       "      <td>1,5-sobno</td>\n",
       "      <td>37.52</td>\n",
       "      <td>NaN</td>\n",
       "      <td>p</td>\n",
       "      <td>2024</td>\n",
       "      <td>235000.0</td>\n",
       "      <td>fesst nepremičnine d.o.o.</td>\n",
       "    </tr>\n",
       "    <tr>\n",
       "      <th>6716261</th>\n",
       "      <td>prodaja</td>\n",
       "      <td>stanovanje</td>\n",
       "      <td>juzna primorska</td>\n",
       "      <td>lucija</td>\n",
       "      <td>2-sobno</td>\n",
       "      <td>69.20</td>\n",
       "      <td>NaN</td>\n",
       "      <td>1/4</td>\n",
       "      <td>1987</td>\n",
       "      <td>298700.0</td>\n",
       "      <td>obala nepremičnine d.o.o.</td>\n",
       "    </tr>\n",
       "    <tr>\n",
       "      <th>6589386</th>\n",
       "      <td>prodaja</td>\n",
       "      <td>stanovanje</td>\n",
       "      <td>juzna primorska</td>\n",
       "      <td>piran</td>\n",
       "      <td>4-sobno</td>\n",
       "      <td>99.30</td>\n",
       "      <td>NaN</td>\n",
       "      <td>2/m</td>\n",
       "      <td>1831</td>\n",
       "      <td>370000.0</td>\n",
       "      <td>obala nepremičnine d.o.o.</td>\n",
       "    </tr>\n",
       "    <tr>\n",
       "      <th>6786199</th>\n",
       "      <td>prodaja</td>\n",
       "      <td>stanovanje</td>\n",
       "      <td>juzna primorska</td>\n",
       "      <td>piran</td>\n",
       "      <td>garsonjera</td>\n",
       "      <td>56.80</td>\n",
       "      <td>NaN</td>\n",
       "      <td>3/4</td>\n",
       "      <td>1900</td>\n",
       "      <td>248000.0</td>\n",
       "      <td>obala nepremičnine d.o.o.</td>\n",
       "    </tr>\n",
       "    <tr>\n",
       "      <th>6601965</th>\n",
       "      <td>prodaja</td>\n",
       "      <td>stanovanje</td>\n",
       "      <td>juzna primorska</td>\n",
       "      <td>portorož</td>\n",
       "      <td>apartma</td>\n",
       "      <td>202.70</td>\n",
       "      <td>321.0</td>\n",
       "      <td>/1</td>\n",
       "      <td>1905</td>\n",
       "      <td>1547000.0</td>\n",
       "      <td>re/max ljubljana, nepremičninska družba d.o.o.</td>\n",
       "    </tr>\n",
       "    <tr>\n",
       "      <th>6828163</th>\n",
       "      <td>prodaja</td>\n",
       "      <td>stanovanje</td>\n",
       "      <td>juzna primorska</td>\n",
       "      <td>portorož</td>\n",
       "      <td>2-sobno</td>\n",
       "      <td>55.90</td>\n",
       "      <td>NaN</td>\n",
       "      <td>NaN</td>\n",
       "      <td>1978</td>\n",
       "      <td>263000.0</td>\n",
       "      <td>abc nepremičnine d.o.o.</td>\n",
       "    </tr>\n",
       "    <tr>\n",
       "      <th>6842342</th>\n",
       "      <td>prodaja</td>\n",
       "      <td>stanovanje</td>\n",
       "      <td>juzna primorska</td>\n",
       "      <td>portorož</td>\n",
       "      <td>3-sobno</td>\n",
       "      <td>81.00</td>\n",
       "      <td>NaN</td>\n",
       "      <td>NaN</td>\n",
       "      <td>1984</td>\n",
       "      <td>430000.0</td>\n",
       "      <td>abc nepremičnine d.o.o.</td>\n",
       "    </tr>\n",
       "    <tr>\n",
       "      <th>6783649</th>\n",
       "      <td>prodaja</td>\n",
       "      <td>stanovanje</td>\n",
       "      <td>juzna primorska</td>\n",
       "      <td>ankaran</td>\n",
       "      <td>1,5-sobno</td>\n",
       "      <td>41.00</td>\n",
       "      <td>NaN</td>\n",
       "      <td>p/3</td>\n",
       "      <td>2018</td>\n",
       "      <td>270000.0</td>\n",
       "      <td>klaras d.o.o.</td>\n",
       "    </tr>\n",
       "    <tr>\n",
       "      <th>6836749</th>\n",
       "      <td>prodaja</td>\n",
       "      <td>stanovanje</td>\n",
       "      <td>juzna primorska</td>\n",
       "      <td>ankaran</td>\n",
       "      <td>2-sobno</td>\n",
       "      <td>51.50</td>\n",
       "      <td>NaN</td>\n",
       "      <td>3/3</td>\n",
       "      <td>1994</td>\n",
       "      <td>195000.0</td>\n",
       "      <td>nepremičnine lunar, vlado grbac s.p.</td>\n",
       "    </tr>\n",
       "    <tr>\n",
       "      <th>6780343</th>\n",
       "      <td>prodaja</td>\n",
       "      <td>stanovanje</td>\n",
       "      <td>juzna primorska</td>\n",
       "      <td>ankaran</td>\n",
       "      <td>2-sobno</td>\n",
       "      <td>71.50</td>\n",
       "      <td>NaN</td>\n",
       "      <td>vp</td>\n",
       "      <td>1966</td>\n",
       "      <td>260000.0</td>\n",
       "      <td>abstract nepremičnine, igor kerin s.p.</td>\n",
       "    </tr>\n",
       "  </tbody>\n",
       "</table>\n",
       "</div>"
      ],
      "text/plain": [
       "         ad_type real_estate_type           region      city        type  \\\n",
       "id                                                                         \n",
       "6842736  prodaja       stanovanje  juzna primorska     koper   1,5-sobno   \n",
       "6716261  prodaja       stanovanje  juzna primorska    lucija     2-sobno   \n",
       "6589386  prodaja       stanovanje  juzna primorska     piran     4-sobno   \n",
       "6786199  prodaja       stanovanje  juzna primorska     piran  garsonjera   \n",
       "6601965  prodaja       stanovanje  juzna primorska  portorož     apartma   \n",
       "6828163  prodaja       stanovanje  juzna primorska  portorož     2-sobno   \n",
       "6842342  prodaja       stanovanje  juzna primorska  portorož     3-sobno   \n",
       "6783649  prodaja       stanovanje  juzna primorska   ankaran   1,5-sobno   \n",
       "6836749  prodaja       stanovanje  juzna primorska   ankaran     2-sobno   \n",
       "6780343  prodaja       stanovanje  juzna primorska   ankaran     2-sobno   \n",
       "\n",
       "         living_area  land_area floor  building_year      price  \\\n",
       "id                                                                \n",
       "6842736        37.52        NaN     p           2024   235000.0   \n",
       "6716261        69.20        NaN   1/4           1987   298700.0   \n",
       "6589386        99.30        NaN   2/m           1831   370000.0   \n",
       "6786199        56.80        NaN   3/4           1900   248000.0   \n",
       "6601965       202.70      321.0    /1           1905  1547000.0   \n",
       "6828163        55.90        NaN   NaN           1978   263000.0   \n",
       "6842342        81.00        NaN   NaN           1984   430000.0   \n",
       "6783649        41.00        NaN   p/3           2018   270000.0   \n",
       "6836749        51.50        NaN   3/3           1994   195000.0   \n",
       "6780343        71.50        NaN    vp           1966   260000.0   \n",
       "\n",
       "                                                  seller  \n",
       "id                                                        \n",
       "6842736                        fesst nepremičnine d.o.o.  \n",
       "6716261                        obala nepremičnine d.o.o.  \n",
       "6589386                        obala nepremičnine d.o.o.  \n",
       "6786199                        obala nepremičnine d.o.o.  \n",
       "6601965  re/max ljubljana, nepremičninska družba d.o.o.   \n",
       "6828163                          abc nepremičnine d.o.o.  \n",
       "6842342                          abc nepremičnine d.o.o.  \n",
       "6783649                                    klaras d.o.o.  \n",
       "6836749             nepremičnine lunar, vlado grbac s.p.  \n",
       "6780343           abstract nepremičnine, igor kerin s.p.  "
      ]
     },
     "execution_count": 379,
     "metadata": {},
     "output_type": "execute_result"
    }
   ],
   "source": [
    "df.info()\n",
    "df.head(10)"
   ]
  },
  {
   "cell_type": "markdown",
   "id": "e03dfe35-bf3d-44e7-b486-8a5fc1ce41d4",
   "metadata": {},
   "source": [
    "***\n",
    "# Pregled trga"
   ]
  },
  {
   "cell_type": "markdown",
   "id": "d8a9e5db-2a47-4bc9-9b2e-4b79c903ce8d",
   "metadata": {},
   "source": [
    "Ta razdelek zagotavlja pregled trga nepremičnin z analizo razporeditve oglasov po tipu (prodaja ali oddaja), tipu nepremičnine (hiša ali stanovanje) in geografski lokaciji. Razumevanje teh razporeditev pomaga pri prepoznavanju ključnih tržnih trendov in relativne razpoložljivosti različnih vrst nepremičnin v različnih regijah."
   ]
  },
  {
   "cell_type": "markdown",
   "id": "02eb0636-3927-4ebc-b32f-97ab55aacd2c",
   "metadata": {},
   "source": [
    "## Razporeditev oglasov po tipih (prodaja/oddaja)"
   ]
  },
  {
   "cell_type": "markdown",
   "id": "abaabe9b-fe6d-44cc-a2ee-045ac4b3cf13",
   "metadata": {},
   "source": [
    "Najprej si oglejmo razmerje med oglasi za prodajo in oddajo. Podatke bomo vizualizirali, da bomo videli, kako je trg razdeljen med tema dvema kategorijama."
   ]
  },
  {
   "cell_type": "code",
   "execution_count": 380,
   "id": "7cb8544a-4867-4fc6-9590-b286be1f4174",
   "metadata": {},
   "outputs": [
    {
     "data": {
      "text/plain": [
       "<Axes: title={'center': 'Razporeditev oglasov po tipih (prodaja/oddaja)'}>"
      ]
     },
     "execution_count": 380,
     "metadata": {},
     "output_type": "execute_result"
    },
    {
     "data": {
      "image/png": "[encoded data removed]",
      "text/plain": [
       "<Figure size 640x480 with 1 Axes>"
      ]
     },
     "metadata": {},
     "output_type": "display_data"
    }
   ],
   "source": [
    "df['ad_type'].value_counts().plot.pie(\n",
    "    title='Razporeditev oglasov po tipih (prodaja/oddaja)',\n",
    "    labels=['Prodaja', 'Oddaja'],\n",
    "    autopct='%.2f%%',\n",
    "    shadow=True,        \n",
    "    ylabel='',    \n",
    ")"
   ]
  },
  {
   "cell_type": "code",
   "execution_count": 381,
   "id": "321ab833-2b01-49fb-994f-9069bf3dda79",
   "metadata": {},
   "outputs": [
    {
     "data": {
      "text/plain": [
       "ad_type\n",
       "prodaja    6224\n",
       "oddaja     1220\n",
       "Name: count, dtype: int64"
      ]
     },
     "execution_count": 381,
     "metadata": {},
     "output_type": "execute_result"
    }
   ],
   "source": [
    "df['ad_type'].value_counts()"
   ]
  },
  {
   "cell_type": "markdown",
   "id": "26d3eb61-e020-4272-8ec5-e9e7e4a017d6",
   "metadata": {},
   "source": [
    "## Razporeditev oglasov po tipu nepremičnine (hiša/stanovanje)"
   ]
  },
  {
   "cell_type": "markdown",
   "id": "271535ad-058d-4996-8f65-11ffda6c51a7",
   "metadata": {},
   "source": [
    "Zdaj si oglejmo razporeditev oglasov med hišami in stanovanji. Ta analiza nam bo pomagala razumeti relativno razpoložljivost različnih vrst nepremičnin na trgu in ali obstaja prednost enega tipa pred drugim."
   ]
  },
  {
   "cell_type": "code",
   "execution_count": 382,
   "id": "3103429e-3c0e-4a37-9d71-b1ea9d706e0f",
   "metadata": {},
   "outputs": [
    {
     "data": {
      "text/plain": [
       "<Axes: title={'center': 'Razporeditev oglasov po tipu nepremičnine (hiša/stanovanje)'}>"
      ]
     },
     "execution_count": 382,
     "metadata": {},
     "output_type": "execute_result"
    },
    {
     "data": {
      "image/png": "[encoded data removed]",
      "text/plain": [
       "<Figure size 640x480 with 1 Axes>"
      ]
     },
     "metadata": {},
     "output_type": "display_data"
    }
   ],
   "source": [
    "df.groupby('real_estate_type').size().plot.pie(\n",
    "    title='Razporeditev oglasov po tipu nepremičnine (hiša/stanovanje)',\n",
    "    autopct='%.2f%%',\n",
    "    shadow=True,        \n",
    "    ylabel='',    \n",
    ")"
   ]
  },
  {
   "cell_type": "code",
   "execution_count": 383,
   "id": "89a1d346-6b4c-4daf-aec2-5e46e61e57d8",
   "metadata": {},
   "outputs": [
    {
     "data": {
      "text/plain": [
       "real_estate_type\n",
       "stanovanje    4073\n",
       "hiša          3371\n",
       "Name: count, dtype: int64"
      ]
     },
     "execution_count": 383,
     "metadata": {},
     "output_type": "execute_result"
    }
   ],
   "source": [
    "df['real_estate_type'].value_counts()"
   ]
  },
  {
   "cell_type": "markdown",
   "id": "265a8414-c645-49df-8335-097285187159",
   "metadata": {},
   "source": [
    "Oglejmo si tudi razporeditev oglasov po tipu oglasa (prodaja/oddaja) in tipu nepremičnine (hiša/stanovanje) hkrati."
   ]
  },
  {
   "cell_type": "code",
   "execution_count": 384,
   "id": "8e86db43-3e90-40a6-b839-3679f1ea21c7",
   "metadata": {},
   "outputs": [
    {
     "data": {
      "text/plain": [
       "<Axes: title={'center': 'Razporeditev oglasov po tipu oglasa (prodaja/oddaja) in tipu nepremičnine (hiša/stanovanje)'}>"
      ]
     },
     "execution_count": 384,
     "metadata": {},
     "output_type": "execute_result"
    },
    {
     "data": {
      "image/png": "[encoded data removed]",
      "text/plain": [
       "<Figure size 640x480 with 1 Axes>"
      ]
     },
     "metadata": {},
     "output_type": "display_data"
    }
   ],
   "source": [
    "df[['ad_type', 'real_estate_type']].value_counts().plot.pie(\n",
    "    title='Razporeditev oglasov po tipu oglasa (prodaja/oddaja) in tipu nepremičnine (hiša/stanovanje)',\n",
    "    autopct='%.2f%%',\n",
    "    shadow=True,        \n",
    "    ylabel='',    \n",
    ")"
   ]
  },
  {
   "cell_type": "code",
   "execution_count": 385,
   "id": "35f4440d-c6ea-4e19-9dfe-9cce9e659937",
   "metadata": {},
   "outputs": [
    {
     "data": {
      "text/plain": [
       "ad_type  real_estate_type\n",
       "prodaja  hiša                3232\n",
       "         stanovanje          2992\n",
       "oddaja   stanovanje          1081\n",
       "         hiša                 139\n",
       "Name: count, dtype: int64"
      ]
     },
     "execution_count": 385,
     "metadata": {},
     "output_type": "execute_result"
    }
   ],
   "source": [
    "df[['ad_type', 'real_estate_type']].value_counts()"
   ]
  },
  {
   "cell_type": "markdown",
   "id": "7f420b6e-cf20-46f0-93b2-77de4d3d9c10",
   "metadata": {},
   "source": [
    "## Geografska razporeditev"
   ]
  },
  {
   "cell_type": "markdown",
   "id": "e66a2d41-fd30-4850-b297-6a0ed470e364",
   "metadata": {},
   "source": [
    "Zdaj bomo prikazali razporeditev nepremičninskih oglasov po različnih regijah. Ta geografska analiza bo razkrila območja z visoko koncentracijo oglasov, kar lahko kaže na vroče točke trga ali razlike v razpoložljivosti nepremičnin."
   ]
  },
  {
   "cell_type": "code",
   "execution_count": 386,
   "id": "027fed30-438e-4b84-a3c7-a4f3ee744c34",
   "metadata": {},
   "outputs": [
    {
     "data": {
      "text/plain": [
       "<Axes: title={'center': 'Geografska razporeditev'}, ylabel='region'>"
      ]
     },
     "execution_count": 386,
     "metadata": {},
     "output_type": "execute_result"
    },
    {
     "data": {
      "image/png": "[encoded data removed]",
      "text/plain": [
       "<Figure size 640x480 with 1 Axes>"
      ]
     },
     "metadata": {},
     "output_type": "display_data"
    }
   ],
   "source": [
    "df['region'].value_counts().plot.barh(\n",
    "    title=\"Geografska razporeditev\"\n",
    ")"
   ]
  },
  {
   "cell_type": "code",
   "execution_count": 387,
   "id": "cdf8ccb2-07be-4894-8c0d-5f183a0d9d68",
   "metadata": {},
   "outputs": [
    {
     "data": {
      "text/plain": [
       "region\n",
       "ljubljana mesto      1667\n",
       "podravska            1112\n",
       "juzna primorska       871\n",
       "ljubljana okolica     847\n",
       "savinjska             831\n",
       "gorenjska             619\n",
       "dolenjska             376\n",
       "pomurska              314\n",
       "severna primorska     263\n",
       "posavska              200\n",
       "koroska               157\n",
       "notranjska            123\n",
       "zasavska               64\n",
       "Name: count, dtype: int64"
      ]
     },
     "execution_count": 387,
     "metadata": {},
     "output_type": "execute_result"
    }
   ],
   "source": [
    "df['region'].value_counts()"
   ]
  },
  {
   "cell_type": "markdown",
   "id": "b64ed232-6259-49e9-89bd-011340feef63",
   "metadata": {},
   "source": [
    "## Sklep"
   ]
  },
  {
   "cell_type": "markdown",
   "id": "efabd4d4-0ef4-4ef7-8be5-fa7e54cbc4f4",
   "metadata": {},
   "source": [
    "Po kratkem pregledu trga lahko zaključimo, da na njem prevladujejo oglasi za prodajo nepremičnin. Pri tem je razdelitev med prodajo stanovanj in hiš enaka, medtem ko se veliko več stanovanj oddaja v najem.\n",
    "\n",
    "Če pogledamo razporeditev po regijah, je vidno, da je največ ponudb v Ljubljani."
   ]
  },
  {
   "cell_type": "markdown",
   "id": "8024ba43-57c7-4a57-b6f6-75bb37e95b8a",
   "metadata": {},
   "source": [
    "***\n",
    "# Analiza cen"
   ]
  },
  {
   "cell_type": "markdown",
   "id": "f0e0a461-07e8-4d8a-ae19-1d8b79a0f7c9",
   "metadata": {},
   "source": [
    "V tem razdelku bomo analizirali razporeditev in trende cen nepremičnin. To vključuje preučevanje splošne razporeditve cen, izračun povprečnih in medianih cen za različne tipe nepremičnin ter raziskovanje, kako se cene razlikujejo glede na regijo. Prav tako bomo raziskali razmerje med ceno in značilnostmi nepremičnin, kot so površina in število sob."
   ]
  },
  {
   "cell_type": "markdown",
   "id": "620ff9ca-598c-442b-94a0-e4b9ae7aca84",
   "metadata": {},
   "source": [
    "## Razporeditev cen"
   ]
  },
  {
   "cell_type": "markdown",
   "id": "463099b6-f15e-4dde-bf5e-ffaeafeb8b01",
   "metadata": {},
   "source": [
    "Najprej bomo preučili splošno razporeditev cen nepremičnin. To vključuje vizualizacijo razporeditve cen na trgu in razumevanje splošnega cenovnega razpona za prodajo in oddajo. Ta analiza zagotavlja osnovo za globlje vpoglede v cenovne trende."
   ]
  },
  {
   "cell_type": "markdown",
   "id": "ea1f07d4-3b59-446e-92c0-84134505def8",
   "metadata": {},
   "source": [
    "### Razporeditev cen (prodaja)"
   ]
  },
  {
   "cell_type": "markdown",
   "id": "fbfc287e-125f-4e93-8845-b27bff477b03",
   "metadata": {},
   "source": [
    "Za začetek si oglejmo 5 najdražjih in 5 najcenejših ponudb."
   ]
  },
  {
   "cell_type": "code",
   "execution_count": 388,
   "id": "cc1af08f-e132-457e-8c7c-97ccb21c32b7",
   "metadata": {},
   "outputs": [
    {
     "data": {
      "text/html": [
       "<div>\n",
       "<style scoped>\n",
       "    .dataframe tbody tr th:only-of-type {\n",
       "        vertical-align: middle;\n",
       "    }\n",
       "\n",
       "    .dataframe tbody tr th {\n",
       "        vertical-align: top;\n",
       "    }\n",
       "\n",
       "    .dataframe thead th {\n",
       "        text-align: right;\n",
       "    }\n",
       "</style>\n",
       "<table border=\"1\" class=\"dataframe\">\n",
       "  <thead>\n",
       "    <tr style=\"text-align: right;\">\n",
       "      <th></th>\n",
       "      <th>ad_type</th>\n",
       "      <th>real_estate_type</th>\n",
       "      <th>region</th>\n",
       "      <th>city</th>\n",
       "      <th>type</th>\n",
       "      <th>living_area</th>\n",
       "      <th>land_area</th>\n",
       "      <th>floor</th>\n",
       "      <th>building_year</th>\n",
       "      <th>price</th>\n",
       "      <th>seller</th>\n",
       "    </tr>\n",
       "    <tr>\n",
       "      <th>id</th>\n",
       "      <th></th>\n",
       "      <th></th>\n",
       "      <th></th>\n",
       "      <th></th>\n",
       "      <th></th>\n",
       "      <th></th>\n",
       "      <th></th>\n",
       "      <th></th>\n",
       "      <th></th>\n",
       "      <th></th>\n",
       "      <th></th>\n",
       "    </tr>\n",
       "  </thead>\n",
       "  <tbody>\n",
       "    <tr>\n",
       "      <th>6826989</th>\n",
       "      <td>prodaja</td>\n",
       "      <td>hiša</td>\n",
       "      <td>ljubljana mesto</td>\n",
       "      <td>ljubljana</td>\n",
       "      <td>samostojna</td>\n",
       "      <td>474.88</td>\n",
       "      <td>870.0</td>\n",
       "      <td>p+1+2</td>\n",
       "      <td>2024</td>\n",
       "      <td>4161000.0</td>\n",
       "      <td>baza agencija d.o.o.</td>\n",
       "    </tr>\n",
       "    <tr>\n",
       "      <th>6827424</th>\n",
       "      <td>prodaja</td>\n",
       "      <td>hiša</td>\n",
       "      <td>gorenjska</td>\n",
       "      <td>kranjska gora</td>\n",
       "      <td>drugo</td>\n",
       "      <td>670.00</td>\n",
       "      <td>470.0</td>\n",
       "      <td>NaN</td>\n",
       "      <td>2020</td>\n",
       "      <td>3950000.0</td>\n",
       "      <td>dom real d.o.o.</td>\n",
       "    </tr>\n",
       "    <tr>\n",
       "      <th>6589216</th>\n",
       "      <td>prodaja</td>\n",
       "      <td>stanovanje</td>\n",
       "      <td>ljubljana mesto</td>\n",
       "      <td>ljubljana</td>\n",
       "      <td>5 in večsobno</td>\n",
       "      <td>390.30</td>\n",
       "      <td>NaN</td>\n",
       "      <td>6/7</td>\n",
       "      <td>2022</td>\n",
       "      <td>3932029.0</td>\n",
       "      <td>ab nepremičnine, agencija za posredovanje v pr...</td>\n",
       "    </tr>\n",
       "    <tr>\n",
       "      <th>6570641</th>\n",
       "      <td>prodaja</td>\n",
       "      <td>hiša</td>\n",
       "      <td>juzna primorska</td>\n",
       "      <td>malija</td>\n",
       "      <td>samostojna</td>\n",
       "      <td>1744.00</td>\n",
       "      <td>33103.0</td>\n",
       "      <td>k+p+1</td>\n",
       "      <td>2007</td>\n",
       "      <td>3900000.0</td>\n",
       "      <td>aeon nepremičnine, d.o.o.</td>\n",
       "    </tr>\n",
       "    <tr>\n",
       "      <th>6824859</th>\n",
       "      <td>prodaja</td>\n",
       "      <td>hiša</td>\n",
       "      <td>severna primorska</td>\n",
       "      <td>kneža</td>\n",
       "      <td>drugo</td>\n",
       "      <td>760.00</td>\n",
       "      <td>28600.0</td>\n",
       "      <td>k+p+1+2/k+p+1+2</td>\n",
       "      <td>1988</td>\n",
       "      <td>3800000.0</td>\n",
       "      <td>zasebna ponudba</td>\n",
       "    </tr>\n",
       "  </tbody>\n",
       "</table>\n",
       "</div>"
      ],
      "text/plain": [
       "         ad_type real_estate_type             region           city  \\\n",
       "id                                                                    \n",
       "6826989  prodaja             hiša    ljubljana mesto      ljubljana   \n",
       "6827424  prodaja             hiša          gorenjska  kranjska gora   \n",
       "6589216  prodaja       stanovanje    ljubljana mesto      ljubljana   \n",
       "6570641  prodaja             hiša    juzna primorska         malija   \n",
       "6824859  prodaja             hiša  severna primorska          kneža   \n",
       "\n",
       "                  type  living_area  land_area            floor  \\\n",
       "id                                                                \n",
       "6826989     samostojna       474.88      870.0            p+1+2   \n",
       "6827424          drugo       670.00      470.0              NaN   \n",
       "6589216  5 in večsobno       390.30        NaN              6/7   \n",
       "6570641     samostojna      1744.00    33103.0            k+p+1   \n",
       "6824859          drugo       760.00    28600.0  k+p+1+2/k+p+1+2   \n",
       "\n",
       "         building_year      price  \\\n",
       "id                                  \n",
       "6826989           2024  4161000.0   \n",
       "6827424           2020  3950000.0   \n",
       "6589216           2022  3932029.0   \n",
       "6570641           2007  3900000.0   \n",
       "6824859           1988  3800000.0   \n",
       "\n",
       "                                                    seller  \n",
       "id                                                          \n",
       "6826989                               baza agencija d.o.o.  \n",
       "6827424                                    dom real d.o.o.  \n",
       "6589216  ab nepremičnine, agencija za posredovanje v pr...  \n",
       "6570641                          aeon nepremičnine, d.o.o.  \n",
       "6824859                                    zasebna ponudba  "
      ]
     },
     "execution_count": 388,
     "metadata": {},
     "output_type": "execute_result"
    }
   ],
   "source": [
    "sell_df.sort_values('price', ascending=False).head(5)"
   ]
  },
  {
   "cell_type": "code",
   "execution_count": 389,
   "id": "004634fc-be9a-4add-8b72-9b33a8a0c007",
   "metadata": {},
   "outputs": [
    {
     "data": {
      "text/html": [
       "<div>\n",
       "<style scoped>\n",
       "    .dataframe tbody tr th:only-of-type {\n",
       "        vertical-align: middle;\n",
       "    }\n",
       "\n",
       "    .dataframe tbody tr th {\n",
       "        vertical-align: top;\n",
       "    }\n",
       "\n",
       "    .dataframe thead th {\n",
       "        text-align: right;\n",
       "    }\n",
       "</style>\n",
       "<table border=\"1\" class=\"dataframe\">\n",
       "  <thead>\n",
       "    <tr style=\"text-align: right;\">\n",
       "      <th></th>\n",
       "      <th>ad_type</th>\n",
       "      <th>real_estate_type</th>\n",
       "      <th>region</th>\n",
       "      <th>city</th>\n",
       "      <th>type</th>\n",
       "      <th>living_area</th>\n",
       "      <th>land_area</th>\n",
       "      <th>floor</th>\n",
       "      <th>building_year</th>\n",
       "      <th>price</th>\n",
       "      <th>seller</th>\n",
       "    </tr>\n",
       "    <tr>\n",
       "      <th>id</th>\n",
       "      <th></th>\n",
       "      <th></th>\n",
       "      <th></th>\n",
       "      <th></th>\n",
       "      <th></th>\n",
       "      <th></th>\n",
       "      <th></th>\n",
       "      <th></th>\n",
       "      <th></th>\n",
       "      <th></th>\n",
       "      <th></th>\n",
       "    </tr>\n",
       "  </thead>\n",
       "  <tbody>\n",
       "    <tr>\n",
       "      <th>6824369</th>\n",
       "      <td>prodaja</td>\n",
       "      <td>stanovanje</td>\n",
       "      <td>gorenjska</td>\n",
       "      <td>radovljica</td>\n",
       "      <td>3-sobno</td>\n",
       "      <td>12.50</td>\n",
       "      <td>NaN</td>\n",
       "      <td>NaN</td>\n",
       "      <td>2013</td>\n",
       "      <td>12500.0</td>\n",
       "      <td>mesto nepremičnin d.o.o.</td>\n",
       "    </tr>\n",
       "    <tr>\n",
       "      <th>6550925</th>\n",
       "      <td>prodaja</td>\n",
       "      <td>hiša</td>\n",
       "      <td>gorenjska</td>\n",
       "      <td>bohinjska bistrica</td>\n",
       "      <td>samostojna</td>\n",
       "      <td>13.66</td>\n",
       "      <td>44.05</td>\n",
       "      <td>NaN</td>\n",
       "      <td>1945</td>\n",
       "      <td>14500.0</td>\n",
       "      <td>sdh, d.d.</td>\n",
       "    </tr>\n",
       "    <tr>\n",
       "      <th>6835049</th>\n",
       "      <td>prodaja</td>\n",
       "      <td>hiša</td>\n",
       "      <td>dolenjska</td>\n",
       "      <td>rajhenav</td>\n",
       "      <td>drugo</td>\n",
       "      <td>55.20</td>\n",
       "      <td>320.00</td>\n",
       "      <td>NaN</td>\n",
       "      <td>1958</td>\n",
       "      <td>15000.0</td>\n",
       "      <td>zavod za gozdove slovenije</td>\n",
       "    </tr>\n",
       "    <tr>\n",
       "      <th>6821318</th>\n",
       "      <td>prodaja</td>\n",
       "      <td>hiša</td>\n",
       "      <td>pomurska</td>\n",
       "      <td>čentiba</td>\n",
       "      <td>samostojna</td>\n",
       "      <td>76.00</td>\n",
       "      <td>2772.00</td>\n",
       "      <td>k+p+m</td>\n",
       "      <td>1990</td>\n",
       "      <td>19000.0</td>\n",
       "      <td>zasebna ponudba</td>\n",
       "    </tr>\n",
       "    <tr>\n",
       "      <th>6748385</th>\n",
       "      <td>prodaja</td>\n",
       "      <td>hiša</td>\n",
       "      <td>pomurska</td>\n",
       "      <td>lončarovci</td>\n",
       "      <td>samostojna</td>\n",
       "      <td>55.60</td>\n",
       "      <td>1663.00</td>\n",
       "      <td>NaN</td>\n",
       "      <td>1923</td>\n",
       "      <td>19000.0</td>\n",
       "      <td>nepremičnine djm, posredništvo, mirjana kouter...</td>\n",
       "    </tr>\n",
       "  </tbody>\n",
       "</table>\n",
       "</div>"
      ],
      "text/plain": [
       "         ad_type real_estate_type     region                city        type  \\\n",
       "id                                                                             \n",
       "6824369  prodaja       stanovanje  gorenjska          radovljica     3-sobno   \n",
       "6550925  prodaja             hiša  gorenjska  bohinjska bistrica  samostojna   \n",
       "6835049  prodaja             hiša  dolenjska            rajhenav       drugo   \n",
       "6821318  prodaja             hiša   pomurska             čentiba  samostojna   \n",
       "6748385  prodaja             hiša   pomurska          lončarovci  samostojna   \n",
       "\n",
       "         living_area  land_area  floor  building_year    price  \\\n",
       "id                                                               \n",
       "6824369        12.50        NaN    NaN           2013  12500.0   \n",
       "6550925        13.66      44.05    NaN           1945  14500.0   \n",
       "6835049        55.20     320.00    NaN           1958  15000.0   \n",
       "6821318        76.00    2772.00  k+p+m           1990  19000.0   \n",
       "6748385        55.60    1663.00    NaN           1923  19000.0   \n",
       "\n",
       "                                                    seller  \n",
       "id                                                          \n",
       "6824369                           mesto nepremičnin d.o.o.  \n",
       "6550925                                          sdh, d.d.  \n",
       "6835049                        zavod za gozdove slovenije   \n",
       "6821318                                    zasebna ponudba  \n",
       "6748385  nepremičnine djm, posredništvo, mirjana kouter...  "
      ]
     },
     "execution_count": 389,
     "metadata": {},
     "output_type": "execute_result"
    }
   ],
   "source": [
    "sell_df.sort_values('price', ascending=True).head(5)"
   ]
  },
  {
   "cell_type": "markdown",
   "id": "046577af-4245-47b3-bf13-013cc9781fa8",
   "metadata": {},
   "source": [
    "Izračunajmo razliko med najdražjim in najcenejšim oglasom."
   ]
  },
  {
   "cell_type": "code",
   "execution_count": 390,
   "id": "5a2945aa-d76c-4b0e-a1a6-0dae50667036",
   "metadata": {},
   "outputs": [
    {
     "name": "stdout",
     "output_type": "stream",
     "text": [
      "Razlika je 4148500.0 evrov.\n"
     ]
    }
   ],
   "source": [
    "print(f'Razlika je {float(sell_df['price'].max() - sell_df['price'].min())} evrov.')"
   ]
  },
  {
   "cell_type": "markdown",
   "id": "76a7ca83-9920-4ca3-a8ce-2ee01bdfed13",
   "metadata": {},
   "source": [
    "Oglejmo si splošno razporeditev cen."
   ]
  },
  {
   "cell_type": "code",
   "execution_count": 391,
   "id": "37ba38dd-4705-4132-8764-b50834352a28",
   "metadata": {},
   "outputs": [
    {
     "data": {
      "text/plain": [
       "<Axes: title={'center': 'Razporeditev cen'}, ylabel='Frequency'>"
      ]
     },
     "execution_count": 391,
     "metadata": {},
     "output_type": "execute_result"
    },
    {
     "data": {
      "image/png": "[encoded data removed]",
      "text/plain": [
       "<Figure size 640x480 with 1 Axes>"
      ]
     },
     "metadata": {},
     "output_type": "display_data"
    }
   ],
   "source": [
    "sell_df['price'].plot.hist(\n",
    "    title='Razporeditev cen',\n",
    "    bins=25, \n",
    "    xlim=[sell_df['price'].min(), sell_df['price'].max()]\n",
    ")"
   ]
  },
  {
   "cell_type": "markdown",
   "id": "b76dca92-f678-4193-9e0d-df71e32fa1ae",
   "metadata": {},
   "source": [
    "Opazimo, da večina nepremičnin, ki so naprodaj, stane do 500.000 evrov. Za boljše razumevanje razporeditve cen bomo oglase razdelili v tri cenovne kategorije: od 0 do 500.000 evrov, od 500.000 do 1.000.000 evrov in od 1.000.000 evrov naprej."
   ]
  },
  {
   "cell_type": "code",
   "execution_count": 392,
   "id": "e7ace28a-2688-4da2-8b7f-2a127d499369",
   "metadata": {},
   "outputs": [
    {
     "data": {
      "text/plain": [
       "<Axes: title={'center': 'Razporeditev cen. Oglasi od 0 do 500.000 evrov'}, ylabel='Frequency'>"
      ]
     },
     "execution_count": 392,
     "metadata": {},
     "output_type": "execute_result"
    },
    {
     "data": {
      "image/png": "[encoded data removed]",
      "text/plain": [
       "<Figure size 640x480 with 1 Axes>"
      ]
     },
     "metadata": {},
     "output_type": "display_data"
    }
   ],
   "source": [
    "first_group = sell_df[sell_df['price'] < 500000]\n",
    "first_group['price'].plot.hist(\n",
    "    title='Razporeditev cen. Oglasi od 0 do 500.000 evrov',\n",
    "    bins=20, \n",
    "    xlim=[first_group['price'].min(), first_group['price'].max()]\n",
    ")"
   ]
  },
  {
   "cell_type": "code",
   "execution_count": 393,
   "id": "b00839f8-85fc-4f45-ac96-dafc74290973",
   "metadata": {},
   "outputs": [
    {
     "data": {
      "text/plain": [
       "<Axes: title={'center': 'Razporeditev cen. Oglasi od 500.000 do 1.000.000 evrov'}, ylabel='Frequency'>"
      ]
     },
     "execution_count": 393,
     "metadata": {},
     "output_type": "execute_result"
    },
    {
     "data": {
      "image/png": "[encoded data removed]",
      "text/plain": [
       "<Figure size 640x480 with 1 Axes>"
      ]
     },
     "metadata": {},
     "output_type": "display_data"
    }
   ],
   "source": [
    "second_group = sell_df[(sell_df['price'] >= 500000) & (sell_df['price'] < 1000000)]\n",
    "second_group['price'].plot.hist(\n",
    "    title='Razporeditev cen. Oglasi od 500.000 do 1.000.000 evrov',\n",
    "    bins=20, \n",
    "    xlim=[second_group['price'].min(), second_group['price'].max()]\n",
    ")"
   ]
  },
  {
   "cell_type": "code",
   "execution_count": 394,
   "id": "a11b9837-847d-4449-883c-e6ce2b9c5e7b",
   "metadata": {},
   "outputs": [
    {
     "data": {
      "text/plain": [
       "<Axes: title={'center': 'Razporeditev cen. Oglasi od 1.000.000 evrov naprej'}, ylabel='Frequency'>"
      ]
     },
     "execution_count": 394,
     "metadata": {},
     "output_type": "execute_result"
    },
    {
     "data": {
      "image/png": "[encoded data removed]",
      "text/plain": [
       "<Figure size 640x480 with 1 Axes>"
      ]
     },
     "metadata": {},
     "output_type": "display_data"
    }
   ],
   "source": [
    "third_group = sell_df[sell_df['price'] > 1000000]\n",
    "third_group['price'].plot.hist(\n",
    "    title='Razporeditev cen. Oglasi od 1.000.000 evrov naprej',\n",
    "    bins=10, \n",
    "    xlim=[third_group['price'].min(), third_group['price'].max()]\n",
    ")"
   ]
  },
  {
   "cell_type": "markdown",
   "id": "17064a19-bd37-41c5-bb00-1655117604a8",
   "metadata": {},
   "source": [
    "### Sklep"
   ]
  },
  {
   "cell_type": "markdown",
   "id": "e4805fcc-4f56-4c06-9927-adffe1cbd87b",
   "metadata": {},
   "source": [
    "Ni težko opaziti, da število oglasov eksponentno pada z rastjo cene nepremičnine.\n",
    "\n",
    "Če obravnavamo cenovne skupine posamezno, lahko v prvi skupini opazimo normalno porazdelitev, v drugi linearno padanje, v tretji pa eksponentno padanje ponudb z rastjo cene."
   ]
  },
  {
   "cell_type": "markdown",
   "id": "aa4e1cd3-355e-4adc-8f56-63f53602c8a1",
   "metadata": {},
   "source": [
    "### Razporeditev cen (oddaja)"
   ]
  },
  {
   "cell_type": "markdown",
   "id": "13dbb871-38c2-4a51-a7de-490cd7e1cb25",
   "metadata": {},
   "source": [
    "Spet si oglejmo 5 najdražjih in 5 najcenejših ponudb."
   ]
  },
  {
   "cell_type": "code",
   "execution_count": 395,
   "id": "8720f718-53a6-4289-a864-d529393ae222",
   "metadata": {},
   "outputs": [
    {
     "data": {
      "text/html": [
       "<div>\n",
       "<style scoped>\n",
       "    .dataframe tbody tr th:only-of-type {\n",
       "        vertical-align: middle;\n",
       "    }\n",
       "\n",
       "    .dataframe tbody tr th {\n",
       "        vertical-align: top;\n",
       "    }\n",
       "\n",
       "    .dataframe thead th {\n",
       "        text-align: right;\n",
       "    }\n",
       "</style>\n",
       "<table border=\"1\" class=\"dataframe\">\n",
       "  <thead>\n",
       "    <tr style=\"text-align: right;\">\n",
       "      <th></th>\n",
       "      <th>ad_type</th>\n",
       "      <th>real_estate_type</th>\n",
       "      <th>region</th>\n",
       "      <th>city</th>\n",
       "      <th>type</th>\n",
       "      <th>living_area</th>\n",
       "      <th>land_area</th>\n",
       "      <th>floor</th>\n",
       "      <th>building_year</th>\n",
       "      <th>price</th>\n",
       "      <th>seller</th>\n",
       "    </tr>\n",
       "    <tr>\n",
       "      <th>id</th>\n",
       "      <th></th>\n",
       "      <th></th>\n",
       "      <th></th>\n",
       "      <th></th>\n",
       "      <th></th>\n",
       "      <th></th>\n",
       "      <th></th>\n",
       "      <th></th>\n",
       "      <th></th>\n",
       "      <th></th>\n",
       "      <th></th>\n",
       "    </tr>\n",
       "  </thead>\n",
       "  <tbody>\n",
       "    <tr>\n",
       "      <th>6531465</th>\n",
       "      <td>oddaja</td>\n",
       "      <td>stanovanje</td>\n",
       "      <td>ljubljana mesto</td>\n",
       "      <td>ljubljana</td>\n",
       "      <td>4-sobno</td>\n",
       "      <td>150.00</td>\n",
       "      <td>NaN</td>\n",
       "      <td>NaN</td>\n",
       "      <td>2022</td>\n",
       "      <td>7700.0</td>\n",
       "      <td>stoja trade, d.o.o., ljubljana</td>\n",
       "    </tr>\n",
       "    <tr>\n",
       "      <th>6836618</th>\n",
       "      <td>oddaja</td>\n",
       "      <td>stanovanje</td>\n",
       "      <td>ljubljana mesto</td>\n",
       "      <td>ljubljana</td>\n",
       "      <td>4-sobno</td>\n",
       "      <td>200.00</td>\n",
       "      <td>NaN</td>\n",
       "      <td>NaN</td>\n",
       "      <td>2024</td>\n",
       "      <td>6000.0</td>\n",
       "      <td>zasebna ponudba</td>\n",
       "    </tr>\n",
       "    <tr>\n",
       "      <th>6790043</th>\n",
       "      <td>oddaja</td>\n",
       "      <td>hiša</td>\n",
       "      <td>ljubljana mesto</td>\n",
       "      <td>ljubljana</td>\n",
       "      <td>samostojna</td>\n",
       "      <td>473.00</td>\n",
       "      <td>770.0</td>\n",
       "      <td>NaN</td>\n",
       "      <td>2007</td>\n",
       "      <td>6000.0</td>\n",
       "      <td>stoja trade, d.o.o., ljubljana</td>\n",
       "    </tr>\n",
       "    <tr>\n",
       "      <th>6521290</th>\n",
       "      <td>oddaja</td>\n",
       "      <td>stanovanje</td>\n",
       "      <td>ljubljana mesto</td>\n",
       "      <td>ljubljana</td>\n",
       "      <td>3-sobno</td>\n",
       "      <td>150.00</td>\n",
       "      <td>NaN</td>\n",
       "      <td>NaN</td>\n",
       "      <td>2022</td>\n",
       "      <td>5500.0</td>\n",
       "      <td>stoja trade, d.o.o., ljubljana</td>\n",
       "    </tr>\n",
       "    <tr>\n",
       "      <th>6694221</th>\n",
       "      <td>oddaja</td>\n",
       "      <td>hiša</td>\n",
       "      <td>ljubljana mesto</td>\n",
       "      <td>ljubljana</td>\n",
       "      <td>samostojna</td>\n",
       "      <td>247.93</td>\n",
       "      <td>375.0</td>\n",
       "      <td>NaN</td>\n",
       "      <td>2023</td>\n",
       "      <td>4990.0</td>\n",
       "      <td>stoja trade, d.o.o., ljubljana</td>\n",
       "    </tr>\n",
       "  </tbody>\n",
       "</table>\n",
       "</div>"
      ],
      "text/plain": [
       "        ad_type real_estate_type           region       city        type  \\\n",
       "id                                                                         \n",
       "6531465  oddaja       stanovanje  ljubljana mesto  ljubljana     4-sobno   \n",
       "6836618  oddaja       stanovanje  ljubljana mesto  ljubljana     4-sobno   \n",
       "6790043  oddaja             hiša  ljubljana mesto  ljubljana  samostojna   \n",
       "6521290  oddaja       stanovanje  ljubljana mesto  ljubljana     3-sobno   \n",
       "6694221  oddaja             hiša  ljubljana mesto  ljubljana  samostojna   \n",
       "\n",
       "         living_area  land_area floor  building_year   price  \\\n",
       "id                                                             \n",
       "6531465       150.00        NaN   NaN           2022  7700.0   \n",
       "6836618       200.00        NaN   NaN           2024  6000.0   \n",
       "6790043       473.00      770.0   NaN           2007  6000.0   \n",
       "6521290       150.00        NaN   NaN           2022  5500.0   \n",
       "6694221       247.93      375.0   NaN           2023  4990.0   \n",
       "\n",
       "                                 seller  \n",
       "id                                       \n",
       "6531465  stoja trade, d.o.o., ljubljana  \n",
       "6836618                 zasebna ponudba  \n",
       "6790043  stoja trade, d.o.o., ljubljana  \n",
       "6521290  stoja trade, d.o.o., ljubljana  \n",
       "6694221  stoja trade, d.o.o., ljubljana  "
      ]
     },
     "execution_count": 395,
     "metadata": {},
     "output_type": "execute_result"
    }
   ],
   "source": [
    "rent_df.sort_values('price', ascending=False).head(5)"
   ]
  },
  {
   "cell_type": "code",
   "execution_count": 396,
   "id": "347d90bf-7bd4-44cb-bff6-892a67c272e1",
   "metadata": {},
   "outputs": [
    {
     "data": {
      "text/html": [
       "<div>\n",
       "<style scoped>\n",
       "    .dataframe tbody tr th:only-of-type {\n",
       "        vertical-align: middle;\n",
       "    }\n",
       "\n",
       "    .dataframe tbody tr th {\n",
       "        vertical-align: top;\n",
       "    }\n",
       "\n",
       "    .dataframe thead th {\n",
       "        text-align: right;\n",
       "    }\n",
       "</style>\n",
       "<table border=\"1\" class=\"dataframe\">\n",
       "  <thead>\n",
       "    <tr style=\"text-align: right;\">\n",
       "      <th></th>\n",
       "      <th>ad_type</th>\n",
       "      <th>real_estate_type</th>\n",
       "      <th>region</th>\n",
       "      <th>city</th>\n",
       "      <th>type</th>\n",
       "      <th>living_area</th>\n",
       "      <th>land_area</th>\n",
       "      <th>floor</th>\n",
       "      <th>building_year</th>\n",
       "      <th>price</th>\n",
       "      <th>seller</th>\n",
       "    </tr>\n",
       "    <tr>\n",
       "      <th>id</th>\n",
       "      <th></th>\n",
       "      <th></th>\n",
       "      <th></th>\n",
       "      <th></th>\n",
       "      <th></th>\n",
       "      <th></th>\n",
       "      <th></th>\n",
       "      <th></th>\n",
       "      <th></th>\n",
       "      <th></th>\n",
       "      <th></th>\n",
       "    </tr>\n",
       "  </thead>\n",
       "  <tbody>\n",
       "    <tr>\n",
       "      <th>6680231</th>\n",
       "      <td>oddaja</td>\n",
       "      <td>stanovanje</td>\n",
       "      <td>ljubljana mesto</td>\n",
       "      <td>ljubljana</td>\n",
       "      <td>soba</td>\n",
       "      <td>16.0</td>\n",
       "      <td>NaN</td>\n",
       "      <td>NaN</td>\n",
       "      <td>1980</td>\n",
       "      <td>80.0</td>\n",
       "      <td>zasebna ponudba</td>\n",
       "    </tr>\n",
       "    <tr>\n",
       "      <th>6754209</th>\n",
       "      <td>oddaja</td>\n",
       "      <td>hiša</td>\n",
       "      <td>ljubljana mesto</td>\n",
       "      <td>ljubljana</td>\n",
       "      <td>samostojna</td>\n",
       "      <td>450.0</td>\n",
       "      <td>800.0</td>\n",
       "      <td>p+1</td>\n",
       "      <td>2000</td>\n",
       "      <td>95.0</td>\n",
       "      <td>zasebna ponudba</td>\n",
       "    </tr>\n",
       "    <tr>\n",
       "      <th>6780970</th>\n",
       "      <td>oddaja</td>\n",
       "      <td>stanovanje</td>\n",
       "      <td>dolenjska</td>\n",
       "      <td>dolenja nemška vas</td>\n",
       "      <td>drugo</td>\n",
       "      <td>100.0</td>\n",
       "      <td>1500.0</td>\n",
       "      <td>p/p</td>\n",
       "      <td>2002</td>\n",
       "      <td>100.0</td>\n",
       "      <td>zasebna ponudba</td>\n",
       "    </tr>\n",
       "    <tr>\n",
       "      <th>6744326</th>\n",
       "      <td>oddaja</td>\n",
       "      <td>stanovanje</td>\n",
       "      <td>ljubljana mesto</td>\n",
       "      <td>ljubljana</td>\n",
       "      <td>soba</td>\n",
       "      <td>10.0</td>\n",
       "      <td>NaN</td>\n",
       "      <td>NaN</td>\n",
       "      <td>1977</td>\n",
       "      <td>120.0</td>\n",
       "      <td>zasebna ponudba</td>\n",
       "    </tr>\n",
       "    <tr>\n",
       "      <th>6689809</th>\n",
       "      <td>oddaja</td>\n",
       "      <td>stanovanje</td>\n",
       "      <td>posavska</td>\n",
       "      <td>sevnica</td>\n",
       "      <td>2-sobno</td>\n",
       "      <td>60.0</td>\n",
       "      <td>NaN</td>\n",
       "      <td>3/4</td>\n",
       "      <td>2005</td>\n",
       "      <td>120.0</td>\n",
       "      <td>zasebna ponudba</td>\n",
       "    </tr>\n",
       "  </tbody>\n",
       "</table>\n",
       "</div>"
      ],
      "text/plain": [
       "        ad_type real_estate_type           region                city  \\\n",
       "id                                                                      \n",
       "6680231  oddaja       stanovanje  ljubljana mesto           ljubljana   \n",
       "6754209  oddaja             hiša  ljubljana mesto           ljubljana   \n",
       "6780970  oddaja       stanovanje        dolenjska  dolenja nemška vas   \n",
       "6744326  oddaja       stanovanje  ljubljana mesto           ljubljana   \n",
       "6689809  oddaja       stanovanje         posavska             sevnica   \n",
       "\n",
       "               type  living_area  land_area floor  building_year  price  \\\n",
       "id                                                                        \n",
       "6680231        soba         16.0        NaN   NaN           1980   80.0   \n",
       "6754209  samostojna        450.0      800.0   p+1           2000   95.0   \n",
       "6780970       drugo        100.0     1500.0   p/p           2002  100.0   \n",
       "6744326        soba         10.0        NaN   NaN           1977  120.0   \n",
       "6689809     2-sobno         60.0        NaN   3/4           2005  120.0   \n",
       "\n",
       "                  seller  \n",
       "id                        \n",
       "6680231  zasebna ponudba  \n",
       "6754209  zasebna ponudba  \n",
       "6780970  zasebna ponudba  \n",
       "6744326  zasebna ponudba  \n",
       "6689809  zasebna ponudba  "
      ]
     },
     "execution_count": 396,
     "metadata": {},
     "output_type": "execute_result"
    }
   ],
   "source": [
    "rent_df.sort_values('price', ascending=True).head(5)"
   ]
  },
  {
   "cell_type": "markdown",
   "id": "4e61a78f-e782-4734-ae6a-c90490f9d4d2",
   "metadata": {},
   "source": [
    "Izračunajmo razliko med najdražjim in najcenejšim oglasom."
   ]
  },
  {
   "cell_type": "code",
   "execution_count": 397,
   "id": "41dec2e4-a98a-426b-a9c5-1755669ea718",
   "metadata": {},
   "outputs": [
    {
     "name": "stdout",
     "output_type": "stream",
     "text": [
      "Razlika je 7620.0 evrov.\n"
     ]
    }
   ],
   "source": [
    "print(f'Razlika je {float(rent_df['price'].max() - rent_df['price'].min())} evrov.')"
   ]
  },
  {
   "cell_type": "markdown",
   "id": "73bfbfe2-3db4-46f7-a0e0-b8c793100c62",
   "metadata": {},
   "source": [
    "Oglejmo si splošno razporeditev cen."
   ]
  },
  {
   "cell_type": "code",
   "execution_count": 398,
   "id": "07489144-1b7c-401e-823e-9b0f40433507",
   "metadata": {},
   "outputs": [
    {
     "data": {
      "text/plain": [
       "<Axes: title={'center': 'Razporeditev cen'}, ylabel='Frequency'>"
      ]
     },
     "execution_count": 398,
     "metadata": {},
     "output_type": "execute_result"
    },
    {
     "data": {
      "image/png": "[encoded data removed]",
      "text/plain": [
       "<Figure size 640x480 with 1 Axes>"
      ]
     },
     "metadata": {},
     "output_type": "display_data"
    }
   ],
   "source": [
    "rent_df['price'].plot.hist(\n",
    "    title='Razporeditev cen',\n",
    "    bins=20, \n",
    "    xlim=[rent_df['price'].min(), rent_df['price'].max()]\n",
    ")"
   ]
  },
  {
   "cell_type": "markdown",
   "id": "1377f745-ce99-4bf1-a749-20bca5c56b9d",
   "metadata": {},
   "source": [
    "Opazimo, da je večina oglasov za najem stanovanj v cenovnem razponu od 0 do 1000 evrov/mesec, zato bomo podrobneje pogledali razporeditev oglasov v tem cenovnem razponu."
   ]
  },
  {
   "cell_type": "code",
   "execution_count": 399,
   "id": "447e499c-10e6-4805-8114-5452fef6f54c",
   "metadata": {},
   "outputs": [
    {
     "data": {
      "text/plain": [
       "<Axes: title={'center': 'Razporeditev cen. Oglasi od 0 do 1000 evrov'}, ylabel='Frequency'>"
      ]
     },
     "execution_count": 399,
     "metadata": {},
     "output_type": "execute_result"
    },
    {
     "data": {
      "image/png": "[encoded data removed]",
      "text/plain": [
       "<Figure size 640x480 with 1 Axes>"
      ]
     },
     "metadata": {},
     "output_type": "display_data"
    }
   ],
   "source": [
    "first_group = rent_df[rent_df['price'] <= 1000]\n",
    "first_group['price'].plot.hist(\n",
    "    title='Razporeditev cen. Oglasi od 0 do 1000 evrov',\n",
    "    bins=20, \n",
    "    xlim=[first_group['price'].min(), first_group['price'].max()]\n",
    ")"
   ]
  },
  {
   "cell_type": "markdown",
   "id": "3252c1dd-b638-474f-b074-7d053463348e",
   "metadata": {},
   "source": [
    "### Sklep"
   ]
  },
  {
   "cell_type": "markdown",
   "id": "0dda1932-66e8-4041-91ef-11daabb3ec18",
   "metadata": {},
   "source": [
    "V razporeditvi cen za najem nepremičnin vidimo podobno sliko kot pri cenah za prodajo. S povečanjem cene število ponudb eksponentno pada. V skupini oglasov s ceno od 200 do 1000 evrov opazimo približno enakomerno razporeditev."
   ]
  },
  {
   "cell_type": "markdown",
   "id": "be301db8-220a-4f79-8d0f-423c9488d751",
   "metadata": {},
   "source": [
    "##  Povprečne in mediane cene"
   ]
  },
  {
   "cell_type": "markdown",
   "id": "6d8a22ff-f928-4682-8442-57252e09e8d4",
   "metadata": {},
   "source": [
    "V tem podrazdelku bomo izračunali in primerjali povprečne in mediane cene nepremičnin. Analiza bo segmentirana po tipu nepremičnine (hiše, stanovanja) in tipu oglasa (prodaja, najem), da bi izpostavili morebitne razlike. Razumevanje teh mer centralne tendence pomaga oceniti tipične tržne cene."
   ]
  },
  {
   "cell_type": "markdown",
   "id": "ddf91721-22ee-4561-93ce-bf6581881836",
   "metadata": {},
   "source": [
    "### Povprečne in mediane cene (prodaja)"
   ]
  },
  {
   "cell_type": "markdown",
   "id": "e43bd270-b32c-4be5-9cb6-1fbbdff3c51d",
   "metadata": {},
   "source": [
    "Izračunajmo povprečne in mediane vrednosti cene prodaje hiš in stanovanj."
   ]
  },
  {
   "cell_type": "code",
   "execution_count": 400,
   "id": "7a159703-d381-42f0-bb75-26e5eda33287",
   "metadata": {},
   "outputs": [
    {
     "data": {
      "text/html": [
       "<div>\n",
       "<style scoped>\n",
       "    .dataframe tbody tr th:only-of-type {\n",
       "        vertical-align: middle;\n",
       "    }\n",
       "\n",
       "    .dataframe tbody tr th {\n",
       "        vertical-align: top;\n",
       "    }\n",
       "\n",
       "    .dataframe thead th {\n",
       "        text-align: right;\n",
       "    }\n",
       "</style>\n",
       "<table border=\"1\" class=\"dataframe\">\n",
       "  <thead>\n",
       "    <tr style=\"text-align: right;\">\n",
       "      <th></th>\n",
       "      <th>mean</th>\n",
       "      <th>median</th>\n",
       "    </tr>\n",
       "    <tr>\n",
       "      <th>real_estate_type</th>\n",
       "      <th></th>\n",
       "      <th></th>\n",
       "    </tr>\n",
       "  </thead>\n",
       "  <tbody>\n",
       "    <tr>\n",
       "      <th>hiša</th>\n",
       "      <td>427404.919205</td>\n",
       "      <td>299000.0</td>\n",
       "    </tr>\n",
       "    <tr>\n",
       "      <th>stanovanje</th>\n",
       "      <td>298716.229342</td>\n",
       "      <td>244505.5</td>\n",
       "    </tr>\n",
       "  </tbody>\n",
       "</table>\n",
       "</div>"
      ],
      "text/plain": [
       "                           mean    median\n",
       "real_estate_type                         \n",
       "hiša              427404.919205  299000.0\n",
       "stanovanje        298716.229342  244505.5"
      ]
     },
     "execution_count": 400,
     "metadata": {},
     "output_type": "execute_result"
    }
   ],
   "source": [
    "sell_df.groupby('real_estate_type')['price'].agg(['mean', 'median'])"
   ]
  },
  {
   "cell_type": "markdown",
   "id": "0ff8a378-9d58-4cde-8097-8dfca4b391ab",
   "metadata": {},
   "source": [
    "Ločeno si bomo ogledali povprečne in mediane cene samostojnih hiš ter 2-3 sobnih stanovanj, saj so po skromnem mnenju avtorja to najbolj zaželeni tipi nepremičnin."
   ]
  },
  {
   "cell_type": "markdown",
   "id": "89faefa7-1d51-4a2d-bea6-b92a83aab14c",
   "metadata": {},
   "source": [
    "**Samostojne hiše:**"
   ]
  },
  {
   "cell_type": "code",
   "execution_count": 405,
   "id": "243cbc79-c7d3-4de1-bb00-8bfadf113175",
   "metadata": {},
   "outputs": [
    {
     "data": {
      "text/plain": [
       "mean      427708.903907\n",
       "median    285500.000000\n",
       "Name: price, dtype: float64"
      ]
     },
     "execution_count": 405,
     "metadata": {},
     "output_type": "execute_result"
    }
   ],
   "source": [
    "single_homes = sell_df[(sell_df['real_estate_type'] == 'hiša') & (sell_df['type'] == 'samostojna')]\n",
    "single_homes['price'].agg(['mean', 'median'])"
   ]
  },
  {
   "cell_type": "markdown",
   "id": "cb39d466-c840-43ac-8403-10f09dfc3702",
   "metadata": {},
   "source": [
    "**2-sobni stanovanja:**"
   ]
  },
  {
   "cell_type": "code",
   "execution_count": 417,
   "id": "7e1312c1-0505-49ad-900c-9a506635a570",
   "metadata": {},
   "outputs": [
    {
     "data": {
      "text/plain": [
       "mean      202201.679654\n",
       "median    180000.000000\n",
       "Name: price, dtype: float64"
      ]
     },
     "execution_count": 417,
     "metadata": {},
     "output_type": "execute_result"
    }
   ],
   "source": [
    "two_room_apartments = sell_df[(sell_df['real_estate_type'] == 'stanovanje') & ((sell_df['type'] == '2-sobno') | (sell_df['type'] == '2,5-sobno'))]\n",
    "two_room_apartments['price'].agg(['mean', 'median'])"
   ]
  },
  {
   "cell_type": "markdown",
   "id": "aac63402-6980-4dc8-9235-c1ac4e336f41",
   "metadata": {},
   "source": [
    "**3-sobni stanovanja:**"
   ]
  },
  {
   "cell_type": "code",
   "execution_count": 420,
   "id": "df4994ec-5dbc-4fa0-8e93-ebc76590b10d",
   "metadata": {},
   "outputs": [
    {
     "data": {
      "text/plain": [
       "mean      302934.814282\n",
       "median    264900.000000\n",
       "Name: price, dtype: float64"
      ]
     },
     "execution_count": 420,
     "metadata": {},
     "output_type": "execute_result"
    }
   ],
   "source": [
    "three_room_apartments = sell_df[(sell_df['real_estate_type'] == 'stanovanje') & ((sell_df['type'] == '3-sobno') | (sell_df['type'] == '3,5-sobno'))]\n",
    "three_room_apartments['price'].agg(['mean', 'median'])"
   ]
  },
  {
   "cell_type": "markdown",
   "id": "91a74329-aa19-48b2-a6be-e4129ebd58d4",
   "metadata": {},
   "source": [
    "### Povprečne in mediane cene (oddaja)"
   ]
  },
  {
   "cell_type": "markdown",
   "id": "e58f793b-7cf9-4470-913e-46c64a255f42",
   "metadata": {},
   "source": [
    "Izračunajmo povprečne in mediane vrednosti cene najema hiš in stanovanj."
   ]
  },
  {
   "cell_type": "code",
   "execution_count": 401,
   "id": "35077f3c-d452-47b7-94ad-e24cfbcce04f",
   "metadata": {},
   "outputs": [
    {
     "data": {
      "text/html": [
       "<div>\n",
       "<style scoped>\n",
       "    .dataframe tbody tr th:only-of-type {\n",
       "        vertical-align: middle;\n",
       "    }\n",
       "\n",
       "    .dataframe tbody tr th {\n",
       "        vertical-align: top;\n",
       "    }\n",
       "\n",
       "    .dataframe thead th {\n",
       "        text-align: right;\n",
       "    }\n",
       "</style>\n",
       "<table border=\"1\" class=\"dataframe\">\n",
       "  <thead>\n",
       "    <tr style=\"text-align: right;\">\n",
       "      <th></th>\n",
       "      <th>mean</th>\n",
       "      <th>median</th>\n",
       "    </tr>\n",
       "    <tr>\n",
       "      <th>real_estate_type</th>\n",
       "      <th></th>\n",
       "      <th></th>\n",
       "    </tr>\n",
       "  </thead>\n",
       "  <tbody>\n",
       "    <tr>\n",
       "      <th>hiša</th>\n",
       "      <td>1898.618705</td>\n",
       "      <td>1800.0</td>\n",
       "    </tr>\n",
       "    <tr>\n",
       "      <th>stanovanje</th>\n",
       "      <td>979.948566</td>\n",
       "      <td>750.0</td>\n",
       "    </tr>\n",
       "  </tbody>\n",
       "</table>\n",
       "</div>"
      ],
      "text/plain": [
       "                         mean  median\n",
       "real_estate_type                     \n",
       "hiša              1898.618705  1800.0\n",
       "stanovanje         979.948566   750.0"
      ]
     },
     "execution_count": 401,
     "metadata": {},
     "output_type": "execute_result"
    }
   ],
   "source": [
    "rent_df.groupby('real_estate_type')['price'].agg(['mean', 'median'])"
   ]
  },
  {
   "cell_type": "markdown",
   "id": "f9385afb-f04a-4124-a0f3-e927f725f375",
   "metadata": {},
   "source": [
    "V tem razdelku bomo posebej pregledali povprečne in mediane cene najema sob, garsonjer in enosobnih stanovanj, saj so te vrste nepremičnin najbolj primerne za študente."
   ]
  },
  {
   "cell_type": "markdown",
   "id": "7fb4fb4b-0204-455f-a64e-e8aefb0a3b8f",
   "metadata": {},
   "source": [
    "**Sobe:**"
   ]
  },
  {
   "cell_type": "code",
   "execution_count": 428,
   "id": "3a1da2d2-e47e-4dc8-8df6-802441e84f30",
   "metadata": {},
   "outputs": [
    {
     "data": {
      "text/plain": [
       "mean      261.875\n",
       "median    250.000\n",
       "Name: price, dtype: float64"
      ]
     },
     "execution_count": 428,
     "metadata": {},
     "output_type": "execute_result"
    }
   ],
   "source": [
    "rooms = rent_df[(rent_df['real_estate_type'] == 'stanovanje') & (rent_df['type'] == 'soba')]\n",
    "rooms['price'].agg(['mean', 'median'])"
   ]
  },
  {
   "cell_type": "markdown",
   "id": "ffce2e5f-28c5-4d1b-95f3-adb6bbfedbf4",
   "metadata": {},
   "source": [
    "**Garsonjere:**"
   ]
  },
  {
   "cell_type": "code",
   "execution_count": 430,
   "id": "526152bb-a61d-404e-9f97-1e6597e8e6d4",
   "metadata": {},
   "outputs": [
    {
     "data": {
      "text/plain": [
       "mean      548.41958\n",
       "median    560.00000\n",
       "Name: price, dtype: float64"
      ]
     },
     "execution_count": 430,
     "metadata": {},
     "output_type": "execute_result"
    }
   ],
   "source": [
    "studios = rent_df[(rent_df['real_estate_type'] == 'stanovanje') & (rent_df['type'] == 'garsonjera')]\n",
    "studios['price'].agg(['mean', 'median'])"
   ]
  },
  {
   "cell_type": "markdown",
   "id": "170181b2-9a92-440b-99a9-e99f28e43f3c",
   "metadata": {},
   "source": [
    "**1-sobni stanovanja:**"
   ]
  },
  {
   "cell_type": "code",
   "execution_count": 434,
   "id": "8faa9532-a2b2-46dd-95a0-e364633abef7",
   "metadata": {},
   "outputs": [
    {
     "data": {
      "text/plain": [
       "mean      600.758929\n",
       "median    600.000000\n",
       "Name: price, dtype: float64"
      ]
     },
     "execution_count": 434,
     "metadata": {},
     "output_type": "execute_result"
    }
   ],
   "source": [
    "one_room_apartments = rent_df[(rent_df['real_estate_type'] == 'stanovanje') & (rent_df['type'] == '1-sobno')]\n",
    "one_room_apartments['price'].agg(['mean', 'median'])"
   ]
  },
  {
   "cell_type": "markdown",
   "id": "d0493e13-de12-4de2-b25d-40584583c7f6",
   "metadata": {},
   "source": [
    "## Regionalne razlike v cenah"
   ]
  },
  {
   "cell_type": "code",
   "execution_count": null,
   "id": "e119ef14-213e-4c70-b037-9113fe93d4cc",
   "metadata": {},
   "outputs": [],
   "source": []
  }
 ],
 "metadata": {
  "kernelspec": {
   "display_name": "Python 3 (ipykernel)",
   "language": "python",
   "name": "python3"
  },
  "language_info": {
   "codemirror_mode": {
    "name": "ipython",
    "version": 3
   },
   "file_extension": ".py",
   "mimetype": "text/x-python",
   "name": "python",
   "nbconvert_exporter": "python",
   "pygments_lexer": "ipython3",
   "version": "3.12.3"
  }
 },
 "nbformat": 4,
 "nbformat_minor": 5
}
